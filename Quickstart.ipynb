{
 "cells": [
  {
   "attachments": {},
   "cell_type": "markdown",
   "id": "b8252062-debd-46f3-8574-ab1bea4cca38",
   "metadata": {},
   "source": [
    "# Fashion MNIST test\n",
    "\n",
    "Compare performance of Softmax Regression net vs Pytorch [Quickstart net](https://pytorch.org/tutorials/beginner/basics/quickstart_tutorial.html)."
   ]
  },
  {
   "cell_type": "code",
   "execution_count": 1,
   "id": "5e51b286-84c1-4e0c-ba78-74fc70d361ca",
   "metadata": {
    "tags": []
   },
   "outputs": [],
   "source": [
    "import torch\n",
    "import matplotlib.pyplot as plt\n",
    "import torch.nn.functional as F\n",
    "from torch import nn\n",
    "from PIL import Image\n",
    "from torch.utils.data import DataLoader\n",
    "from torchvision import datasets\n",
    "from torchvision.transforms import ToTensor\n",
    "from torchvision import transforms"
   ]
  },
  {
   "cell_type": "code",
   "execution_count": 2,
   "id": "c4f29ad5",
   "metadata": {},
   "outputs": [
    {
     "name": "stdout",
     "output_type": "stream",
     "text": [
      "Using cuda device\n"
     ]
    }
   ],
   "source": [
    "# Get cpu, gpu or mps device for training.\n",
    "device = (\n",
    "    \"cuda\"\n",
    "    if torch.cuda.is_available()\n",
    "    else \"mps\" # GPU for MacOS devices -> which means... garbage\n",
    "    if torch.backends.mps.is_available()\n",
    "    else \"cpu\"\n",
    ")\n",
    "print(f\"Using {device} device\")\n",
    "\n",
    "transform = transforms.ToPILImage()"
   ]
  },
  {
   "attachments": {},
   "cell_type": "markdown",
   "id": "f9e238f1-df41-4d9c-b185-2b179d61a2d1",
   "metadata": {},
   "source": [
    "# Load Data\n",
    "\n",
    "Fashion MNIST Dataset"
   ]
  },
  {
   "cell_type": "code",
   "execution_count": 3,
   "id": "1be797f2-86dc-4dfa-b9cf-33efceaf77f0",
   "metadata": {
    "tags": []
   },
   "outputs": [],
   "source": [
    "# Download training data from open datasets.\n",
    "training_data = datasets.FashionMNIST(\n",
    "    root=\"data\",\n",
    "    train=True,\n",
    "    download=True,\n",
    "    transform=ToTensor(),\n",
    ")\n",
    "\n",
    "# Download test data from open datasets.\n",
    "test_data = datasets.FashionMNIST(\n",
    "    root=\"data\",\n",
    "    train=False,\n",
    "    download=True,\n",
    "    transform=ToTensor(),\n",
    ")"
   ]
  },
  {
   "cell_type": "code",
   "execution_count": 4,
   "id": "16cc97f4-fb99-4ad3-9636-135f798d092e",
   "metadata": {
    "tags": []
   },
   "outputs": [
    {
     "name": "stdout",
     "output_type": "stream",
     "text": [
      "Training dataset contains: 60000 sample images\n",
      "Test dataset contains: 10000 sample images\n",
      "Shape of X [N, C, H, W]: torch.Size([64, 1, 28, 28])\n",
      "Shape of y: torch.Size([64]) torch.int64\n"
     ]
    }
   ],
   "source": [
    "batch_size = 64\n",
    "n_epochs = 15\n",
    "\n",
    "# Create data loaders.\n",
    "train_dataloader = DataLoader(training_data, batch_size=batch_size)\n",
    "test_dataloader = DataLoader(test_data, batch_size=batch_size)\n",
    "\n",
    "print(f\"Training dataset contains: {len(training_data)} sample images\")\n",
    "print(f\"Test dataset contains: {len(test_data)} sample images\")\n",
    "for X, y in test_dataloader:\n",
    "    print(f\"Shape of X [N, C, H, W]: {X.shape}\")\n",
    "    print(f\"Shape of y: {y.shape} {y.dtype}\")\n",
    "    _, _, HEIGHT, WIDTH = X.shape\n",
    "    break"
   ]
  },
  {
   "cell_type": "code",
   "execution_count": 5,
   "id": "7ee681ff-2485-4b37-aed2-6f650e35d5d5",
   "metadata": {
    "tags": []
   },
   "outputs": [
    {
     "name": "stdout",
     "output_type": "stream",
     "text": [
      "There are 10 classes in training data\n"
     ]
    }
   ],
   "source": [
    "num_classes = len(training_data.classes)\n",
    "print(f\"There are {num_classes} classes in training data\")"
   ]
  },
  {
   "attachments": {},
   "cell_type": "markdown",
   "id": "dcaa1755-4911-4eb2-847a-fcdc19f6fc21",
   "metadata": {},
   "source": [
    "# Model 1"
   ]
  },
  {
   "cell_type": "code",
   "execution_count": 6,
   "id": "a4a5bec2-274a-4c4e-96b1-6c956f967ce4",
   "metadata": {
    "tags": []
   },
   "outputs": [],
   "source": [
    "# Define model\n",
    "class NeuralNetwork_1(nn.Module):\n",
    "    def __init__(self, num_outputs):\n",
    "        super().__init__()\n",
    "        self.net = nn.Sequential(\n",
    "            nn.Flatten(),\n",
    "            nn.Linear(in_features=HEIGHT*WIDTH, out_features=num_outputs)\n",
    "        )\n",
    "\n",
    "    def forward(self, x):\n",
    "        # return F.softmax(self.net(x), dim=1) # This has lower accuracy in test set\n",
    "        return F.log_softmax(self.net(x), dim=1)"
   ]
  },
  {
   "cell_type": "code",
   "execution_count": 7,
   "id": "e2b499dc-9e2b-486f-a52a-356fef90dee8",
   "metadata": {
    "tags": []
   },
   "outputs": [
    {
     "name": "stdout",
     "output_type": "stream",
     "text": [
      "NeuralNetwork_1(\n",
      "  (net): Sequential(\n",
      "    (0): Flatten(start_dim=1, end_dim=-1)\n",
      "    (1): Linear(in_features=784, out_features=10, bias=True)\n",
      "  )\n",
      ")\n"
     ]
    }
   ],
   "source": [
    "model_1 = NeuralNetwork_1(num_classes).to(device)\n",
    "print(model_1)"
   ]
  },
  {
   "cell_type": "code",
   "execution_count": 8,
   "id": "9e0601dd-4642-4f48-9a2f-ef82140e1dec",
   "metadata": {
    "tags": []
   },
   "outputs": [
    {
     "name": "stdout",
     "output_type": "stream",
     "text": [
      "Total number of model parameters: 7850\n"
     ]
    }
   ],
   "source": [
    "total_params = sum(\n",
    "    param.numel() for param in model_1.parameters()\n",
    ")\n",
    "print(f\"Total number of model parameters: {total_params}\")"
   ]
  },
  {
   "attachments": {},
   "cell_type": "markdown",
   "id": "02839fff-1187-451c-8c52-3c0bf7de7318",
   "metadata": {},
   "source": [
    "# Training"
   ]
  },
  {
   "cell_type": "code",
   "execution_count": 9,
   "id": "afda2efe-b403-4e3b-947f-abb8747be646",
   "metadata": {
    "tags": []
   },
   "outputs": [],
   "source": [
    "def train(dataloader, model, loss_fn, optimizer):\n",
    "    size = len(dataloader.dataset)\n",
    "    model.train()\n",
    "    for batch, (X, y) in enumerate(dataloader):\n",
    "        X, y = X.to(device), y.to(device)\n",
    "\n",
    "        # Compute prediction error\n",
    "        pred = model(X)\n",
    "        loss = loss_fn(pred, y)\n",
    "\n",
    "        # Backpropagation\n",
    "        optimizer.zero_grad()\n",
    "        loss.backward()\n",
    "        optimizer.step()\n",
    "\n",
    "        if batch % 100 == 0:\n",
    "            loss, current = loss.item(), (batch + 1) * len(X)\n",
    "            print(f\"loss: {loss:>7f}  [{current:>5d}/{size:>5d}]\")"
   ]
  },
  {
   "cell_type": "code",
   "execution_count": 10,
   "id": "79487fca-91db-4f32-a70b-20445c69e6fd",
   "metadata": {
    "tags": []
   },
   "outputs": [],
   "source": [
    "def test(dataloader, model, loss_fn):\n",
    "    size = len(dataloader.dataset)\n",
    "    num_batches = len(dataloader)\n",
    "    model.eval()\n",
    "    test_loss, correct = 0, 0\n",
    "    with torch.no_grad():\n",
    "        for X, y in dataloader:\n",
    "            X, y = X.to(device), y.to(device)\n",
    "            pred = model(X)\n",
    "            test_loss += loss_fn(pred, y).item()\n",
    "            correct += (pred.argmax(1) == y).type(torch.float).sum().item()\n",
    "    test_loss /= num_batches\n",
    "    correct /= size\n",
    "    print(f\"Test Error: \\n Accuracy: {(100*correct):>0.1f}%, Avg loss: {test_loss:>8f} \\n\")"
   ]
  },
  {
   "attachments": {},
   "cell_type": "markdown",
   "id": "23188e47",
   "metadata": {},
   "source": [
    "If we use CrossEntropy."
   ]
  },
  {
   "cell_type": "code",
   "execution_count": 11,
   "id": "59ae9354-0055-4dae-ac86-c19ee83c9412",
   "metadata": {
    "tags": []
   },
   "outputs": [
    {
     "name": "stdout",
     "output_type": "stream",
     "text": [
      "Epoch 1\n",
      "-------------------------------\n",
      "loss: 2.296582  [   64/60000]\n",
      "loss: 2.137026  [ 6464/60000]\n",
      "loss: 1.949960  [12864/60000]\n",
      "loss: 1.857282  [19264/60000]\n",
      "loss: 1.667297  [25664/60000]\n",
      "loss: 1.593304  [32064/60000]\n",
      "loss: 1.562110  [38464/60000]\n",
      "loss: 1.465988  [44864/60000]\n",
      "loss: 1.497485  [51264/60000]\n",
      "loss: 1.324743  [57664/60000]\n",
      "Test Error: \n",
      " Accuracy: 65.5%, Avg loss: 1.353518 \n",
      "\n",
      "Epoch 2\n",
      "-------------------------------\n",
      "loss: 1.404376  [   64/60000]\n",
      "loss: 1.389431  [ 6464/60000]\n",
      "loss: 1.221839  [12864/60000]\n",
      "loss: 1.306481  [19264/60000]\n",
      "loss: 1.150309  [25664/60000]\n",
      "loss: 1.171245  [32064/60000]\n",
      "loss: 1.188428  [38464/60000]\n",
      "loss: 1.134912  [44864/60000]\n",
      "loss: 1.196038  [51264/60000]\n",
      "loss: 1.061017  [57664/60000]\n",
      "Test Error: \n",
      " Accuracy: 67.4%, Avg loss: 1.096662 \n",
      "\n",
      "Epoch 3\n",
      "-------------------------------\n",
      "loss: 1.138758  [   64/60000]\n",
      "loss: 1.167754  [ 6464/60000]\n",
      "loss: 0.979161  [12864/60000]\n",
      "loss: 1.124474  [19264/60000]\n",
      "loss: 0.975903  [25664/60000]\n",
      "loss: 1.012007  [32064/60000]\n",
      "loss: 1.043169  [38464/60000]\n",
      "loss: 0.997459  [44864/60000]\n",
      "loss: 1.061577  [51264/60000]\n",
      "loss: 0.947987  [57664/60000]\n",
      "Test Error: \n",
      " Accuracy: 69.2%, Avg loss: 0.978407 \n",
      "\n",
      "Epoch 4\n",
      "-------------------------------\n",
      "loss: 1.007799  [   64/60000]\n",
      "loss: 1.060278  [ 6464/60000]\n",
      "loss: 0.854832  [12864/60000]\n",
      "loss: 1.033217  [19264/60000]\n",
      "loss: 0.888683  [25664/60000]\n",
      "loss: 0.926716  [32064/60000]\n",
      "loss: 0.962668  [38464/60000]\n",
      "loss: 0.920247  [44864/60000]\n",
      "loss: 0.983396  [51264/60000]\n",
      "loss: 0.883195  [57664/60000]\n",
      "Test Error: \n",
      " Accuracy: 70.7%, Avg loss: 0.907964 \n",
      "\n",
      "Epoch 5\n",
      "-------------------------------\n",
      "loss: 0.926591  [   64/60000]\n",
      "loss: 0.993730  [ 6464/60000]\n",
      "loss: 0.777218  [12864/60000]\n",
      "loss: 0.976688  [19264/60000]\n",
      "loss: 0.835292  [25664/60000]\n",
      "loss: 0.871868  [32064/60000]\n",
      "loss: 0.909406  [38464/60000]\n",
      "loss: 0.869858  [44864/60000]\n",
      "loss: 0.931124  [51264/60000]\n",
      "loss: 0.839733  [57664/60000]\n",
      "Test Error: \n",
      " Accuracy: 72.3%, Avg loss: 0.859771 \n",
      "\n",
      "Epoch 6\n",
      "-------------------------------\n",
      "loss: 0.869693  [   64/60000]\n",
      "loss: 0.946537  [ 6464/60000]\n",
      "loss: 0.723188  [12864/60000]\n",
      "loss: 0.937048  [19264/60000]\n",
      "loss: 0.798421  [25664/60000]\n",
      "loss: 0.832545  [32064/60000]\n",
      "loss: 0.870429  [38464/60000]\n",
      "loss: 0.834093  [44864/60000]\n",
      "loss: 0.893199  [51264/60000]\n",
      "loss: 0.807625  [57664/60000]\n",
      "Test Error: \n",
      " Accuracy: 73.3%, Avg loss: 0.823949 \n",
      "\n",
      "Epoch 7\n",
      "-------------------------------\n",
      "loss: 0.826839  [   64/60000]\n",
      "loss: 0.910246  [ 6464/60000]\n",
      "loss: 0.682931  [12864/60000]\n",
      "loss: 0.906943  [19264/60000]\n",
      "loss: 0.770891  [25664/60000]\n",
      "loss: 0.802318  [32064/60000]\n",
      "loss: 0.840043  [38464/60000]\n",
      "loss: 0.807352  [44864/60000]\n",
      "loss: 0.864209  [51264/60000]\n",
      "loss: 0.782340  [57664/60000]\n",
      "Test Error: \n",
      " Accuracy: 74.1%, Avg loss: 0.795846 \n",
      "\n",
      "Epoch 8\n",
      "-------------------------------\n",
      "loss: 0.792987  [   64/60000]\n",
      "loss: 0.880858  [ 6464/60000]\n",
      "loss: 0.651500  [12864/60000]\n",
      "loss: 0.882821  [19264/60000]\n",
      "loss: 0.749208  [25664/60000]\n",
      "loss: 0.777961  [32064/60000]\n",
      "loss: 0.815324  [38464/60000]\n",
      "loss: 0.786634  [44864/60000]\n",
      "loss: 0.841240  [51264/60000]\n",
      "loss: 0.761524  [57664/60000]\n",
      "Test Error: \n",
      " Accuracy: 74.8%, Avg loss: 0.772957 \n",
      "\n",
      "Epoch 9\n",
      "-------------------------------\n",
      "loss: 0.765314  [   64/60000]\n",
      "loss: 0.856213  [ 6464/60000]\n",
      "loss: 0.626098  [12864/60000]\n",
      "loss: 0.862758  [19264/60000]\n",
      "loss: 0.731469  [25664/60000]\n",
      "loss: 0.757673  [32064/60000]\n",
      "loss: 0.794595  [38464/60000]\n",
      "loss: 0.770163  [44864/60000]\n",
      "loss: 0.822561  [51264/60000]\n",
      "loss: 0.743828  [57664/60000]\n",
      "Test Error: \n",
      " Accuracy: 75.4%, Avg loss: 0.753800 \n",
      "\n",
      "Epoch 10\n",
      "-------------------------------\n",
      "loss: 0.742097  [   64/60000]\n",
      "loss: 0.835020  [ 6464/60000]\n",
      "loss: 0.605010  [12864/60000]\n",
      "loss: 0.845619  [19264/60000]\n",
      "loss: 0.716538  [25664/60000]\n",
      "loss: 0.740357  [32064/60000]\n",
      "loss: 0.776812  [38464/60000]\n",
      "loss: 0.756803  [44864/60000]\n",
      "loss: 0.807065  [51264/60000]\n",
      "loss: 0.728423  [57664/60000]\n",
      "Test Error: \n",
      " Accuracy: 76.0%, Avg loss: 0.737430 \n",
      "\n",
      "Epoch 11\n",
      "-------------------------------\n",
      "loss: 0.722214  [   64/60000]\n",
      "loss: 0.816455  [ 6464/60000]\n",
      "loss: 0.587125  [12864/60000]\n",
      "loss: 0.830687  [19264/60000]\n",
      "loss: 0.703693  [25664/60000]\n",
      "loss: 0.725304  [32064/60000]\n",
      "loss: 0.761288  [38464/60000]\n",
      "loss: 0.745792  [44864/60000]\n",
      "loss: 0.794007  [51264/60000]\n",
      "loss: 0.714765  [57664/60000]\n",
      "Test Error: \n",
      " Accuracy: 76.5%, Avg loss: 0.723213 \n",
      "\n",
      "Epoch 12\n",
      "-------------------------------\n",
      "loss: 0.704903  [   64/60000]\n",
      "loss: 0.799956  [ 6464/60000]\n",
      "loss: 0.571690  [12864/60000]\n",
      "loss: 0.817479  [19264/60000]\n",
      "loss: 0.692449  [25664/60000]\n",
      "loss: 0.712030  [32064/60000]\n",
      "loss: 0.747546  [38464/60000]\n",
      "loss: 0.736599  [44864/60000]\n",
      "loss: 0.782861  [51264/60000]\n",
      "loss: 0.702483  [57664/60000]\n",
      "Test Error: \n",
      " Accuracy: 76.9%, Avg loss: 0.710704 \n",
      "\n",
      "Epoch 13\n",
      "-------------------------------\n",
      "loss: 0.689625  [   64/60000]\n",
      "loss: 0.785128  [ 6464/60000]\n",
      "loss: 0.558174  [12864/60000]\n",
      "loss: 0.805657  [19264/60000]\n",
      "loss: 0.682463  [25664/60000]\n",
      "loss: 0.700188  [32064/60000]\n",
      "loss: 0.735246  [38464/60000]\n",
      "loss: 0.728840  [44864/60000]\n",
      "loss: 0.773243  [51264/60000]\n",
      "loss: 0.691315  [57664/60000]\n",
      "Test Error: \n",
      " Accuracy: 77.2%, Avg loss: 0.699578 \n",
      "\n",
      "Epoch 14\n",
      "-------------------------------\n",
      "loss: 0.675988  [   64/60000]\n",
      "loss: 0.771680  [ 6464/60000]\n",
      "loss: 0.546193  [12864/60000]\n",
      "loss: 0.794975  [19264/60000]\n",
      "loss: 0.673489  [25664/60000]\n",
      "loss: 0.689523  [32064/60000]\n",
      "loss: 0.724134  [38464/60000]\n",
      "loss: 0.722231  [44864/60000]\n",
      "loss: 0.764869  [51264/60000]\n",
      "loss: 0.681065  [57664/60000]\n",
      "Test Error: \n",
      " Accuracy: 77.5%, Avg loss: 0.689594 \n",
      "\n",
      "Epoch 15\n",
      "-------------------------------\n",
      "loss: 0.663698  [   64/60000]\n",
      "loss: 0.759390  [ 6464/60000]\n",
      "loss: 0.535465  [12864/60000]\n",
      "loss: 0.785246  [19264/60000]\n",
      "loss: 0.665345  [25664/60000]\n",
      "loss: 0.679843  [32064/60000]\n",
      "loss: 0.714018  [38464/60000]\n",
      "loss: 0.716557  [44864/60000]\n",
      "loss: 0.757519  [51264/60000]\n",
      "loss: 0.671590  [57664/60000]\n",
      "Test Error: \n",
      " Accuracy: 77.8%, Avg loss: 0.680565 \n",
      "\n",
      "Done!\n"
     ]
    }
   ],
   "source": [
    "crossloss_fn = nn.CrossEntropyLoss()\n",
    "optimizer = torch.optim.SGD(model_1.parameters(), lr=1e-3)\n",
    "\n",
    "for t in range(n_epochs):\n",
    "    print(f\"Epoch {t+1}\\n-------------------------------\")\n",
    "    train(train_dataloader, model_1, crossloss_fn, optimizer)\n",
    "    test(test_dataloader, model_1, crossloss_fn)\n",
    "print(\"Done!\")"
   ]
  },
  {
   "attachments": {},
   "cell_type": "markdown",
   "id": "316cf2bd",
   "metadata": {},
   "source": [
    "If we use NLLLoss instead of CrossEntropy."
   ]
  },
  {
   "cell_type": "code",
   "execution_count": 12,
   "id": "f37f2336",
   "metadata": {},
   "outputs": [
    {
     "name": "stdout",
     "output_type": "stream",
     "text": [
      "Epoch 1\n",
      "-------------------------------\n",
      "loss: 2.405974  [   64/60000]\n",
      "loss: 2.169187  [ 6464/60000]\n",
      "loss: 1.932497  [12864/60000]\n",
      "loss: 1.867123  [19264/60000]\n",
      "loss: 1.713818  [25664/60000]\n",
      "loss: 1.583079  [32064/60000]\n",
      "loss: 1.572589  [38464/60000]\n",
      "loss: 1.461750  [44864/60000]\n",
      "loss: 1.466925  [51264/60000]\n",
      "loss: 1.336380  [57664/60000]\n",
      "Test Error: \n",
      " Accuracy: 65.7%, Avg loss: 1.355299 \n",
      "\n",
      "Epoch 2\n",
      "-------------------------------\n",
      "loss: 1.406016  [   64/60000]\n",
      "loss: 1.392392  [ 6464/60000]\n",
      "loss: 1.194163  [12864/60000]\n",
      "loss: 1.322167  [19264/60000]\n",
      "loss: 1.175458  [25664/60000]\n",
      "loss: 1.151060  [32064/60000]\n",
      "loss: 1.185599  [38464/60000]\n",
      "loss: 1.124428  [44864/60000]\n",
      "loss: 1.165250  [51264/60000]\n",
      "loss: 1.069126  [57664/60000]\n",
      "Test Error: \n",
      " Accuracy: 67.7%, Avg loss: 1.095101 \n",
      "\n",
      "Epoch 3\n",
      "-------------------------------\n",
      "loss: 1.133165  [   64/60000]\n",
      "loss: 1.169870  [ 6464/60000]\n",
      "loss: 0.956797  [12864/60000]\n",
      "loss: 1.142199  [19264/60000]\n",
      "loss: 0.993936  [25664/60000]\n",
      "loss: 0.991183  [32064/60000]\n",
      "loss: 1.037756  [38464/60000]\n",
      "loss: 0.987142  [44864/60000]\n",
      "loss: 1.034280  [51264/60000]\n",
      "loss: 0.955760  [57664/60000]\n",
      "Test Error: \n",
      " Accuracy: 69.5%, Avg loss: 0.976394 \n",
      "\n",
      "Epoch 4\n",
      "-------------------------------\n",
      "loss: 1.001500  [   64/60000]\n",
      "loss: 1.062744  [ 6464/60000]\n",
      "loss: 0.836650  [12864/60000]\n",
      "loss: 1.051475  [19264/60000]\n",
      "loss: 0.903446  [25664/60000]\n",
      "loss: 0.906705  [32064/60000]\n",
      "loss: 0.956869  [38464/60000]\n",
      "loss: 0.910806  [44864/60000]\n",
      "loss: 0.959383  [51264/60000]\n",
      "loss: 0.891117  [57664/60000]\n",
      "Test Error: \n",
      " Accuracy: 71.4%, Avg loss: 0.906103 \n",
      "\n",
      "Epoch 5\n",
      "-------------------------------\n",
      "loss: 0.920831  [   64/60000]\n",
      "loss: 0.996614  [ 6464/60000]\n",
      "loss: 0.761992  [12864/60000]\n",
      "loss: 0.994964  [19264/60000]\n",
      "loss: 0.848340  [25664/60000]\n",
      "loss: 0.852933  [32064/60000]\n",
      "loss: 0.903843  [38464/60000]\n",
      "loss: 0.861230  [44864/60000]\n",
      "loss: 0.909828  [51264/60000]\n",
      "loss: 0.847843  [57664/60000]\n",
      "Test Error: \n",
      " Accuracy: 72.6%, Avg loss: 0.858187 \n",
      "\n",
      "Epoch 6\n",
      "-------------------------------\n",
      "loss: 0.864666  [   64/60000]\n",
      "loss: 0.949796  [ 6464/60000]\n",
      "loss: 0.710063  [12864/60000]\n",
      "loss: 0.955126  [19264/60000]\n",
      "loss: 0.810500  [25664/60000]\n",
      "loss: 0.814663  [32064/60000]\n",
      "loss: 0.865290  [38464/60000]\n",
      "loss: 0.826091  [44864/60000]\n",
      "loss: 0.874095  [51264/60000]\n",
      "loss: 0.815880  [57664/60000]\n",
      "Test Error: \n",
      " Accuracy: 73.6%, Avg loss: 0.822636 \n",
      "\n",
      "Epoch 7\n",
      "-------------------------------\n",
      "loss: 0.822481  [   64/60000]\n",
      "loss: 0.913817  [ 6464/60000]\n",
      "loss: 0.671333  [12864/60000]\n",
      "loss: 0.924725  [19264/60000]\n",
      "loss: 0.782386  [25664/60000]\n",
      "loss: 0.785397  [32064/60000]\n",
      "loss: 0.835374  [38464/60000]\n",
      "loss: 0.799799  [44864/60000]\n",
      "loss: 0.846867  [51264/60000]\n",
      "loss: 0.790684  [57664/60000]\n",
      "Test Error: \n",
      " Accuracy: 74.4%, Avg loss: 0.794763 \n",
      "\n",
      "Epoch 8\n",
      "-------------------------------\n",
      "loss: 0.789187  [   64/60000]\n",
      "loss: 0.884684  [ 6464/60000]\n",
      "loss: 0.641043  [12864/60000]\n",
      "loss: 0.900257  [19264/60000]\n",
      "loss: 0.760324  [25664/60000]\n",
      "loss: 0.761902  [32064/60000]\n",
      "loss: 0.811117  [38464/60000]\n",
      "loss: 0.779395  [44864/60000]\n",
      "loss: 0.825325  [51264/60000]\n",
      "loss: 0.769909  [57664/60000]\n",
      "Test Error: \n",
      " Accuracy: 75.0%, Avg loss: 0.772060 \n",
      "\n",
      "Epoch 9\n",
      "-------------------------------\n",
      "loss: 0.761972  [   64/60000]\n",
      "loss: 0.860242  [ 6464/60000]\n",
      "loss: 0.616519  [12864/60000]\n",
      "loss: 0.879823  [19264/60000]\n",
      "loss: 0.742312  [25664/60000]\n",
      "loss: 0.742385  [32064/60000]\n",
      "loss: 0.790823  [38464/60000]\n",
      "loss: 0.763138  [44864/60000]\n",
      "loss: 0.807811  [51264/60000]\n",
      "loss: 0.752215  [57664/60000]\n",
      "Test Error: \n",
      " Accuracy: 75.6%, Avg loss: 0.753050 \n",
      "\n",
      "Epoch 10\n",
      "-------------------------------\n",
      "loss: 0.739133  [   64/60000]\n",
      "loss: 0.839214  [ 6464/60000]\n",
      "loss: 0.596129  [12864/60000]\n",
      "loss: 0.862302  [19264/60000]\n",
      "loss: 0.727163  [25664/60000]\n",
      "loss: 0.725761  [32064/60000]\n",
      "loss: 0.773445  [38464/60000]\n",
      "loss: 0.749925  [44864/60000]\n",
      "loss: 0.793279  [51264/60000]\n",
      "loss: 0.736779  [57664/60000]\n",
      "Test Error: \n",
      " Accuracy: 76.1%, Avg loss: 0.736796 \n",
      "\n",
      "Epoch 11\n",
      "-------------------------------\n",
      "loss: 0.719566  [   64/60000]\n",
      "loss: 0.820781  [ 6464/60000]\n",
      "loss: 0.578814  [12864/60000]\n",
      "loss: 0.846985  [19264/60000]\n",
      "loss: 0.714127  [25664/60000]\n",
      "loss: 0.711333  [32064/60000]\n",
      "loss: 0.758296  [38464/60000]\n",
      "loss: 0.739015  [44864/60000]\n",
      "loss: 0.781026  [51264/60000]\n",
      "loss: 0.723067  [57664/60000]\n",
      "Test Error: \n",
      " Accuracy: 76.6%, Avg loss: 0.722670 \n",
      "\n",
      "Epoch 12\n",
      "-------------------------------\n",
      "loss: 0.702524  [   64/60000]\n",
      "loss: 0.804392  [ 6464/60000]\n",
      "loss: 0.563856  [12864/60000]\n",
      "loss: 0.833395  [19264/60000]\n",
      "loss: 0.702703  [25664/60000]\n",
      "loss: 0.698626  [32064/60000]\n",
      "loss: 0.744899  [38464/60000]\n",
      "loss: 0.729891  [44864/60000]\n",
      "loss: 0.770560  [51264/60000]\n",
      "loss: 0.710711  [57664/60000]\n",
      "Test Error: \n",
      " Accuracy: 77.0%, Avg loss: 0.710233 \n",
      "\n",
      "Epoch 13\n",
      "-------------------------------\n",
      "loss: 0.687478  [   64/60000]\n",
      "loss: 0.789654  [ 6464/60000]\n",
      "loss: 0.550749  [12864/60000]\n",
      "loss: 0.821199  [19264/60000]\n",
      "loss: 0.692542  [25664/60000]\n",
      "loss: 0.687304  [32064/60000]\n",
      "loss: 0.732918  [38464/60000]\n",
      "loss: 0.722179  [44864/60000]\n",
      "loss: 0.761525  [51264/60000]\n",
      "loss: 0.699454  [57664/60000]\n",
      "Test Error: \n",
      " Accuracy: 77.3%, Avg loss: 0.699164 \n",
      "\n",
      "Epoch 14\n",
      "-------------------------------\n",
      "loss: 0.674043  [   64/60000]\n",
      "loss: 0.776280  [ 6464/60000]\n",
      "loss: 0.539125  [12864/60000]\n",
      "loss: 0.810153  [19264/60000]\n",
      "loss: 0.683397  [25664/60000]\n",
      "loss: 0.677118  [32064/60000]\n",
      "loss: 0.722100  [38464/60000]\n",
      "loss: 0.715602  [44864/60000]\n",
      "loss: 0.753655  [51264/60000]\n",
      "loss: 0.689104  [57664/60000]\n",
      "Test Error: \n",
      " Accuracy: 77.7%, Avg loss: 0.689224 \n",
      "\n",
      "Epoch 15\n",
      "-------------------------------\n",
      "loss: 0.661933  [   64/60000]\n",
      "loss: 0.764054  [ 6464/60000]\n",
      "loss: 0.528713  [12864/60000]\n",
      "loss: 0.800071  [19264/60000]\n",
      "loss: 0.675083  [25664/60000]\n",
      "loss: 0.667881  [32064/60000]\n",
      "loss: 0.712255  [38464/60000]\n",
      "loss: 0.709949  [44864/60000]\n",
      "loss: 0.746745  [51264/60000]\n",
      "loss: 0.679519  [57664/60000]\n",
      "Test Error: \n",
      " Accuracy: 77.9%, Avg loss: 0.680230 \n",
      "\n",
      "Done!\n"
     ]
    }
   ],
   "source": [
    "model_2 = NeuralNetwork_1(num_classes).to(device)\n",
    "nnloss_function = nn.NLLLoss()\n",
    "optimizer = torch.optim.SGD(model_2.parameters(), lr=1e-3)\n",
    "\n",
    "for t in range(n_epochs):\n",
    "    print(f\"Epoch {t+1}\\n-------------------------------\")\n",
    "    train(train_dataloader, model_2, nnloss_function, optimizer)\n",
    "    test(test_dataloader, model_2, nnloss_function)\n",
    "print(\"Done!\")"
   ]
  },
  {
   "attachments": {},
   "cell_type": "markdown",
   "id": "26d21c36-4086-48df-b648-4cbd347c33b2",
   "metadata": {},
   "source": [
    "# Inference\n",
    "\n",
    "## Model 1 (Log Softmax and Cross Entropy)"
   ]
  },
  {
   "cell_type": "code",
   "execution_count": 13,
   "id": "f927da28-a9c9-4d0a-974e-adbd6a7f4e97",
   "metadata": {
    "tags": []
   },
   "outputs": [],
   "source": [
    "classes = training_data.classes"
   ]
  },
  {
   "cell_type": "code",
   "execution_count": 14,
   "id": "a4fff27b-163e-4ae0-9244-7794455d4dd9",
   "metadata": {
    "tags": []
   },
   "outputs": [],
   "source": [
    "# Remember that you must call model.eval() to set dropout and \n",
    "# batch normalization layers to evaluation mode before running inference. \n",
    "# Failing to do this will yield inconsistent inference results.\n",
    "model_1.eval()\n",
    "\n",
    "preds = []\n",
    "targets = []\n",
    "for X, y in iter(test_data):\n",
    "    with torch.no_grad(): # Context-manager that disabled gradient calculation.\n",
    "        preds.append(model_1(X.to(device)).argmax(axis=1).item())\n",
    "        targets.append(y)"
   ]
  },
  {
   "cell_type": "code",
   "execution_count": 15,
   "id": "6512f570-1dc5-4214-83ba-f5346ffacec2",
   "metadata": {
    "tags": []
   },
   "outputs": [],
   "source": [
    "wrongs = [i for i, (x, y) in enumerate(zip(preds, targets)) if y != x]\n",
    "corrects = [i for i, (x, y) in enumerate(zip(preds, targets)) if y == x]"
   ]
  },
  {
   "attachments": {},
   "cell_type": "markdown",
   "id": "3b6b4906-464e-413d-8f25-d6dde8865522",
   "metadata": {},
   "source": [
    "### Visualization\n",
    "\n",
    "Wrong Predictions"
   ]
  },
  {
   "cell_type": "code",
   "execution_count": 16,
   "id": "2e8b7000-c1da-4d88-afc7-5a52e9b276f2",
   "metadata": {
    "tags": []
   },
   "outputs": [
    {
     "data": {
      "image/png": "[encoded data removed]",
      "text/plain": [
       "<Figure size 640x480 with 5 Axes>"
      ]
     },
     "metadata": {},
     "output_type": "display_data"
    }
   ],
   "source": [
    "n_samples = 5\n",
    "fig, ax = plt.subplots(1, n_samples)\n",
    "for i in range(0, n_samples):\n",
    "    img = transform(test_data[wrongs[i]][0])\n",
    "    ax[i].set_title(f\"T: {classes[targets[wrongs[i]]]}\\n P: {classes[preds[wrongs[i]]]}\", fontsize=10)\n",
    "    ax[i].imshow(img, cmap='gray')\n",
    "    ax[i].axis('off')"
   ]
  },
  {
   "attachments": {},
   "cell_type": "markdown",
   "id": "33a2459e",
   "metadata": {},
   "source": [
    "Correct Predictions"
   ]
  },
  {
   "cell_type": "code",
   "execution_count": 17,
   "id": "85ae1090-751e-4201-ac1f-09579d5dec7d",
   "metadata": {
    "tags": []
   },
   "outputs": [
    {
     "data": {
      "image/png": "[encoded data removed]",
      "text/plain": [
       "<Figure size 640x480 with 5 Axes>"
      ]
     },
     "metadata": {},
     "output_type": "display_data"
    }
   ],
   "source": [
    "n_samples = 5\n",
    "fig, ax = plt.subplots(1, n_samples)\n",
    "for i in range(0, n_samples):\n",
    "    img = transform(test_data[corrects[i]][0])\n",
    "    ax[i].set_title(f\"T: {classes[targets[corrects[i]]]}\\n P: {classes[preds[corrects[i]]]}\", fontsize=10)\n",
    "    ax[i].imshow(img, cmap='gray')\n",
    "    ax[i].axis('off')"
   ]
  },
  {
   "attachments": {},
   "cell_type": "markdown",
   "id": "97fc7a51",
   "metadata": {},
   "source": [
    "## Model 2 (Log Softmax and NLLLoss)"
   ]
  },
  {
   "cell_type": "code",
   "execution_count": 18,
   "id": "bfeb6eb5",
   "metadata": {},
   "outputs": [],
   "source": [
    "# Remember that you must call model.eval() to set dropout and \n",
    "# batch normalization layers to evaluation mode before running inference. \n",
    "# Failing to do this will yield inconsistent inference results.\n",
    "model_2.eval()\n",
    "\n",
    "preds = []\n",
    "targets = []\n",
    "for X, y in iter(test_data):\n",
    "    with torch.no_grad(): # Context-manager that disabled gradient calculation.\n",
    "        preds.append(model_2(X.to(device)).argmax(axis=1).item())\n",
    "        targets.append(y)"
   ]
  },
  {
   "cell_type": "code",
   "execution_count": 19,
   "id": "91cfbdde",
   "metadata": {},
   "outputs": [],
   "source": [
    "wrongs = [i for i, (x, y) in enumerate(zip(preds, targets)) if y != x]\n",
    "corrects = [i for i, (x, y) in enumerate(zip(preds, targets)) if y == x]"
   ]
  },
  {
   "attachments": {},
   "cell_type": "markdown",
   "id": "0abc695a",
   "metadata": {},
   "source": [
    "### Visualization\n",
    "\n",
    "Wrong Predictions"
   ]
  },
  {
   "cell_type": "code",
   "execution_count": 20,
   "id": "f68e17e9",
   "metadata": {},
   "outputs": [
    {
     "data": {
      "image/png": "[encoded data removed]",
      "text/plain": [
       "<Figure size 640x480 with 5 Axes>"
      ]
     },
     "metadata": {},
     "output_type": "display_data"
    }
   ],
   "source": [
    "n_samples = 5\n",
    "fig, ax = plt.subplots(1, n_samples)\n",
    "for i in range(0, n_samples):\n",
    "    img = transform(test_data[wrongs[i]][0])\n",
    "    ax[i].set_title(f\"T: {classes[targets[wrongs[i]]]}\\n P: {classes[preds[wrongs[i]]]}\", fontsize=10)\n",
    "    ax[i].imshow(img, cmap='gray')\n",
    "    ax[i].axis('off')"
   ]
  },
  {
   "attachments": {},
   "cell_type": "markdown",
   "id": "a4bcd971",
   "metadata": {},
   "source": [
    "Correct Predictions"
   ]
  },
  {
   "cell_type": "code",
   "execution_count": 21,
   "id": "bf2550ef",
   "metadata": {},
   "outputs": [
    {
     "data": {
      "image/png": "[encoded data removed]",
      "text/plain": [
       "<Figure size 640x480 with 5 Axes>"
      ]
     },
     "metadata": {},
     "output_type": "display_data"
    }
   ],
   "source": [
    "n_samples = 5\n",
    "fig, ax = plt.subplots(1, n_samples)\n",
    "for i in range(0, n_samples):\n",
    "    img = transform(test_data[corrects[i]][0])\n",
    "    ax[i].set_title(f\"T: {classes[targets[corrects[i]]]}\\n P: {classes[preds[corrects[i]]]}\", fontsize=10)\n",
    "    ax[i].imshow(img, cmap='gray')\n",
    "    ax[i].axis('off')"
   ]
  },
  {
   "attachments": {},
   "cell_type": "markdown",
   "id": "42438b33-5208-4b50-8b88-aae9191d1327",
   "metadata": {},
   "source": [
    "# Model 3\n",
    "\n",
    "This is the model proposed in the Quickstart guide"
   ]
  },
  {
   "cell_type": "code",
   "execution_count": 22,
   "id": "dc907ba3-efde-4fb7-ab2e-2e90928d4914",
   "metadata": {
    "tags": []
   },
   "outputs": [],
   "source": [
    "# Define model\n",
    "class NeuralNetwork_2(nn.Module):\n",
    "    def __init__(self, num_outputs):\n",
    "        super().__init__()\n",
    "        self.flatten = nn.Flatten()\n",
    "        self.linear_relu_stack = nn.Sequential(\n",
    "            nn.Linear(HEIGHT*WIDTH, 512),\n",
    "            nn.ReLU(),\n",
    "            nn.Linear(512, 512),\n",
    "            nn.ReLU(),\n",
    "            nn.Linear(512, num_outputs)\n",
    "        )\n",
    "\n",
    "    def forward(self, x):\n",
    "        x = self.flatten(x)\n",
    "        logits = self.linear_relu_stack(x)\n",
    "        return logits"
   ]
  },
  {
   "cell_type": "code",
   "execution_count": 23,
   "id": "4da1d1fa-84ea-4228-9b70-d857eafa70af",
   "metadata": {
    "tags": []
   },
   "outputs": [
    {
     "name": "stdout",
     "output_type": "stream",
     "text": [
      "NeuralNetwork_2(\n",
      "  (flatten): Flatten(start_dim=1, end_dim=-1)\n",
      "  (linear_relu_stack): Sequential(\n",
      "    (0): Linear(in_features=784, out_features=512, bias=True)\n",
      "    (1): ReLU()\n",
      "    (2): Linear(in_features=512, out_features=512, bias=True)\n",
      "    (3): ReLU()\n",
      "    (4): Linear(in_features=512, out_features=10, bias=True)\n",
      "  )\n",
      ")\n"
     ]
    }
   ],
   "source": [
    "model = NeuralNetwork_2(num_classes).to(device)\n",
    "print(model)"
   ]
  },
  {
   "cell_type": "code",
   "execution_count": 24,
   "id": "3b2a470d-f3fa-4032-9d1e-c886c678a7b1",
   "metadata": {
    "tags": []
   },
   "outputs": [
    {
     "name": "stdout",
     "output_type": "stream",
     "text": [
      "Total number of model parameters: 669706\n"
     ]
    }
   ],
   "source": [
    "total_params = sum(\n",
    "    param.numel() for param in model.parameters()\n",
    ")\n",
    "\n",
    "print(f\"Total number of model parameters: {total_params}\")"
   ]
  },
  {
   "attachments": {},
   "cell_type": "markdown",
   "id": "d962b1d9-bff7-48e6-8423-536d4e3d884e",
   "metadata": {},
   "source": [
    "Notice that it has a lot more parameters to adjust."
   ]
  },
  {
   "cell_type": "code",
   "execution_count": 25,
   "id": "775b3b44-6d8f-40be-ba4f-2f76f146aa81",
   "metadata": {
    "tags": []
   },
   "outputs": [],
   "source": [
    "loss_fn = nn.CrossEntropyLoss()\n",
    "optimizer = torch.optim.SGD(model.parameters(), lr=1e-3)"
   ]
  },
  {
   "cell_type": "code",
   "execution_count": 26,
   "id": "afd8939d-9641-41d9-a351-d1cec95dadf3",
   "metadata": {
    "tags": []
   },
   "outputs": [
    {
     "name": "stdout",
     "output_type": "stream",
     "text": [
      "Epoch 1\n",
      "-------------------------------\n",
      "loss: 2.306876  [   64/60000]\n",
      "loss: 2.289330  [ 6464/60000]\n",
      "loss: 2.267436  [12864/60000]\n",
      "loss: 2.263502  [19264/60000]\n",
      "loss: 2.244002  [25664/60000]\n",
      "loss: 2.205142  [32064/60000]\n",
      "loss: 2.228586  [38464/60000]\n",
      "loss: 2.178226  [44864/60000]\n",
      "loss: 2.196134  [51264/60000]\n",
      "loss: 2.154546  [57664/60000]\n",
      "Test Error: \n",
      " Accuracy: 45.4%, Avg loss: 2.142830 \n",
      "\n",
      "Epoch 2\n",
      "-------------------------------\n",
      "loss: 2.163400  [   64/60000]\n",
      "loss: 2.148246  [ 6464/60000]\n",
      "loss: 2.079921  [12864/60000]\n",
      "loss: 2.099501  [19264/60000]\n",
      "loss: 2.044211  [25664/60000]\n",
      "loss: 1.978286  [32064/60000]\n",
      "loss: 2.017806  [38464/60000]\n",
      "loss: 1.924324  [44864/60000]\n",
      "loss: 1.950801  [51264/60000]\n",
      "loss: 1.861533  [57664/60000]\n",
      "Test Error: \n",
      " Accuracy: 54.8%, Avg loss: 1.856211 \n",
      "\n",
      "Epoch 3\n",
      "-------------------------------\n",
      "loss: 1.899439  [   64/60000]\n",
      "loss: 1.867686  [ 6464/60000]\n",
      "loss: 1.735235  [12864/60000]\n",
      "loss: 1.779624  [19264/60000]\n",
      "loss: 1.676167  [25664/60000]\n",
      "loss: 1.620474  [32064/60000]\n",
      "loss: 1.647040  [38464/60000]\n",
      "loss: 1.542035  [44864/60000]\n",
      "loss: 1.584473  [51264/60000]\n",
      "loss: 1.463168  [57664/60000]\n",
      "Test Error: \n",
      " Accuracy: 61.0%, Avg loss: 1.483969 \n",
      "\n",
      "Epoch 4\n",
      "-------------------------------\n",
      "loss: 1.557606  [   64/60000]\n",
      "loss: 1.526321  [ 6464/60000]\n",
      "loss: 1.364014  [12864/60000]\n",
      "loss: 1.440339  [19264/60000]\n",
      "loss: 1.331977  [25664/60000]\n",
      "loss: 1.320081  [32064/60000]\n",
      "loss: 1.338528  [38464/60000]\n",
      "loss: 1.260227  [44864/60000]\n",
      "loss: 1.304630  [51264/60000]\n",
      "loss: 1.197082  [57664/60000]\n",
      "Test Error: \n",
      " Accuracy: 63.7%, Avg loss: 1.225021 \n",
      "\n",
      "Epoch 5\n",
      "-------------------------------\n",
      "loss: 1.305027  [   64/60000]\n",
      "loss: 1.292053  [ 6464/60000]\n",
      "loss: 1.116078  [12864/60000]\n",
      "loss: 1.228426  [19264/60000]\n",
      "loss: 1.106826  [25664/60000]\n",
      "loss: 1.128144  [32064/60000]\n",
      "loss: 1.155761  [38464/60000]\n",
      "loss: 1.091514  [44864/60000]\n",
      "loss: 1.132481  [51264/60000]\n",
      "loss: 1.045717  [57664/60000]\n",
      "Test Error: \n",
      " Accuracy: 65.0%, Avg loss: 1.067024 \n",
      "\n",
      "Epoch 6\n",
      "-------------------------------\n",
      "loss: 1.139390  [   64/60000]\n",
      "loss: 1.147396  [ 6464/60000]\n",
      "loss: 0.956152  [12864/60000]\n",
      "loss: 1.097148  [19264/60000]\n",
      "loss: 0.969071  [25664/60000]\n",
      "loss: 0.999609  [32064/60000]\n",
      "loss: 1.043732  [38464/60000]\n",
      "loss: 0.986864  [44864/60000]\n",
      "loss: 1.020847  [51264/60000]\n",
      "loss: 0.951656  [57664/60000]\n",
      "Test Error: \n",
      " Accuracy: 66.0%, Avg loss: 0.965636 \n",
      "\n",
      "Epoch 7\n",
      "-------------------------------\n",
      "loss: 1.024339  [   64/60000]\n",
      "loss: 1.053702  [ 6464/60000]\n",
      "loss: 0.847598  [12864/60000]\n",
      "loss: 1.009920  [19264/60000]\n",
      "loss: 0.882381  [25664/60000]\n",
      "loss: 0.909310  [32064/60000]\n",
      "loss: 0.970412  [38464/60000]\n",
      "loss: 0.920103  [44864/60000]\n",
      "loss: 0.944063  [51264/60000]\n",
      "loss: 0.888957  [57664/60000]\n",
      "Test Error: \n",
      " Accuracy: 67.1%, Avg loss: 0.896736 \n",
      "\n",
      "Epoch 8\n",
      "-------------------------------\n",
      "loss: 0.939702  [   64/60000]\n",
      "loss: 0.988308  [ 6464/60000]\n",
      "loss: 0.769909  [12864/60000]\n",
      "loss: 0.948375  [19264/60000]\n",
      "loss: 0.824643  [25664/60000]\n",
      "loss: 0.843347  [32064/60000]\n",
      "loss: 0.918734  [38464/60000]\n",
      "loss: 0.875978  [44864/60000]\n",
      "loss: 0.889151  [51264/60000]\n",
      "loss: 0.843962  [57664/60000]\n",
      "Test Error: \n",
      " Accuracy: 68.5%, Avg loss: 0.847315 \n",
      "\n",
      "Epoch 9\n",
      "-------------------------------\n",
      "loss: 0.874717  [   64/60000]\n",
      "loss: 0.939312  [ 6464/60000]\n",
      "loss: 0.711993  [12864/60000]\n",
      "loss: 0.902688  [19264/60000]\n",
      "loss: 0.783473  [25664/60000]\n",
      "loss: 0.793905  [32064/60000]\n",
      "loss: 0.879660  [38464/60000]\n",
      "loss: 0.845557  [44864/60000]\n",
      "loss: 0.848159  [51264/60000]\n",
      "loss: 0.809517  [57664/60000]\n",
      "Test Error: \n",
      " Accuracy: 69.8%, Avg loss: 0.809958 \n",
      "\n",
      "Epoch 10\n",
      "-------------------------------\n",
      "loss: 0.823002  [   64/60000]\n",
      "loss: 0.900142  [ 6464/60000]\n",
      "loss: 0.667048  [12864/60000]\n",
      "loss: 0.867394  [19264/60000]\n",
      "loss: 0.752522  [25664/60000]\n",
      "loss: 0.755757  [32064/60000]\n",
      "loss: 0.848003  [38464/60000]\n",
      "loss: 0.822924  [44864/60000]\n",
      "loss: 0.816452  [51264/60000]\n",
      "loss: 0.781705  [57664/60000]\n",
      "Test Error: \n",
      " Accuracy: 70.9%, Avg loss: 0.780259 \n",
      "\n",
      "Epoch 11\n",
      "-------------------------------\n",
      "loss: 0.780253  [   64/60000]\n",
      "loss: 0.866901  [ 6464/60000]\n",
      "loss: 0.630790  [12864/60000]\n",
      "loss: 0.839178  [19264/60000]\n",
      "loss: 0.727902  [25664/60000]\n",
      "loss: 0.725658  [32064/60000]\n",
      "loss: 0.820918  [38464/60000]\n",
      "loss: 0.804865  [44864/60000]\n",
      "loss: 0.790790  [51264/60000]\n",
      "loss: 0.758118  [57664/60000]\n",
      "Test Error: \n",
      " Accuracy: 72.2%, Avg loss: 0.755473 \n",
      "\n",
      "Epoch 12\n",
      "-------------------------------\n",
      "loss: 0.743733  [   64/60000]\n",
      "loss: 0.837636  [ 6464/60000]\n",
      "loss: 0.600356  [12864/60000]\n",
      "loss: 0.815824  [19264/60000]\n",
      "loss: 0.707487  [25664/60000]\n",
      "loss: 0.701232  [32064/60000]\n",
      "loss: 0.796848  [38464/60000]\n",
      "loss: 0.789482  [44864/60000]\n",
      "loss: 0.769195  [51264/60000]\n",
      "loss: 0.737330  [57664/60000]\n",
      "Test Error: \n",
      " Accuracy: 73.3%, Avg loss: 0.733945 \n",
      "\n",
      "Epoch 13\n",
      "-------------------------------\n",
      "loss: 0.711590  [   64/60000]\n",
      "loss: 0.811258  [ 6464/60000]\n",
      "loss: 0.574259  [12864/60000]\n",
      "loss: 0.795919  [19264/60000]\n",
      "loss: 0.690138  [25664/60000]\n",
      "loss: 0.680781  [32064/60000]\n",
      "loss: 0.774805  [38464/60000]\n",
      "loss: 0.775649  [44864/60000]\n",
      "loss: 0.750530  [51264/60000]\n",
      "loss: 0.718565  [57664/60000]\n",
      "Test Error: \n",
      " Accuracy: 74.3%, Avg loss: 0.714697 \n",
      "\n",
      "Epoch 14\n",
      "-------------------------------\n",
      "loss: 0.682956  [   64/60000]\n",
      "loss: 0.787006  [ 6464/60000]\n",
      "loss: 0.551336  [12864/60000]\n",
      "loss: 0.778481  [19264/60000]\n",
      "loss: 0.675038  [25664/60000]\n",
      "loss: 0.663208  [32064/60000]\n",
      "loss: 0.754295  [38464/60000]\n",
      "loss: 0.762956  [44864/60000]\n",
      "loss: 0.733955  [51264/60000]\n",
      "loss: 0.701434  [57664/60000]\n",
      "Test Error: \n",
      " Accuracy: 75.2%, Avg loss: 0.697178 \n",
      "\n",
      "Epoch 15\n",
      "-------------------------------\n",
      "loss: 0.657206  [   64/60000]\n",
      "loss: 0.764552  [ 6464/60000]\n",
      "loss: 0.530976  [12864/60000]\n",
      "loss: 0.762728  [19264/60000]\n",
      "loss: 0.661771  [25664/60000]\n",
      "loss: 0.648062  [32064/60000]\n",
      "loss: 0.735035  [38464/60000]\n",
      "loss: 0.751131  [44864/60000]\n",
      "loss: 0.719095  [51264/60000]\n",
      "loss: 0.685566  [57664/60000]\n",
      "Test Error: \n",
      " Accuracy: 76.0%, Avg loss: 0.681061 \n",
      "\n",
      "Done!\n"
     ]
    }
   ],
   "source": [
    "for t in range(n_epochs):\n",
    "    print(f\"Epoch {t+1}\\n-------------------------------\")\n",
    "    train(train_dataloader, model, loss_fn, optimizer)\n",
    "    test(test_dataloader, model, loss_fn)\n",
    "print(\"Done!\")"
   ]
  },
  {
   "attachments": {},
   "cell_type": "markdown",
   "id": "22c29f52-7714-467b-adf6-6d03aa194bf9",
   "metadata": {},
   "source": [
    "# Inference"
   ]
  },
  {
   "cell_type": "code",
   "execution_count": 27,
   "id": "48494a59-543c-4d9c-9710-02673db15222",
   "metadata": {
    "tags": []
   },
   "outputs": [],
   "source": [
    "classes = training_data.classes"
   ]
  },
  {
   "cell_type": "code",
   "execution_count": 28,
   "id": "ebad5230-46ee-4b07-9ffb-05febf81cd6e",
   "metadata": {
    "tags": []
   },
   "outputs": [],
   "source": [
    "# Remember that you must call model.eval() to set dropout and \n",
    "# batch normalization layers to evaluation mode before running inference. \n",
    "# Failing to do this will yield inconsistent inference results.\n",
    "model.eval()\n",
    "\n",
    "preds = []\n",
    "targets = []\n",
    "for X, y in iter(test_data):\n",
    "    with torch.no_grad(): # Context-manager that disabled gradient calculation.\n",
    "        preds.append(model(X.to(device)).argmax(axis=1).item())\n",
    "        targets.append(y)"
   ]
  },
  {
   "cell_type": "code",
   "execution_count": 29,
   "id": "1fa7ef26-0d2e-4e8f-abb9-6d38c7332e44",
   "metadata": {
    "tags": []
   },
   "outputs": [],
   "source": [
    "wrongs = [i for i, (x, y) in enumerate(zip(preds, targets)) if y != x]\n",
    "corrects = [i for i, (x, y) in enumerate(zip(preds, targets)) if y == x]"
   ]
  },
  {
   "attachments": {},
   "cell_type": "markdown",
   "id": "7e315212-fc4e-42ac-b96f-640b14d3bc1e",
   "metadata": {},
   "source": [
    "# Visualization"
   ]
  },
  {
   "cell_type": "code",
   "execution_count": 30,
   "id": "3aaedb9b-1e8a-41b4-bc7e-dfd0d293a9d6",
   "metadata": {
    "tags": []
   },
   "outputs": [
    {
     "data": {
      "image/png": "[encoded data removed]",
      "text/plain": [
       "<Figure size 640x480 with 5 Axes>"
      ]
     },
     "metadata": {},
     "output_type": "display_data"
    }
   ],
   "source": [
    "n_samples = 5\n",
    "fig, ax = plt.subplots(1, n_samples)\n",
    "for i in range(0, n_samples):\n",
    "    img = transform(test_data[wrongs[i]][0])\n",
    "    ax[i].set_title(f\"T: {classes[targets[wrongs[i]]]}\\n P: {classes[preds[wrongs[i]]]}\", fontsize=10)\n",
    "    ax[i].imshow(img, cmap='gray')\n",
    "    ax[i].axis('off')"
   ]
  },
  {
   "attachments": {},
   "cell_type": "markdown",
   "id": "bf91ba92-88b5-4ca8-b248-9f5fd7a9033a",
   "metadata": {},
   "source": [
    "# Conclusion\n",
    "\n",
    "The softmax implementation has considerably less parameters to tune and yields a slightly better accuracy when compared to the multilayer perceptron model proposed in Quickstart guide."
   ]
  },
  {
   "cell_type": "code",
   "execution_count": null,
   "id": "d59fb488-fe66-4d2b-808a-3e84e43b4ad2",
   "metadata": {},
   "outputs": [],
   "source": []
  }
 ],
 "metadata": {
  "kernelspec": {
   "display_name": "Python 3 (ipykernel)",
   "language": "python",
   "name": "python3"
  },
  "language_info": {
   "codemirror_mode": {
    "name": "ipython",
    "version": 3
   },
   "file_extension": ".py",
   "mimetype": "text/x-python",
   "name": "python",
   "nbconvert_exporter": "python",
   "pygments_lexer": "ipython3",
   "version": "3.10.6"
  }
 },
 "nbformat": 4,
 "nbformat_minor": 5
}
