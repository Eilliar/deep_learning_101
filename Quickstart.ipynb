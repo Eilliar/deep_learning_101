{
 "cells": [
  {
   "attachments": {},
   "cell_type": "markdown",
   "id": "b8252062-debd-46f3-8574-ab1bea4cca38",
   "metadata": {},
   "source": [
    "# Fashion MNIST test\n",
    "\n",
    "Compare performance of Softmax Regression net vs Pytorch [Quickstart net](https://pytorch.org/tutorials/beginner/basics/quickstart_tutorial.html)."
   ]
  },
  {
   "cell_type": "code",
   "execution_count": 1,
   "id": "5e51b286-84c1-4e0c-ba78-74fc70d361ca",
   "metadata": {
    "tags": []
   },
   "outputs": [],
   "source": [
    "import torch\n",
    "import torch.nn.functional as F\n",
    "from torch import nn\n",
    "from torch.utils.data import DataLoader\n",
    "from torchvision import datasets\n",
    "from torchvision.transforms import ToTensor"
   ]
  },
  {
   "attachments": {},
   "cell_type": "markdown",
   "id": "f9e238f1-df41-4d9c-b185-2b179d61a2d1",
   "metadata": {},
   "source": [
    "# Load Data\n",
    "\n",
    "Fashion MNIST Dataset"
   ]
  },
  {
   "cell_type": "code",
   "execution_count": 2,
   "id": "1be797f2-86dc-4dfa-b9cf-33efceaf77f0",
   "metadata": {
    "tags": []
   },
   "outputs": [],
   "source": [
    "# Download training data from open datasets.\n",
    "training_data = datasets.FashionMNIST(\n",
    "    root=\"data\",\n",
    "    train=True,\n",
    "    download=True,\n",
    "    transform=ToTensor(),\n",
    ")\n",
    "\n",
    "# Download test data from open datasets.\n",
    "test_data = datasets.FashionMNIST(\n",
    "    root=\"data\",\n",
    "    train=False,\n",
    "    download=True,\n",
    "    transform=ToTensor(),\n",
    ")"
   ]
  },
  {
   "cell_type": "code",
   "execution_count": 7,
   "id": "16cc97f4-fb99-4ad3-9636-135f798d092e",
   "metadata": {
    "tags": []
   },
   "outputs": [
    {
     "name": "stdout",
     "output_type": "stream",
     "text": [
      "Training dataset contains: 60000 sample images\n",
      "Test dataset contains: 10000 sample images\n",
      "Shape of X [N, C, H, W]: torch.Size([64, 1, 28, 28])\n",
      "Shape of y: torch.Size([64]) torch.int64\n"
     ]
    }
   ],
   "source": [
    "batch_size = 64\n",
    "n_epochs = 15\n",
    "\n",
    "# Create data loaders.\n",
    "train_dataloader = DataLoader(training_data, batch_size=batch_size)\n",
    "test_dataloader = DataLoader(test_data, batch_size=batch_size)\n",
    "\n",
    "print(f\"Training dataset contains: {len(training_data)} sample images\")\n",
    "print(f\"Test dataset contains: {len(test_data)} sample images\")\n",
    "for X, y in test_dataloader:\n",
    "    print(f\"Shape of X [N, C, H, W]: {X.shape}\")\n",
    "    print(f\"Shape of y: {y.shape} {y.dtype}\")\n",
    "    _, _, HEIGHT, WIDTH = X.shape\n",
    "    break"
   ]
  },
  {
   "cell_type": "code",
   "execution_count": 8,
   "id": "7ee681ff-2485-4b37-aed2-6f650e35d5d5",
   "metadata": {
    "tags": []
   },
   "outputs": [
    {
     "name": "stdout",
     "output_type": "stream",
     "text": [
      "There are 10 classes in training data\n"
     ]
    }
   ],
   "source": [
    "num_classes = len(training_data.classes)\n",
    "print(f\"There are {num_classes} classes in training data\")"
   ]
  },
  {
   "attachments": {},
   "cell_type": "markdown",
   "id": "dcaa1755-4911-4eb2-847a-fcdc19f6fc21",
   "metadata": {},
   "source": [
    "# Model 1"
   ]
  },
  {
   "cell_type": "code",
   "execution_count": 9,
   "id": "bea016eb-dfaa-4871-8943-2f90ac30591e",
   "metadata": {
    "tags": []
   },
   "outputs": [
    {
     "name": "stdout",
     "output_type": "stream",
     "text": [
      "Using cuda device\n"
     ]
    }
   ],
   "source": [
    "# Get cpu, gpu or mps device for training.\n",
    "device = (\n",
    "    \"cuda\"\n",
    "    if torch.cuda.is_available()\n",
    "    else \"mps\"\n",
    "    if torch.backends.mps.is_available()\n",
    "    else \"cpu\"\n",
    ")\n",
    "print(f\"Using {device} device\")"
   ]
  },
  {
   "cell_type": "code",
   "execution_count": 10,
   "id": "a4a5bec2-274a-4c4e-96b1-6c956f967ce4",
   "metadata": {
    "tags": []
   },
   "outputs": [],
   "source": [
    "# Define model\n",
    "class NeuralNetwork_1(nn.Module):\n",
    "    def __init__(self, num_outputs):\n",
    "        super().__init__()\n",
    "        self.net = nn.Sequential(\n",
    "            nn.Flatten(),\n",
    "            nn.Linear(in_features=HEIGHT*WIDTH, out_features=num_outputs)\n",
    "        )\n",
    "\n",
    "    def forward(self, x):\n",
    "        return F.softmax(self.net(x), dim=1)"
   ]
  },
  {
   "cell_type": "code",
   "execution_count": 11,
   "id": "e2b499dc-9e2b-486f-a52a-356fef90dee8",
   "metadata": {
    "tags": []
   },
   "outputs": [
    {
     "name": "stdout",
     "output_type": "stream",
     "text": [
      "NeuralNetwork_1(\n",
      "  (net): Sequential(\n",
      "    (0): Flatten(start_dim=1, end_dim=-1)\n",
      "    (1): Linear(in_features=784, out_features=10, bias=True)\n",
      "  )\n",
      ")\n"
     ]
    }
   ],
   "source": [
    "model = NeuralNetwork_1(num_classes).to(device)\n",
    "print(model)"
   ]
  },
  {
   "cell_type": "code",
   "execution_count": 12,
   "id": "9e0601dd-4642-4f48-9a2f-ef82140e1dec",
   "metadata": {
    "tags": []
   },
   "outputs": [
    {
     "name": "stdout",
     "output_type": "stream",
     "text": [
      "Total number of model parameters: 7850\n"
     ]
    }
   ],
   "source": [
    "total_params = sum(\n",
    "    param.numel() for param in model.parameters()\n",
    ")\n",
    "print(f\"Total number of model parameters: {total_params}\")"
   ]
  },
  {
   "attachments": {},
   "cell_type": "markdown",
   "id": "02839fff-1187-451c-8c52-3c0bf7de7318",
   "metadata": {},
   "source": [
    "# Training"
   ]
  },
  {
   "cell_type": "code",
   "execution_count": 13,
   "id": "460f5dbf-5955-4fd6-bb67-5eb1a93341fb",
   "metadata": {
    "tags": []
   },
   "outputs": [],
   "source": [
    "loss_fn = nn.CrossEntropyLoss()\n",
    "optimizer = torch.optim.SGD(model.parameters(), lr=1e-3)"
   ]
  },
  {
   "cell_type": "code",
   "execution_count": 14,
   "id": "afda2efe-b403-4e3b-947f-abb8747be646",
   "metadata": {
    "tags": []
   },
   "outputs": [],
   "source": [
    "def train(dataloader, model, loss_fn, optimizer):\n",
    "    size = len(dataloader.dataset)\n",
    "    model.train()\n",
    "    for batch, (X, y) in enumerate(dataloader):\n",
    "        X, y = X.to(device), y.to(device)\n",
    "\n",
    "        # Compute prediction error\n",
    "        pred = model(X)\n",
    "        loss = loss_fn(pred, y)\n",
    "\n",
    "        # Backpropagation\n",
    "        optimizer.zero_grad()\n",
    "        loss.backward()\n",
    "        optimizer.step()\n",
    "\n",
    "        if batch % 100 == 0:\n",
    "            loss, current = loss.item(), (batch + 1) * len(X)\n",
    "            print(f\"loss: {loss:>7f}  [{current:>5d}/{size:>5d}]\")"
   ]
  },
  {
   "cell_type": "code",
   "execution_count": 15,
   "id": "79487fca-91db-4f32-a70b-20445c69e6fd",
   "metadata": {
    "tags": []
   },
   "outputs": [],
   "source": [
    "def test(dataloader, model, loss_fn):\n",
    "    size = len(dataloader.dataset)\n",
    "    num_batches = len(dataloader)\n",
    "    model.eval()\n",
    "    test_loss, correct = 0, 0\n",
    "    with torch.no_grad():\n",
    "        for X, y in dataloader:\n",
    "            X, y = X.to(device), y.to(device)\n",
    "            pred = model(X)\n",
    "            test_loss += loss_fn(pred, y).item()\n",
    "            correct += (pred.argmax(1) == y).type(torch.float).sum().item()\n",
    "    test_loss /= num_batches\n",
    "    correct /= size\n",
    "    print(f\"Test Error: \\n Accuracy: {(100*correct):>0.1f}%, Avg loss: {test_loss:>8f} \\n\")"
   ]
  },
  {
   "cell_type": "code",
   "execution_count": 16,
   "id": "59ae9354-0055-4dae-ac86-c19ee83c9412",
   "metadata": {
    "tags": []
   },
   "outputs": [
    {
     "name": "stdout",
     "output_type": "stream",
     "text": [
      "Epoch 1\n",
      "-------------------------------\n",
      "loss: 2.302589  [   64/60000]\n",
      "loss: 2.301260  [ 6464/60000]\n",
      "loss: 2.299319  [12864/60000]\n",
      "loss: 2.302299  [19264/60000]\n",
      "loss: 2.294230  [25664/60000]\n",
      "loss: 2.290985  [32064/60000]\n",
      "loss: 2.291393  [38464/60000]\n",
      "loss: 2.279717  [44864/60000]\n",
      "loss: 2.283239  [51264/60000]\n",
      "loss: 2.283343  [57664/60000]\n",
      "Test Error: \n",
      " Accuracy: 25.3%, Avg loss: 2.278904 \n",
      "\n",
      "Epoch 2\n",
      "-------------------------------\n",
      "loss: 2.275500  [   64/60000]\n",
      "loss: 2.279336  [ 6464/60000]\n",
      "loss: 2.269692  [12864/60000]\n",
      "loss: 2.279490  [19264/60000]\n",
      "loss: 2.266400  [25664/60000]\n",
      "loss: 2.255665  [32064/60000]\n",
      "loss: 2.262991  [38464/60000]\n",
      "loss: 2.241750  [44864/60000]\n",
      "loss: 2.253358  [51264/60000]\n",
      "loss: 2.247384  [57664/60000]\n",
      "Test Error: \n",
      " Accuracy: 43.1%, Avg loss: 2.244210 \n",
      "\n",
      "Epoch 3\n",
      "-------------------------------\n",
      "loss: 2.244870  [   64/60000]\n",
      "loss: 2.249873  [ 6464/60000]\n",
      "loss: 2.228531  [12864/60000]\n",
      "loss: 2.245885  [19264/60000]\n",
      "loss: 2.210491  [25664/60000]\n",
      "loss: 2.202160  [32064/60000]\n",
      "loss: 2.213972  [38464/60000]\n",
      "loss: 2.180901  [44864/60000]\n",
      "loss: 2.212203  [51264/60000]\n",
      "loss: 2.190257  [57664/60000]\n",
      "Test Error: \n",
      " Accuracy: 42.4%, Avg loss: 2.189723 \n",
      "\n",
      "Epoch 4\n",
      "-------------------------------\n",
      "loss: 2.201554  [   64/60000]\n",
      "loss: 2.202526  [ 6464/60000]\n",
      "loss: 2.172697  [12864/60000]\n",
      "loss: 2.199042  [19264/60000]\n",
      "loss: 2.132540  [25664/60000]\n",
      "loss: 2.142107  [32064/60000]\n",
      "loss: 2.150774  [38464/60000]\n",
      "loss: 2.116066  [44864/60000]\n",
      "loss: 2.166129  [51264/60000]\n",
      "loss: 2.132296  [57664/60000]\n",
      "Test Error: \n",
      " Accuracy: 44.5%, Avg loss: 2.137346 \n",
      "\n",
      "Epoch 5\n",
      "-------------------------------\n",
      "loss: 2.158509  [   64/60000]\n",
      "loss: 2.160833  [ 6464/60000]\n",
      "loss: 2.132266  [12864/60000]\n",
      "loss: 2.159054  [19264/60000]\n",
      "loss: 2.076187  [25664/60000]\n",
      "loss: 2.099138  [32064/60000]\n",
      "loss: 2.095280  [38464/60000]\n",
      "loss: 2.067138  [44864/60000]\n",
      "loss: 2.124441  [51264/60000]\n",
      "loss: 2.079765  [57664/60000]\n",
      "Test Error: \n",
      " Accuracy: 47.1%, Avg loss: 2.093546 \n",
      "\n",
      "Epoch 6\n",
      "-------------------------------\n",
      "loss: 2.122270  [   64/60000]\n",
      "loss: 2.124605  [ 6464/60000]\n",
      "loss: 2.097185  [12864/60000]\n",
      "loss: 2.119762  [19264/60000]\n",
      "loss: 2.032573  [25664/60000]\n",
      "loss: 2.066281  [32064/60000]\n",
      "loss: 2.050784  [38464/60000]\n",
      "loss: 2.032787  [44864/60000]\n",
      "loss: 2.092475  [51264/60000]\n",
      "loss: 2.036502  [57664/60000]\n",
      "Test Error: \n",
      " Accuracy: 54.2%, Avg loss: 2.054597 \n",
      "\n",
      "Epoch 7\n",
      "-------------------------------\n",
      "loss: 2.094392  [   64/60000]\n",
      "loss: 2.089014  [ 6464/60000]\n",
      "loss: 2.059563  [12864/60000]\n",
      "loss: 2.079130  [19264/60000]\n",
      "loss: 1.995083  [25664/60000]\n",
      "loss: 2.037100  [32064/60000]\n",
      "loss: 2.017957  [38464/60000]\n",
      "loss: 2.005369  [44864/60000]\n",
      "loss: 2.065125  [51264/60000]\n",
      "loss: 2.001997  [57664/60000]\n",
      "Test Error: \n",
      " Accuracy: 56.3%, Avg loss: 2.021596 \n",
      "\n",
      "Epoch 8\n",
      "-------------------------------\n",
      "loss: 2.066648  [   64/60000]\n",
      "loss: 2.057977  [ 6464/60000]\n",
      "loss: 2.022053  [12864/60000]\n",
      "loss: 2.046926  [19264/60000]\n",
      "loss: 1.967775  [25664/60000]\n",
      "loss: 2.004148  [32064/60000]\n",
      "loss: 1.993076  [38464/60000]\n",
      "loss: 1.979134  [44864/60000]\n",
      "loss: 2.034876  [51264/60000]\n",
      "loss: 1.972339  [57664/60000]\n",
      "Test Error: \n",
      " Accuracy: 61.2%, Avg loss: 1.993353 \n",
      "\n",
      "Epoch 9\n",
      "-------------------------------\n",
      "loss: 2.034274  [   64/60000]\n",
      "loss: 2.029162  [ 6464/60000]\n",
      "loss: 1.982688  [12864/60000]\n",
      "loss: 2.020262  [19264/60000]\n",
      "loss: 1.948545  [25664/60000]\n",
      "loss: 1.970824  [32064/60000]\n",
      "loss: 1.973242  [38464/60000]\n",
      "loss: 1.955295  [44864/60000]\n",
      "loss: 2.005712  [51264/60000]\n",
      "loss: 1.947880  [57664/60000]\n",
      "Test Error: \n",
      " Accuracy: 65.3%, Avg loss: 1.969317 \n",
      "\n",
      "Epoch 10\n",
      "-------------------------------\n",
      "loss: 2.003173  [   64/60000]\n",
      "loss: 2.004009  [ 6464/60000]\n",
      "loss: 1.948349  [12864/60000]\n",
      "loss: 1.998096  [19264/60000]\n",
      "loss: 1.933171  [25664/60000]\n",
      "loss: 1.943642  [32064/60000]\n",
      "loss: 1.956368  [38464/60000]\n",
      "loss: 1.936014  [44864/60000]\n",
      "loss: 1.982672  [51264/60000]\n",
      "loss: 1.927177  [57664/60000]\n",
      "Test Error: \n",
      " Accuracy: 65.6%, Avg loss: 1.949815 \n",
      "\n",
      "Epoch 11\n",
      "-------------------------------\n",
      "loss: 1.979286  [   64/60000]\n",
      "loss: 1.985230  [ 6464/60000]\n",
      "loss: 1.922797  [12864/60000]\n",
      "loss: 1.980036  [19264/60000]\n",
      "loss: 1.919721  [25664/60000]\n",
      "loss: 1.922359  [32064/60000]\n",
      "loss: 1.942194  [38464/60000]\n",
      "loss: 1.920681  [44864/60000]\n",
      "loss: 1.964483  [51264/60000]\n",
      "loss: 1.909714  [57664/60000]\n",
      "Test Error: \n",
      " Accuracy: 65.7%, Avg loss: 1.933951 \n",
      "\n",
      "Epoch 12\n",
      "-------------------------------\n",
      "loss: 1.960714  [   64/60000]\n",
      "loss: 1.970888  [ 6464/60000]\n",
      "loss: 1.902930  [12864/60000]\n",
      "loss: 1.965157  [19264/60000]\n",
      "loss: 1.908379  [25664/60000]\n",
      "loss: 1.905146  [32064/60000]\n",
      "loss: 1.930391  [38464/60000]\n",
      "loss: 1.908229  [44864/60000]\n",
      "loss: 1.949590  [51264/60000]\n",
      "loss: 1.895061  [57664/60000]\n",
      "Test Error: \n",
      " Accuracy: 66.0%, Avg loss: 1.920896 \n",
      "\n",
      "Epoch 13\n",
      "-------------------------------\n",
      "loss: 1.945640  [   64/60000]\n",
      "loss: 1.959503  [ 6464/60000]\n",
      "loss: 1.886837  [12864/60000]\n",
      "loss: 1.952734  [19264/60000]\n",
      "loss: 1.898923  [25664/60000]\n",
      "loss: 1.890944  [32064/60000]\n",
      "loss: 1.920489  [38464/60000]\n",
      "loss: 1.897957  [44864/60000]\n",
      "loss: 1.937140  [51264/60000]\n",
      "loss: 1.882672  [57664/60000]\n",
      "Test Error: \n",
      " Accuracy: 66.2%, Avg loss: 1.910002 \n",
      "\n",
      "Epoch 14\n",
      "-------------------------------\n",
      "loss: 1.933133  [   64/60000]\n",
      "loss: 1.950245  [ 6464/60000]\n",
      "loss: 1.873522  [12864/60000]\n",
      "loss: 1.942220  [19264/60000]\n",
      "loss: 1.890983  [25664/60000]\n",
      "loss: 1.879049  [32064/60000]\n",
      "loss: 1.912077  [38464/60000]\n",
      "loss: 1.889360  [44864/60000]\n",
      "loss: 1.926575  [51264/60000]\n",
      "loss: 1.872084  [57664/60000]\n",
      "Test Error: \n",
      " Accuracy: 66.3%, Avg loss: 1.900786 \n",
      "\n",
      "Epoch 15\n",
      "-------------------------------\n",
      "loss: 1.922593  [   64/60000]\n",
      "loss: 1.942572  [ 6464/60000]\n",
      "loss: 1.862333  [12864/60000]\n",
      "loss: 1.933199  [19264/60000]\n",
      "loss: 1.884243  [25664/60000]\n",
      "loss: 1.868950  [32064/60000]\n",
      "loss: 1.904839  [38464/60000]\n",
      "loss: 1.882065  [44864/60000]\n",
      "loss: 1.917497  [51264/60000]\n",
      "loss: 1.862941  [57664/60000]\n",
      "Test Error: \n",
      " Accuracy: 66.4%, Avg loss: 1.892886 \n",
      "\n",
      "Done!\n"
     ]
    }
   ],
   "source": [
    "for t in range(n_epochs):\n",
    "    print(f\"Epoch {t+1}\\n-------------------------------\")\n",
    "    train(train_dataloader, model, loss_fn, optimizer)\n",
    "    test(test_dataloader, model, loss_fn)\n",
    "print(\"Done!\")"
   ]
  },
  {
   "attachments": {},
   "cell_type": "markdown",
   "id": "26d21c36-4086-48df-b648-4cbd347c33b2",
   "metadata": {},
   "source": [
    "# Inference"
   ]
  },
  {
   "cell_type": "code",
   "execution_count": 17,
   "id": "f927da28-a9c9-4d0a-974e-adbd6a7f4e97",
   "metadata": {
    "tags": []
   },
   "outputs": [],
   "source": [
    "classes = training_data.classes"
   ]
  },
  {
   "cell_type": "code",
   "execution_count": 18,
   "id": "a4fff27b-163e-4ae0-9244-7794455d4dd9",
   "metadata": {
    "tags": []
   },
   "outputs": [],
   "source": [
    "# Remember that you must call model.eval() to set dropout and \n",
    "# batch normalization layers to evaluation mode before running inference. \n",
    "# Failing to do this will yield inconsistent inference results.\n",
    "model.eval()\n",
    "\n",
    "preds = []\n",
    "targets = []\n",
    "for X, y in iter(test_data):\n",
    "    with torch.no_grad(): # Context-manager that disabled gradient calculation.\n",
    "        preds.append(model(X.to(device)).argmax(axis=1).item())\n",
    "        targets.append(y)"
   ]
  },
  {
   "cell_type": "code",
   "execution_count": 19,
   "id": "6512f570-1dc5-4214-83ba-f5346ffacec2",
   "metadata": {
    "tags": []
   },
   "outputs": [],
   "source": [
    "wrongs = [i for i, (x, y) in enumerate(zip(preds, targets)) if y != x]\n",
    "corrects = [i for i, (x, y) in enumerate(zip(preds, targets)) if y == x]"
   ]
  },
  {
   "attachments": {},
   "cell_type": "markdown",
   "id": "3b6b4906-464e-413d-8f25-d6dde8865522",
   "metadata": {},
   "source": [
    "# Visualization"
   ]
  },
  {
   "cell_type": "code",
   "execution_count": 21,
   "id": "b327d9c2-1c05-428b-9f80-7add9f92c0f1",
   "metadata": {
    "tags": []
   },
   "outputs": [],
   "source": [
    "import matplotlib.pyplot as plt\n",
    "from PIL import Image\n",
    "from torchvision import transforms\n",
    "\n",
    "transform = transforms.ToPILImage()"
   ]
  },
  {
   "cell_type": "code",
   "execution_count": 22,
   "id": "2e8b7000-c1da-4d88-afc7-5a52e9b276f2",
   "metadata": {
    "tags": []
   },
   "outputs": [
    {
     "data": {
      "image/png": "[encoded data removed]",
      "text/plain": [
       "<Figure size 640x480 with 5 Axes>"
      ]
     },
     "metadata": {},
     "output_type": "display_data"
    }
   ],
   "source": [
    "n_samples = 5\n",
    "fig, ax = plt.subplots(1, n_samples)\n",
    "for i in range(0, n_samples):\n",
    "    img = transform(test_data[wrongs[i]][0])\n",
    "    ax[i].set_title(f\"T: {classes[targets[wrongs[i]]]}\\n P: {classes[preds[wrongs[i]]]}\", fontsize=10)\n",
    "    ax[i].imshow(img, cmap='gray')\n",
    "    ax[i].axis('off')"
   ]
  },
  {
   "cell_type": "code",
   "execution_count": 23,
   "id": "85ae1090-751e-4201-ac1f-09579d5dec7d",
   "metadata": {
    "tags": []
   },
   "outputs": [
    {
     "data": {
      "image/png": "[encoded data removed]",
      "text/plain": [
       "<Figure size 640x480 with 5 Axes>"
      ]
     },
     "metadata": {},
     "output_type": "display_data"
    }
   ],
   "source": [
    "n_samples = 5\n",
    "fig, ax = plt.subplots(1, n_samples)\n",
    "for i in range(0, n_samples):\n",
    "    img = transform(test_data[corrects[i]][0])\n",
    "    ax[i].set_title(f\"T: {classes[targets[corrects[i]]]}\\n P: {classes[preds[corrects[i]]]}\", fontsize=10)\n",
    "    ax[i].imshow(img, cmap='gray')\n",
    "    ax[i].axis('off')"
   ]
  },
  {
   "attachments": {},
   "cell_type": "markdown",
   "id": "42438b33-5208-4b50-8b88-aae9191d1327",
   "metadata": {},
   "source": [
    "# Model 2\n",
    "\n",
    "This is the model proposed in the Quickstart guide"
   ]
  },
  {
   "cell_type": "code",
   "execution_count": 24,
   "id": "dc907ba3-efde-4fb7-ab2e-2e90928d4914",
   "metadata": {
    "tags": []
   },
   "outputs": [],
   "source": [
    "# Define model\n",
    "class NeuralNetwork_2(nn.Module):\n",
    "    def __init__(self, num_outputs):\n",
    "        super().__init__()\n",
    "        self.flatten = nn.Flatten()\n",
    "        self.linear_relu_stack = nn.Sequential(\n",
    "            nn.Linear(HEIGHT*WIDTH, 512),\n",
    "            nn.ReLU(),\n",
    "            nn.Linear(512, 512),\n",
    "            nn.ReLU(),\n",
    "            nn.Linear(512, num_outputs)\n",
    "        )\n",
    "\n",
    "    def forward(self, x):\n",
    "        x = self.flatten(x)\n",
    "        logits = self.linear_relu_stack(x)\n",
    "        return logits"
   ]
  },
  {
   "cell_type": "code",
   "execution_count": 25,
   "id": "4da1d1fa-84ea-4228-9b70-d857eafa70af",
   "metadata": {
    "tags": []
   },
   "outputs": [
    {
     "name": "stdout",
     "output_type": "stream",
     "text": [
      "NeuralNetwork_2(\n",
      "  (flatten): Flatten(start_dim=1, end_dim=-1)\n",
      "  (linear_relu_stack): Sequential(\n",
      "    (0): Linear(in_features=784, out_features=512, bias=True)\n",
      "    (1): ReLU()\n",
      "    (2): Linear(in_features=512, out_features=512, bias=True)\n",
      "    (3): ReLU()\n",
      "    (4): Linear(in_features=512, out_features=10, bias=True)\n",
      "  )\n",
      ")\n"
     ]
    }
   ],
   "source": [
    "model = NeuralNetwork_2(num_classes).to(device)\n",
    "print(model)"
   ]
  },
  {
   "cell_type": "code",
   "execution_count": 26,
   "id": "3b2a470d-f3fa-4032-9d1e-c886c678a7b1",
   "metadata": {
    "tags": []
   },
   "outputs": [
    {
     "name": "stdout",
     "output_type": "stream",
     "text": [
      "Total number of model parameters: 669706\n"
     ]
    }
   ],
   "source": [
    "total_params = sum(\n",
    "    param.numel() for param in model.parameters()\n",
    ")\n",
    "\n",
    "print(f\"Total number of model parameters: {total_params}\")"
   ]
  },
  {
   "attachments": {},
   "cell_type": "markdown",
   "id": "d962b1d9-bff7-48e6-8423-536d4e3d884e",
   "metadata": {},
   "source": [
    "Notice that it has a lot more parameters to adjust."
   ]
  },
  {
   "cell_type": "code",
   "execution_count": 27,
   "id": "775b3b44-6d8f-40be-ba4f-2f76f146aa81",
   "metadata": {
    "tags": []
   },
   "outputs": [],
   "source": [
    "loss_fn = nn.CrossEntropyLoss()\n",
    "optimizer = torch.optim.SGD(model.parameters(), lr=1e-3)"
   ]
  },
  {
   "cell_type": "code",
   "execution_count": 28,
   "id": "afd8939d-9641-41d9-a351-d1cec95dadf3",
   "metadata": {
    "tags": []
   },
   "outputs": [
    {
     "name": "stdout",
     "output_type": "stream",
     "text": [
      "Epoch 1\n",
      "-------------------------------\n",
      "loss: 2.299999  [   64/60000]\n",
      "loss: 2.291228  [ 6464/60000]\n",
      "loss: 2.277668  [12864/60000]\n",
      "loss: 2.279188  [19264/60000]\n",
      "loss: 2.258960  [25664/60000]\n",
      "loss: 2.233015  [32064/60000]\n",
      "loss: 2.239481  [38464/60000]\n",
      "loss: 2.207935  [44864/60000]\n",
      "loss: 2.196483  [51264/60000]\n",
      "loss: 2.175887  [57664/60000]\n",
      "Test Error: \n",
      " Accuracy: 49.4%, Avg loss: 2.176430 \n",
      "\n",
      "Epoch 2\n",
      "-------------------------------\n",
      "loss: 2.178886  [   64/60000]\n",
      "loss: 2.171409  [ 6464/60000]\n",
      "loss: 2.125588  [12864/60000]\n",
      "loss: 2.142025  [19264/60000]\n",
      "loss: 2.096390  [25664/60000]\n",
      "loss: 2.042639  [32064/60000]\n",
      "loss: 2.065289  [38464/60000]\n",
      "loss: 1.995562  [44864/60000]\n",
      "loss: 1.985977  [51264/60000]\n",
      "loss: 1.931123  [57664/60000]\n",
      "Test Error: \n",
      " Accuracy: 58.7%, Avg loss: 1.936582 \n",
      "\n",
      "Epoch 3\n",
      "-------------------------------\n",
      "loss: 1.960208  [   64/60000]\n",
      "loss: 1.939365  [ 6464/60000]\n",
      "loss: 1.836597  [12864/60000]\n",
      "loss: 1.862901  [19264/60000]\n",
      "loss: 1.758624  [25664/60000]\n",
      "loss: 1.712999  [32064/60000]\n",
      "loss: 1.722328  [38464/60000]\n",
      "loss: 1.630453  [44864/60000]\n",
      "loss: 1.642820  [51264/60000]\n",
      "loss: 1.536057  [57664/60000]\n",
      "Test Error: \n",
      " Accuracy: 59.2%, Avg loss: 1.564399 \n",
      "\n",
      "Epoch 4\n",
      "-------------------------------\n",
      "loss: 1.631485  [   64/60000]\n",
      "loss: 1.595200  [ 6464/60000]\n",
      "loss: 1.449997  [12864/60000]\n",
      "loss: 1.503360  [19264/60000]\n",
      "loss: 1.382363  [25664/60000]\n",
      "loss: 1.387086  [32064/60000]\n",
      "loss: 1.389212  [38464/60000]\n",
      "loss: 1.317607  [44864/60000]\n",
      "loss: 1.349238  [51264/60000]\n",
      "loss: 1.241845  [57664/60000]\n",
      "Test Error: \n",
      " Accuracy: 61.8%, Avg loss: 1.278286 \n",
      "\n",
      "Epoch 5\n",
      "-------------------------------\n",
      "loss: 1.365586  [   64/60000]\n",
      "loss: 1.338838  [ 6464/60000]\n",
      "loss: 1.174590  [12864/60000]\n",
      "loss: 1.265308  [19264/60000]\n",
      "loss: 1.143212  [25664/60000]\n",
      "loss: 1.178626  [32064/60000]\n",
      "loss: 1.191289  [38464/60000]\n",
      "loss: 1.129226  [44864/60000]\n",
      "loss: 1.166237  [51264/60000]\n",
      "loss: 1.077497  [57664/60000]\n",
      "Test Error: \n",
      " Accuracy: 63.9%, Avg loss: 1.106209 \n",
      "\n",
      "Epoch 6\n",
      "-------------------------------\n",
      "loss: 1.187981  [   64/60000]\n",
      "loss: 1.181495  [ 6464/60000]\n",
      "loss: 0.999567  [12864/60000]\n",
      "loss: 1.123543  [19264/60000]\n",
      "loss: 1.001146  [25664/60000]\n",
      "loss: 1.042490  [32064/60000]\n",
      "loss: 1.073049  [38464/60000]\n",
      "loss: 1.012933  [44864/60000]\n",
      "loss: 1.050710  [51264/60000]\n",
      "loss: 0.977392  [57664/60000]\n",
      "Test Error: \n",
      " Accuracy: 65.5%, Avg loss: 0.997794 \n",
      "\n",
      "Epoch 7\n",
      "-------------------------------\n",
      "loss: 1.065527  [   64/60000]\n",
      "loss: 1.081599  [ 6464/60000]\n",
      "loss: 0.882022  [12864/60000]\n",
      "loss: 1.031754  [19264/60000]\n",
      "loss: 0.914053  [25664/60000]\n",
      "loss: 0.946869  [32064/60000]\n",
      "loss: 0.996608  [38464/60000]\n",
      "loss: 0.937534  [44864/60000]\n",
      "loss: 0.971688  [51264/60000]\n",
      "loss: 0.910498  [57664/60000]\n",
      "Test Error: \n",
      " Accuracy: 66.6%, Avg loss: 0.923949 \n",
      "\n",
      "Epoch 8\n",
      "-------------------------------\n",
      "loss: 0.975135  [   64/60000]\n",
      "loss: 1.011922  [ 6464/60000]\n",
      "loss: 0.797774  [12864/60000]\n",
      "loss: 0.966815  [19264/60000]\n",
      "loss: 0.856391  [25664/60000]\n",
      "loss: 0.875784  [32064/60000]\n",
      "loss: 0.942611  [38464/60000]\n",
      "loss: 0.886812  [44864/60000]\n",
      "loss: 0.914834  [51264/60000]\n",
      "loss: 0.862146  [57664/60000]\n",
      "Test Error: \n",
      " Accuracy: 67.7%, Avg loss: 0.870553 \n",
      "\n",
      "Epoch 9\n",
      "-------------------------------\n",
      "loss: 0.905489  [   64/60000]\n",
      "loss: 0.959787  [ 6464/60000]\n",
      "loss: 0.734520  [12864/60000]\n",
      "loss: 0.917912  [19264/60000]\n",
      "loss: 0.815619  [25664/60000]\n",
      "loss: 0.821676  [32064/60000]\n",
      "loss: 0.901737  [38464/60000]\n",
      "loss: 0.851316  [44864/60000]\n",
      "loss: 0.872146  [51264/60000]\n",
      "loss: 0.824794  [57664/60000]\n",
      "Test Error: \n",
      " Accuracy: 68.7%, Avg loss: 0.829880 \n",
      "\n",
      "Epoch 10\n",
      "-------------------------------\n",
      "loss: 0.849723  [   64/60000]\n",
      "loss: 0.917928  [ 6464/60000]\n",
      "loss: 0.685187  [12864/60000]\n",
      "loss: 0.879482  [19264/60000]\n",
      "loss: 0.784559  [25664/60000]\n",
      "loss: 0.779577  [32064/60000]\n",
      "loss: 0.868700  [38464/60000]\n",
      "loss: 0.825321  [44864/60000]\n",
      "loss: 0.839341  [51264/60000]\n",
      "loss: 0.794617  [57664/60000]\n",
      "Test Error: \n",
      " Accuracy: 70.1%, Avg loss: 0.797650 \n",
      "\n",
      "Epoch 11\n",
      "-------------------------------\n",
      "loss: 0.803677  [   64/60000]\n",
      "loss: 0.882660  [ 6464/60000]\n",
      "loss: 0.645613  [12864/60000]\n",
      "loss: 0.848558  [19264/60000]\n",
      "loss: 0.759687  [25664/60000]\n",
      "loss: 0.746386  [32064/60000]\n",
      "loss: 0.840467  [38464/60000]\n",
      "loss: 0.805234  [44864/60000]\n",
      "loss: 0.813319  [51264/60000]\n",
      "loss: 0.769412  [57664/60000]\n",
      "Test Error: \n",
      " Accuracy: 71.4%, Avg loss: 0.771060 \n",
      "\n",
      "Epoch 12\n",
      "-------------------------------\n",
      "loss: 0.764810  [   64/60000]\n",
      "loss: 0.851700  [ 6464/60000]\n",
      "loss: 0.612987  [12864/60000]\n",
      "loss: 0.823087  [19264/60000]\n",
      "loss: 0.739089  [25664/60000]\n",
      "loss: 0.719610  [32064/60000]\n",
      "loss: 0.815439  [38464/60000]\n",
      "loss: 0.788778  [44864/60000]\n",
      "loss: 0.792059  [51264/60000]\n",
      "loss: 0.747642  [57664/60000]\n",
      "Test Error: \n",
      " Accuracy: 72.3%, Avg loss: 0.748304 \n",
      "\n",
      "Epoch 13\n",
      "-------------------------------\n",
      "loss: 0.731215  [   64/60000]\n",
      "loss: 0.823927  [ 6464/60000]\n",
      "loss: 0.585350  [12864/60000]\n",
      "loss: 0.801597  [19264/60000]\n",
      "loss: 0.721356  [25664/60000]\n",
      "loss: 0.697532  [32064/60000]\n",
      "loss: 0.792542  [38464/60000]\n",
      "loss: 0.774653  [44864/60000]\n",
      "loss: 0.773952  [51264/60000]\n",
      "loss: 0.728264  [57664/60000]\n",
      "Test Error: \n",
      " Accuracy: 73.6%, Avg loss: 0.728218 \n",
      "\n",
      "Epoch 14\n",
      "-------------------------------\n",
      "loss: 0.701588  [   64/60000]\n",
      "loss: 0.798558  [ 6464/60000]\n",
      "loss: 0.561429  [12864/60000]\n",
      "loss: 0.783013  [19264/60000]\n",
      "loss: 0.705578  [25664/60000]\n",
      "loss: 0.678883  [32064/60000]\n",
      "loss: 0.771155  [38464/60000]\n",
      "loss: 0.761998  [44864/60000]\n",
      "loss: 0.758251  [51264/60000]\n",
      "loss: 0.710748  [57664/60000]\n",
      "Test Error: \n",
      " Accuracy: 74.3%, Avg loss: 0.710093 \n",
      "\n",
      "Epoch 15\n",
      "-------------------------------\n",
      "loss: 0.675120  [   64/60000]\n",
      "loss: 0.775333  [ 6464/60000]\n",
      "loss: 0.540353  [12864/60000]\n",
      "loss: 0.766575  [19264/60000]\n",
      "loss: 0.691295  [25664/60000]\n",
      "loss: 0.662868  [32064/60000]\n",
      "loss: 0.750962  [38464/60000]\n",
      "loss: 0.750349  [44864/60000]\n",
      "loss: 0.744188  [51264/60000]\n",
      "loss: 0.694690  [57664/60000]\n",
      "Test Error: \n",
      " Accuracy: 75.0%, Avg loss: 0.693478 \n",
      "\n",
      "Done!\n"
     ]
    }
   ],
   "source": [
    "for t in range(n_epochs):\n",
    "    print(f\"Epoch {t+1}\\n-------------------------------\")\n",
    "    train(train_dataloader, model, loss_fn, optimizer)\n",
    "    test(test_dataloader, model, loss_fn)\n",
    "print(\"Done!\")"
   ]
  },
  {
   "attachments": {},
   "cell_type": "markdown",
   "id": "22c29f52-7714-467b-adf6-6d03aa194bf9",
   "metadata": {},
   "source": [
    "# Inference"
   ]
  },
  {
   "cell_type": "code",
   "execution_count": 29,
   "id": "48494a59-543c-4d9c-9710-02673db15222",
   "metadata": {
    "tags": []
   },
   "outputs": [],
   "source": [
    "classes = training_data.classes"
   ]
  },
  {
   "cell_type": "code",
   "execution_count": 30,
   "id": "ebad5230-46ee-4b07-9ffb-05febf81cd6e",
   "metadata": {
    "tags": []
   },
   "outputs": [],
   "source": [
    "# Remember that you must call model.eval() to set dropout and \n",
    "# batch normalization layers to evaluation mode before running inference. \n",
    "# Failing to do this will yield inconsistent inference results.\n",
    "model.eval()\n",
    "\n",
    "preds = []\n",
    "targets = []\n",
    "for X, y in iter(test_data):\n",
    "    with torch.no_grad(): # Context-manager that disabled gradient calculation.\n",
    "        preds.append(model(X.to(device)).argmax(axis=1).item())\n",
    "        targets.append(y)"
   ]
  },
  {
   "cell_type": "code",
   "execution_count": 31,
   "id": "1fa7ef26-0d2e-4e8f-abb9-6d38c7332e44",
   "metadata": {
    "tags": []
   },
   "outputs": [],
   "source": [
    "wrongs = [i for i, (x, y) in enumerate(zip(preds, targets)) if y != x]\n",
    "corrects = [i for i, (x, y) in enumerate(zip(preds, targets)) if y == x]"
   ]
  },
  {
   "attachments": {},
   "cell_type": "markdown",
   "id": "7e315212-fc4e-42ac-b96f-640b14d3bc1e",
   "metadata": {},
   "source": [
    "# Visualization"
   ]
  },
  {
   "cell_type": "code",
   "execution_count": 32,
   "id": "3aaedb9b-1e8a-41b4-bc7e-dfd0d293a9d6",
   "metadata": {
    "tags": []
   },
   "outputs": [
    {
     "data": {
      "image/png": "[encoded data removed]",
      "text/plain": [
       "<Figure size 640x480 with 5 Axes>"
      ]
     },
     "metadata": {},
     "output_type": "display_data"
    }
   ],
   "source": [
    "n_samples = 5\n",
    "fig, ax = plt.subplots(1, n_samples)\n",
    "for i in range(0, n_samples):\n",
    "    img = transform(test_data[wrongs[i]][0])\n",
    "    ax[i].set_title(f\"T: {classes[targets[wrongs[i]]]}\\n P: {classes[preds[wrongs[i]]]}\", fontsize=10)\n",
    "    ax[i].imshow(img, cmap='gray')\n",
    "    ax[i].axis('off')"
   ]
  },
  {
   "attachments": {},
   "cell_type": "markdown",
   "id": "bf91ba92-88b5-4ca8-b248-9f5fd7a9033a",
   "metadata": {},
   "source": [
    "# Conclusion\n",
    "\n",
    "The softmax implementation has considerably less parameters to tune and yields a slightly lower accuracy when compared to the multilayer perceptron model proposed in Quickstart guide."
   ]
  },
  {
   "cell_type": "code",
   "execution_count": null,
   "id": "d59fb488-fe66-4d2b-808a-3e84e43b4ad2",
   "metadata": {},
   "outputs": [],
   "source": []
  }
 ],
 "metadata": {
  "kernelspec": {
   "display_name": "Python 3 (ipykernel)",
   "language": "python",
   "name": "python3"
  },
  "language_info": {
   "codemirror_mode": {
    "name": "ipython",
    "version": 3
   },
   "file_extension": ".py",
   "mimetype": "text/x-python",
   "name": "python",
   "nbconvert_exporter": "python",
   "pygments_lexer": "ipython3",
   "version": "3.10.6"
  }
 },
 "nbformat": 4,
 "nbformat_minor": 5
}
