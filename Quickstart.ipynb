{
 "cells": [
  {
   "cell_type": "markdown",
   "id": "b8252062-debd-46f3-8574-ab1bea4cca38",
   "metadata": {},
   "source": [
    "# Fashion MNIST test\n",
    "\n",
    "Compare performance of Softmax Regression net vs [Quickstart net](https://pytorch.org/tutorials/beginner/basics/quickstart_tutorial.html)."
   ]
  },
  {
   "cell_type": "code",
   "execution_count": 1,
   "id": "5e51b286-84c1-4e0c-ba78-74fc70d361ca",
   "metadata": {
    "tags": []
   },
   "outputs": [],
   "source": [
    "import torch\n",
    "from torch import nn\n",
    "from torch.utils.data import DataLoader\n",
    "from torchvision import datasets\n",
    "from torchvision.transforms import ToTensor"
   ]
  },
  {
   "cell_type": "markdown",
   "id": "f9e238f1-df41-4d9c-b185-2b179d61a2d1",
   "metadata": {},
   "source": [
    "# Load Data\n",
    "\n",
    "Fashion MNIST Dataset"
   ]
  },
  {
   "cell_type": "code",
   "execution_count": 2,
   "id": "1be797f2-86dc-4dfa-b9cf-33efceaf77f0",
   "metadata": {
    "tags": []
   },
   "outputs": [],
   "source": [
    "# Download training data from open datasets.\n",
    "training_data = datasets.FashionMNIST(\n",
    "    root=\"data\",\n",
    "    train=True,\n",
    "    download=True,\n",
    "    transform=ToTensor(),\n",
    ")\n",
    "\n",
    "# Download test data from open datasets.\n",
    "test_data = datasets.FashionMNIST(\n",
    "    root=\"data\",\n",
    "    train=False,\n",
    "    download=True,\n",
    "    transform=ToTensor(),\n",
    ")"
   ]
  },
  {
   "cell_type": "code",
   "execution_count": 3,
   "id": "16cc97f4-fb99-4ad3-9636-135f798d092e",
   "metadata": {
    "tags": []
   },
   "outputs": [
    {
     "name": "stdout",
     "output_type": "stream",
     "text": [
      "Shape of X [N, C, H, W]: torch.Size([64, 1, 28, 28])\n",
      "Shape of y: torch.Size([64]) torch.int64\n"
     ]
    }
   ],
   "source": [
    "batch_size = 64\n",
    "\n",
    "# Create data loaders.\n",
    "train_dataloader = DataLoader(training_data, batch_size=batch_size)\n",
    "test_dataloader = DataLoader(test_data, batch_size=batch_size)\n",
    "\n",
    "for X, y in test_dataloader:\n",
    "    print(f\"Shape of X [N, C, H, W]: {X.shape}\")\n",
    "    print(f\"Shape of y: {y.shape} {y.dtype}\")\n",
    "    break"
   ]
  },
  {
   "cell_type": "code",
   "execution_count": 4,
   "id": "7ee681ff-2485-4b37-aed2-6f650e35d5d5",
   "metadata": {
    "tags": []
   },
   "outputs": [
    {
     "name": "stdout",
     "output_type": "stream",
     "text": [
      "There are 10 classes in training data\n"
     ]
    }
   ],
   "source": [
    "num_classes = len(training_data.classes)\n",
    "print(f\"There are {num_classes} classes in training data\")"
   ]
  },
  {
   "cell_type": "markdown",
   "id": "dcaa1755-4911-4eb2-847a-fcdc19f6fc21",
   "metadata": {},
   "source": [
    "# Model 1"
   ]
  },
  {
   "cell_type": "code",
   "execution_count": 5,
   "id": "bea016eb-dfaa-4871-8943-2f90ac30591e",
   "metadata": {
    "tags": []
   },
   "outputs": [
    {
     "name": "stdout",
     "output_type": "stream",
     "text": [
      "Using cuda device\n"
     ]
    }
   ],
   "source": [
    "# Get cpu, gpu or mps device for training.\n",
    "device = (\n",
    "    \"cuda\"\n",
    "    if torch.cuda.is_available()\n",
    "    else \"mps\"\n",
    "    if torch.backends.mps.is_available()\n",
    "    else \"cpu\"\n",
    ")\n",
    "print(f\"Using {device} device\")"
   ]
  },
  {
   "cell_type": "code",
   "execution_count": 6,
   "id": "a4a5bec2-274a-4c4e-96b1-6c956f967ce4",
   "metadata": {
    "tags": []
   },
   "outputs": [],
   "source": [
    "# Define model\n",
    "class NeuralNetwork(nn.Module):\n",
    "    def __init__(self, num_outputs):\n",
    "        super().__init__()\n",
    "        self.net = nn.Sequential(\n",
    "            nn.Flatten(),\n",
    "            nn.Linear(in_features=28*28, out_features=num_outputs)\n",
    "        )\n",
    "\n",
    "    def forward(self, x):\n",
    "        return self.net(x)"
   ]
  },
  {
   "cell_type": "code",
   "execution_count": 7,
   "id": "e2b499dc-9e2b-486f-a52a-356fef90dee8",
   "metadata": {
    "tags": []
   },
   "outputs": [
    {
     "name": "stdout",
     "output_type": "stream",
     "text": [
      "NeuralNetwork(\n",
      "  (net): Sequential(\n",
      "    (0): Flatten(start_dim=1, end_dim=-1)\n",
      "    (1): Linear(in_features=784, out_features=10, bias=True)\n",
      "  )\n",
      ")\n"
     ]
    }
   ],
   "source": [
    "model = NeuralNetwork(num_classes).to(device)\n",
    "print(model)"
   ]
  },
  {
   "cell_type": "code",
   "execution_count": 8,
   "id": "9e0601dd-4642-4f48-9a2f-ef82140e1dec",
   "metadata": {
    "tags": []
   },
   "outputs": [
    {
     "name": "stdout",
     "output_type": "stream",
     "text": [
      "Total number of model parameters: 7850\n"
     ]
    }
   ],
   "source": [
    "total_params = sum(\n",
    "    param.numel() for param in model.parameters()\n",
    ")\n",
    "print(f\"Total number of model parameters: {total_params}\")"
   ]
  },
  {
   "cell_type": "markdown",
   "id": "02839fff-1187-451c-8c52-3c0bf7de7318",
   "metadata": {},
   "source": [
    "# Training"
   ]
  },
  {
   "cell_type": "code",
   "execution_count": 9,
   "id": "460f5dbf-5955-4fd6-bb67-5eb1a93341fb",
   "metadata": {
    "tags": []
   },
   "outputs": [],
   "source": [
    "loss_fn = nn.CrossEntropyLoss()\n",
    "optimizer = torch.optim.SGD(model.parameters(), lr=1e-3)"
   ]
  },
  {
   "cell_type": "code",
   "execution_count": 10,
   "id": "afda2efe-b403-4e3b-947f-abb8747be646",
   "metadata": {
    "tags": []
   },
   "outputs": [],
   "source": [
    "def train(dataloader, model, loss_fn, optimizer):\n",
    "    size = len(dataloader.dataset)\n",
    "    model.train()\n",
    "    for batch, (X, y) in enumerate(dataloader):\n",
    "        X, y = X.to(device), y.to(device)\n",
    "\n",
    "        # Compute prediction error\n",
    "        pred = model(X)\n",
    "        loss = loss_fn(pred, y)\n",
    "\n",
    "        # Backpropagation\n",
    "        optimizer.zero_grad()\n",
    "        loss.backward()\n",
    "        optimizer.step()\n",
    "\n",
    "        if batch % 100 == 0:\n",
    "            loss, current = loss.item(), (batch + 1) * len(X)\n",
    "            print(f\"loss: {loss:>7f}  [{current:>5d}/{size:>5d}]\")"
   ]
  },
  {
   "cell_type": "code",
   "execution_count": 11,
   "id": "79487fca-91db-4f32-a70b-20445c69e6fd",
   "metadata": {
    "tags": []
   },
   "outputs": [],
   "source": [
    "def test(dataloader, model, loss_fn):\n",
    "    size = len(dataloader.dataset)\n",
    "    num_batches = len(dataloader)\n",
    "    model.eval()\n",
    "    test_loss, correct = 0, 0\n",
    "    with torch.no_grad():\n",
    "        for X, y in dataloader:\n",
    "            X, y = X.to(device), y.to(device)\n",
    "            pred = model(X)\n",
    "            test_loss += loss_fn(pred, y).item()\n",
    "            correct += (pred.argmax(1) == y).type(torch.float).sum().item()\n",
    "    test_loss /= num_batches\n",
    "    correct /= size\n",
    "    print(f\"Test Error: \\n Accuracy: {(100*correct):>0.1f}%, Avg loss: {test_loss:>8f} \\n\")"
   ]
  },
  {
   "cell_type": "code",
   "execution_count": 12,
   "id": "59ae9354-0055-4dae-ac86-c19ee83c9412",
   "metadata": {
    "tags": []
   },
   "outputs": [
    {
     "name": "stdout",
     "output_type": "stream",
     "text": [
      "Epoch 1\n",
      "-------------------------------\n",
      "loss: 2.320627  [   64/60000]\n",
      "loss: 2.112096  [ 6464/60000]\n",
      "loss: 1.929814  [12864/60000]\n",
      "loss: 1.870182  [19264/60000]\n",
      "loss: 1.689131  [25664/60000]\n",
      "loss: 1.593257  [32064/60000]\n",
      "loss: 1.579746  [38464/60000]\n",
      "loss: 1.451106  [44864/60000]\n",
      "loss: 1.465839  [51264/60000]\n",
      "loss: 1.339055  [57664/60000]\n",
      "Test Error: \n",
      " Accuracy: 65.3%, Avg loss: 1.355290 \n",
      "\n",
      "Epoch 2\n",
      "-------------------------------\n",
      "loss: 1.410420  [   64/60000]\n",
      "loss: 1.377595  [ 6464/60000]\n",
      "loss: 1.220589  [12864/60000]\n",
      "loss: 1.320270  [19264/60000]\n",
      "loss: 1.166838  [25664/60000]\n",
      "loss: 1.164532  [32064/60000]\n",
      "loss: 1.200886  [38464/60000]\n",
      "loss: 1.122927  [44864/60000]\n",
      "loss: 1.171033  [51264/60000]\n",
      "loss: 1.069942  [57664/60000]\n",
      "Test Error: \n",
      " Accuracy: 67.5%, Avg loss: 1.097645 \n",
      "\n",
      "Epoch 3\n",
      "-------------------------------\n",
      "loss: 1.141419  [   64/60000]\n",
      "loss: 1.158436  [ 6464/60000]\n",
      "loss: 0.981194  [12864/60000]\n",
      "loss: 1.136290  [19264/60000]\n",
      "loss: 0.986526  [25664/60000]\n",
      "loss: 1.000831  [32064/60000]\n",
      "loss: 1.053695  [38464/60000]\n",
      "loss: 0.987464  [44864/60000]\n",
      "loss: 1.041263  [51264/60000]\n",
      "loss: 0.955502  [57664/60000]\n",
      "Test Error: \n",
      " Accuracy: 69.3%, Avg loss: 0.978873 \n",
      "\n",
      "Epoch 4\n",
      "-------------------------------\n",
      "loss: 1.008529  [   64/60000]\n",
      "loss: 1.051650  [ 6464/60000]\n",
      "loss: 0.857485  [12864/60000]\n",
      "loss: 1.043529  [19264/60000]\n",
      "loss: 0.895643  [25664/60000]\n",
      "loss: 0.913192  [32064/60000]\n",
      "loss: 0.972218  [38464/60000]\n",
      "loss: 0.911586  [44864/60000]\n",
      "loss: 0.966255  [51264/60000]\n",
      "loss: 0.890224  [57664/60000]\n",
      "Test Error: \n",
      " Accuracy: 71.2%, Avg loss: 0.908171 \n",
      "\n",
      "Epoch 5\n",
      "-------------------------------\n",
      "loss: 0.926020  [   64/60000]\n",
      "loss: 0.985343  [ 6464/60000]\n",
      "loss: 0.779756  [12864/60000]\n",
      "loss: 0.985963  [19264/60000]\n",
      "loss: 0.839903  [25664/60000]\n",
      "loss: 0.857145  [32064/60000]\n",
      "loss: 0.918378  [38464/60000]\n",
      "loss: 0.862101  [44864/60000]\n",
      "loss: 0.916275  [51264/60000]\n",
      "loss: 0.846577  [57664/60000]\n",
      "Test Error: \n",
      " Accuracy: 72.5%, Avg loss: 0.859855 \n",
      "\n",
      "Done!\n"
     ]
    }
   ],
   "source": [
    "epochs = 5\n",
    "for t in range(epochs):\n",
    "    print(f\"Epoch {t+1}\\n-------------------------------\")\n",
    "    train(train_dataloader, model, loss_fn, optimizer)\n",
    "    test(test_dataloader, model, loss_fn)\n",
    "print(\"Done!\")"
   ]
  },
  {
   "cell_type": "markdown",
   "id": "26d21c36-4086-48df-b648-4cbd347c33b2",
   "metadata": {},
   "source": [
    "# Inference"
   ]
  },
  {
   "cell_type": "code",
   "execution_count": 13,
   "id": "f927da28-a9c9-4d0a-974e-adbd6a7f4e97",
   "metadata": {
    "tags": []
   },
   "outputs": [],
   "source": [
    "classes = training_data.classes"
   ]
  },
  {
   "cell_type": "code",
   "execution_count": 14,
   "id": "a4fff27b-163e-4ae0-9244-7794455d4dd9",
   "metadata": {
    "tags": []
   },
   "outputs": [],
   "source": [
    "# Remember that you must call model.eval() to set dropout and \n",
    "# batch normalization layers to evaluation mode before running inference. \n",
    "# Failing to do this will yield inconsistent inference results.\n",
    "model.eval()\n",
    "\n",
    "preds = []\n",
    "targets = []\n",
    "for X, y in iter(test_data):\n",
    "    with torch.no_grad(): # Context-manager that disabled gradient calculation.\n",
    "        preds.append(model(X.to(device)).argmax(axis=1).item())\n",
    "        targets.append(y)"
   ]
  },
  {
   "cell_type": "code",
   "execution_count": 15,
   "id": "6512f570-1dc5-4214-83ba-f5346ffacec2",
   "metadata": {
    "tags": []
   },
   "outputs": [],
   "source": [
    "wrongs = [i for i, (x, y) in enumerate(zip(preds, targets)) if y != x]\n",
    "corrects = [i for i, (x, y) in enumerate(zip(preds, targets)) if y == x]"
   ]
  },
  {
   "cell_type": "markdown",
   "id": "3b6b4906-464e-413d-8f25-d6dde8865522",
   "metadata": {},
   "source": [
    "# Visualization"
   ]
  },
  {
   "cell_type": "code",
   "execution_count": 16,
   "id": "b327d9c2-1c05-428b-9f80-7add9f92c0f1",
   "metadata": {
    "tags": []
   },
   "outputs": [],
   "source": [
    "import matplotlib.pyplot as plt\n",
    "from PIL import Image\n",
    "from torchvision import transforms\n",
    "\n",
    "transform = transforms.ToPILImage()"
   ]
  },
  {
   "cell_type": "code",
   "execution_count": 17,
   "id": "2e8b7000-c1da-4d88-afc7-5a52e9b276f2",
   "metadata": {
    "tags": []
   },
   "outputs": [
    {
     "data": {
      "image/png": "[encoded data removed]",
      "text/plain": [
       "<Figure size 640x480 with 5 Axes>"
      ]
     },
     "metadata": {},
     "output_type": "display_data"
    }
   ],
   "source": [
    "n_samples = 5\n",
    "fig, ax = plt.subplots(1, n_samples)\n",
    "for i in range(0, n_samples):\n",
    "    img = transform(test_data[wrongs[i]][0])\n",
    "    ax[i].set_title(f\"T: {classes[targets[wrongs[i]]]}\\n P: {classes[preds[wrongs[i]]]}\", fontsize=10)\n",
    "    ax[i].imshow(img, cmap='gray')\n",
    "    ax[i].axis('off')"
   ]
  },
  {
   "cell_type": "code",
   "execution_count": 18,
   "id": "85ae1090-751e-4201-ac1f-09579d5dec7d",
   "metadata": {
    "tags": []
   },
   "outputs": [
    {
     "data": {
      "image/png": "[encoded data removed]",
      "text/plain": [
       "<Figure size 640x480 with 5 Axes>"
      ]
     },
     "metadata": {},
     "output_type": "display_data"
    }
   ],
   "source": [
    "n_samples = 5\n",
    "fig, ax = plt.subplots(1, n_samples)\n",
    "for i in range(0, n_samples):\n",
    "    img = transform(test_data[corrects[i]][0])\n",
    "    ax[i].set_title(f\"T: {classes[targets[corrects[i]]]}\\n P: {classes[preds[corrects[i]]]}\", fontsize=10)\n",
    "    ax[i].imshow(img, cmap='gray')\n",
    "    ax[i].axis('off')"
   ]
  },
  {
   "cell_type": "markdown",
   "id": "42438b33-5208-4b50-8b88-aae9191d1327",
   "metadata": {},
   "source": [
    "# Model 2"
   ]
  },
  {
   "cell_type": "code",
   "execution_count": 19,
   "id": "dc907ba3-efde-4fb7-ab2e-2e90928d4914",
   "metadata": {
    "tags": []
   },
   "outputs": [],
   "source": [
    "# Define model\n",
    "class NeuralNetwork_2(nn.Module):\n",
    "    def __init__(self, num_outputs):\n",
    "        super().__init__()\n",
    "        self.flatten = nn.Flatten()\n",
    "        self.linear_relu_stack = nn.Sequential(\n",
    "            nn.Linear(28*28, 512),\n",
    "            nn.ReLU(),\n",
    "            nn.Linear(512, 512),\n",
    "            nn.ReLU(),\n",
    "            nn.Linear(512, num_outputs)\n",
    "        )\n",
    "\n",
    "    def forward(self, x):\n",
    "        x = self.flatten(x)\n",
    "        logits = self.linear_relu_stack(x)\n",
    "        return logits"
   ]
  },
  {
   "cell_type": "code",
   "execution_count": 20,
   "id": "4da1d1fa-84ea-4228-9b70-d857eafa70af",
   "metadata": {
    "tags": []
   },
   "outputs": [
    {
     "name": "stdout",
     "output_type": "stream",
     "text": [
      "NeuralNetwork_2(\n",
      "  (flatten): Flatten(start_dim=1, end_dim=-1)\n",
      "  (linear_relu_stack): Sequential(\n",
      "    (0): Linear(in_features=784, out_features=512, bias=True)\n",
      "    (1): ReLU()\n",
      "    (2): Linear(in_features=512, out_features=512, bias=True)\n",
      "    (3): ReLU()\n",
      "    (4): Linear(in_features=512, out_features=10, bias=True)\n",
      "  )\n",
      ")\n"
     ]
    }
   ],
   "source": [
    "model = NeuralNetwork_2(num_classes).to(device)\n",
    "print(model)"
   ]
  },
  {
   "cell_type": "code",
   "execution_count": 21,
   "id": "3b2a470d-f3fa-4032-9d1e-c886c678a7b1",
   "metadata": {
    "tags": []
   },
   "outputs": [
    {
     "name": "stdout",
     "output_type": "stream",
     "text": [
      "Total number of model parameters: 669706\n"
     ]
    }
   ],
   "source": [
    "total_params = sum(\n",
    "    param.numel() for param in model.parameters()\n",
    ")\n",
    "\n",
    "print(f\"Total number of model parameters: {total_params}\")"
   ]
  },
  {
   "cell_type": "code",
   "execution_count": 22,
   "id": "775b3b44-6d8f-40be-ba4f-2f76f146aa81",
   "metadata": {
    "tags": []
   },
   "outputs": [],
   "source": [
    "loss_fn = nn.CrossEntropyLoss()\n",
    "optimizer = torch.optim.SGD(model.parameters(), lr=1e-3)"
   ]
  },
  {
   "cell_type": "code",
   "execution_count": 23,
   "id": "afd8939d-9641-41d9-a351-d1cec95dadf3",
   "metadata": {
    "tags": []
   },
   "outputs": [
    {
     "name": "stdout",
     "output_type": "stream",
     "text": [
      "Epoch 1\n",
      "-------------------------------\n",
      "loss: 2.298780  [   64/60000]\n",
      "loss: 2.286746  [ 6464/60000]\n",
      "loss: 2.267108  [12864/60000]\n",
      "loss: 2.257498  [19264/60000]\n",
      "loss: 2.241291  [25664/60000]\n",
      "loss: 2.201255  [32064/60000]\n",
      "loss: 2.212547  [38464/60000]\n",
      "loss: 2.170329  [44864/60000]\n",
      "loss: 2.176509  [51264/60000]\n",
      "loss: 2.126548  [57664/60000]\n",
      "Test Error: \n",
      " Accuracy: 45.7%, Avg loss: 2.130282 \n",
      "\n",
      "Epoch 2\n",
      "-------------------------------\n",
      "loss: 2.141157  [   64/60000]\n",
      "loss: 2.128464  [ 6464/60000]\n",
      "loss: 2.067203  [12864/60000]\n",
      "loss: 2.084299  [19264/60000]\n",
      "loss: 2.014679  [25664/60000]\n",
      "loss: 1.954629  [32064/60000]\n",
      "loss: 1.979203  [38464/60000]\n",
      "loss: 1.888510  [44864/60000]\n",
      "loss: 1.909835  [51264/60000]\n",
      "loss: 1.813028  [57664/60000]\n",
      "Test Error: \n",
      " Accuracy: 55.7%, Avg loss: 1.823566 \n",
      "\n",
      "Epoch 3\n",
      "-------------------------------\n",
      "loss: 1.856003  [   64/60000]\n",
      "loss: 1.826967  [ 6464/60000]\n",
      "loss: 1.705648  [12864/60000]\n",
      "loss: 1.754703  [19264/60000]\n",
      "loss: 1.631841  [25664/60000]\n",
      "loss: 1.588894  [32064/60000]\n",
      "loss: 1.605182  [38464/60000]\n",
      "loss: 1.506115  [44864/60000]\n",
      "loss: 1.547731  [51264/60000]\n",
      "loss: 1.429947  [57664/60000]\n",
      "Test Error: \n",
      " Accuracy: 59.9%, Avg loss: 1.460801 \n",
      "\n",
      "Epoch 4\n",
      "-------------------------------\n",
      "loss: 1.522671  [   64/60000]\n",
      "loss: 1.498127  [ 6464/60000]\n",
      "loss: 1.348152  [12864/60000]\n",
      "loss: 1.431599  [19264/60000]\n",
      "loss: 1.308301  [25664/60000]\n",
      "loss: 1.308627  [32064/60000]\n",
      "loss: 1.319084  [38464/60000]\n",
      "loss: 1.242594  [44864/60000]\n",
      "loss: 1.288076  [51264/60000]\n",
      "loss: 1.187661  [57664/60000]\n",
      "Test Error: \n",
      " Accuracy: 63.3%, Avg loss: 1.218246 \n",
      "\n",
      "Epoch 5\n",
      "-------------------------------\n",
      "loss: 1.286937  [   64/60000]\n",
      "loss: 1.278137  [ 6464/60000]\n",
      "loss: 1.112228  [12864/60000]\n",
      "loss: 1.229456  [19264/60000]\n",
      "loss: 1.101832  [25664/60000]\n",
      "loss: 1.126979  [32064/60000]\n",
      "loss: 1.148723  [38464/60000]\n",
      "loss: 1.080503  [44864/60000]\n",
      "loss: 1.127582  [51264/60000]\n",
      "loss: 1.044737  [57664/60000]\n",
      "Test Error: \n",
      " Accuracy: 64.9%, Avg loss: 1.067241 \n",
      "\n",
      "Done!\n"
     ]
    }
   ],
   "source": [
    "epochs = 5\n",
    "for t in range(epochs):\n",
    "    print(f\"Epoch {t+1}\\n-------------------------------\")\n",
    "    train(train_dataloader, model, loss_fn, optimizer)\n",
    "    test(test_dataloader, model, loss_fn)\n",
    "print(\"Done!\")"
   ]
  },
  {
   "cell_type": "markdown",
   "id": "22c29f52-7714-467b-adf6-6d03aa194bf9",
   "metadata": {},
   "source": [
    "# Inference"
   ]
  },
  {
   "cell_type": "code",
   "execution_count": 24,
   "id": "48494a59-543c-4d9c-9710-02673db15222",
   "metadata": {
    "tags": []
   },
   "outputs": [],
   "source": [
    "classes = training_data.classes"
   ]
  },
  {
   "cell_type": "code",
   "execution_count": 25,
   "id": "ebad5230-46ee-4b07-9ffb-05febf81cd6e",
   "metadata": {
    "tags": []
   },
   "outputs": [],
   "source": [
    "# Remember that you must call model.eval() to set dropout and \n",
    "# batch normalization layers to evaluation mode before running inference. \n",
    "# Failing to do this will yield inconsistent inference results.\n",
    "model.eval()\n",
    "\n",
    "preds = []\n",
    "targets = []\n",
    "for X, y in iter(test_data):\n",
    "    with torch.no_grad(): # Context-manager that disabled gradient calculation.\n",
    "        preds.append(model(X.to(device)).argmax(axis=1).item())\n",
    "        targets.append(y)"
   ]
  },
  {
   "cell_type": "code",
   "execution_count": 26,
   "id": "1fa7ef26-0d2e-4e8f-abb9-6d38c7332e44",
   "metadata": {
    "tags": []
   },
   "outputs": [],
   "source": [
    "wrongs = [i for i, (x, y) in enumerate(zip(preds, targets)) if y != x]\n",
    "corrects = [i for i, (x, y) in enumerate(zip(preds, targets)) if y == x]"
   ]
  },
  {
   "cell_type": "markdown",
   "id": "7e315212-fc4e-42ac-b96f-640b14d3bc1e",
   "metadata": {},
   "source": [
    "# Visualization"
   ]
  },
  {
   "cell_type": "code",
   "execution_count": 27,
   "id": "3aaedb9b-1e8a-41b4-bc7e-dfd0d293a9d6",
   "metadata": {
    "tags": []
   },
   "outputs": [
    {
     "data": {
      "image/png": "[encoded data removed]",
      "text/plain": [
       "<Figure size 640x480 with 5 Axes>"
      ]
     },
     "metadata": {},
     "output_type": "display_data"
    }
   ],
   "source": [
    "n_samples = 5\n",
    "fig, ax = plt.subplots(1, n_samples)\n",
    "for i in range(0, n_samples):\n",
    "    img = transform(test_data[wrongs[i]][0])\n",
    "    ax[i].set_title(f\"T: {classes[targets[wrongs[i]]]}\\n P: {classes[preds[wrongs[i]]]}\", fontsize=10)\n",
    "    ax[i].imshow(img, cmap='gray')\n",
    "    ax[i].axis('off')"
   ]
  },
  {
   "cell_type": "markdown",
   "id": "bf91ba92-88b5-4ca8-b248-9f5fd7a9033a",
   "metadata": {},
   "source": [
    "# Conclusion\n",
    "\n",
    "The softmax implementation has less parameters to tune and yields a better accuracy when compared to multilayer percepton model proposed in Quickstart guide."
   ]
  },
  {
   "cell_type": "code",
   "execution_count": null,
   "id": "d59fb488-fe66-4d2b-808a-3e84e43b4ad2",
   "metadata": {},
   "outputs": [],
   "source": []
  }
 ],
 "metadata": {
  "kernelspec": {
   "display_name": "Python 3 (ipykernel)",
   "language": "python",
   "name": "python3"
  },
  "language_info": {
   "codemirror_mode": {
    "name": "ipython",
    "version": 3
   },
   "file_extension": ".py",
   "mimetype": "text/x-python",
   "name": "python",
   "nbconvert_exporter": "python",
   "pygments_lexer": "ipython3",
   "version": "3.10.9"
  }
 },
 "nbformat": 4,
 "nbformat_minor": 5
}
