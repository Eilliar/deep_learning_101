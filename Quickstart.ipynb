{
 "cells": [
  {
   "cell_type": "markdown",
   "id": "b8252062-debd-46f3-8574-ab1bea4cca38",
   "metadata": {},
   "source": [
    "# Fashion MNIST test\n",
    "\n",
    "Compare performance of Softmax Regression net vs Pytorch [Quickstart net](https://pytorch.org/tutorials/beginner/basics/quickstart_tutorial.html)."
   ]
  },
  {
   "cell_type": "code",
   "execution_count": 1,
   "id": "5e51b286-84c1-4e0c-ba78-74fc70d361ca",
   "metadata": {
    "tags": []
   },
   "outputs": [],
   "source": [
    "import torch\n",
    "from torch import nn\n",
    "from torch.utils.data import DataLoader\n",
    "from torchvision import datasets\n",
    "from torchvision.transforms import ToTensor"
   ]
  },
  {
   "cell_type": "markdown",
   "id": "f9e238f1-df41-4d9c-b185-2b179d61a2d1",
   "metadata": {},
   "source": [
    "# Load Data\n",
    "\n",
    "Fashion MNIST Dataset"
   ]
  },
  {
   "cell_type": "code",
   "execution_count": 2,
   "id": "1be797f2-86dc-4dfa-b9cf-33efceaf77f0",
   "metadata": {
    "tags": []
   },
   "outputs": [],
   "source": [
    "# Download training data from open datasets.\n",
    "training_data = datasets.FashionMNIST(\n",
    "    root=\"data\",\n",
    "    train=True,\n",
    "    download=True,\n",
    "    transform=ToTensor(),\n",
    ")\n",
    "\n",
    "# Download test data from open datasets.\n",
    "test_data = datasets.FashionMNIST(\n",
    "    root=\"data\",\n",
    "    train=False,\n",
    "    download=True,\n",
    "    transform=ToTensor(),\n",
    ")"
   ]
  },
  {
   "cell_type": "code",
   "execution_count": 3,
   "id": "16cc97f4-fb99-4ad3-9636-135f798d092e",
   "metadata": {
    "tags": []
   },
   "outputs": [
    {
     "name": "stdout",
     "output_type": "stream",
     "text": [
      "Shape of X [N, C, H, W]: torch.Size([64, 1, 28, 28])\n",
      "Shape of y: torch.Size([64]) torch.int64\n"
     ]
    }
   ],
   "source": [
    "batch_size = 64\n",
    "n_epochs = 15\n",
    "\n",
    "# Create data loaders.\n",
    "train_dataloader = DataLoader(training_data, batch_size=batch_size)\n",
    "test_dataloader = DataLoader(test_data, batch_size=batch_size)\n",
    "\n",
    "for X, y in test_dataloader:\n",
    "    print(f\"Shape of X [N, C, H, W]: {X.shape}\")\n",
    "    print(f\"Shape of y: {y.shape} {y.dtype}\")\n",
    "    break"
   ]
  },
  {
   "cell_type": "code",
   "execution_count": 4,
   "id": "7ee681ff-2485-4b37-aed2-6f650e35d5d5",
   "metadata": {
    "tags": []
   },
   "outputs": [
    {
     "name": "stdout",
     "output_type": "stream",
     "text": [
      "There are 10 classes in training data\n"
     ]
    }
   ],
   "source": [
    "num_classes = len(training_data.classes)\n",
    "print(f\"There are {num_classes} classes in training data\")"
   ]
  },
  {
   "cell_type": "markdown",
   "id": "dcaa1755-4911-4eb2-847a-fcdc19f6fc21",
   "metadata": {},
   "source": [
    "# Model 1"
   ]
  },
  {
   "cell_type": "code",
   "execution_count": 5,
   "id": "bea016eb-dfaa-4871-8943-2f90ac30591e",
   "metadata": {
    "tags": []
   },
   "outputs": [
    {
     "name": "stdout",
     "output_type": "stream",
     "text": [
      "Using cuda device\n"
     ]
    }
   ],
   "source": [
    "# Get cpu, gpu or mps device for training.\n",
    "device = (\n",
    "    \"cuda\"\n",
    "    if torch.cuda.is_available()\n",
    "    else \"mps\"\n",
    "    if torch.backends.mps.is_available()\n",
    "    else \"cpu\"\n",
    ")\n",
    "print(f\"Using {device} device\")"
   ]
  },
  {
   "cell_type": "code",
   "execution_count": 6,
   "id": "a4a5bec2-274a-4c4e-96b1-6c956f967ce4",
   "metadata": {
    "tags": []
   },
   "outputs": [],
   "source": [
    "# Define model\n",
    "class NeuralNetwork_1(nn.Module):\n",
    "    def __init__(self, num_outputs):\n",
    "        super().__init__()\n",
    "        self.net = nn.Sequential(\n",
    "            nn.Flatten(),\n",
    "            nn.Linear(in_features=28*28, out_features=num_outputs)\n",
    "        )\n",
    "\n",
    "    def forward(self, x):\n",
    "        return self.net(x)"
   ]
  },
  {
   "cell_type": "code",
   "execution_count": 7,
   "id": "e2b499dc-9e2b-486f-a52a-356fef90dee8",
   "metadata": {
    "tags": []
   },
   "outputs": [
    {
     "name": "stdout",
     "output_type": "stream",
     "text": [
      "NeuralNetwork_1(\n",
      "  (net): Sequential(\n",
      "    (0): Flatten(start_dim=1, end_dim=-1)\n",
      "    (1): Linear(in_features=784, out_features=10, bias=True)\n",
      "  )\n",
      ")\n"
     ]
    }
   ],
   "source": [
    "model = NeuralNetwork_1(num_classes).to(device)\n",
    "print(model)"
   ]
  },
  {
   "cell_type": "code",
   "execution_count": 8,
   "id": "9e0601dd-4642-4f48-9a2f-ef82140e1dec",
   "metadata": {
    "tags": []
   },
   "outputs": [
    {
     "name": "stdout",
     "output_type": "stream",
     "text": [
      "Total number of model parameters: 7850\n"
     ]
    }
   ],
   "source": [
    "total_params = sum(\n",
    "    param.numel() for param in model.parameters()\n",
    ")\n",
    "print(f\"Total number of model parameters: {total_params}\")"
   ]
  },
  {
   "cell_type": "markdown",
   "id": "02839fff-1187-451c-8c52-3c0bf7de7318",
   "metadata": {},
   "source": [
    "# Training"
   ]
  },
  {
   "cell_type": "code",
   "execution_count": 9,
   "id": "460f5dbf-5955-4fd6-bb67-5eb1a93341fb",
   "metadata": {
    "tags": []
   },
   "outputs": [],
   "source": [
    "loss_fn = nn.CrossEntropyLoss()\n",
    "optimizer = torch.optim.SGD(model.parameters(), lr=1e-3)"
   ]
  },
  {
   "cell_type": "code",
   "execution_count": 10,
   "id": "afda2efe-b403-4e3b-947f-abb8747be646",
   "metadata": {
    "tags": []
   },
   "outputs": [],
   "source": [
    "def train(dataloader, model, loss_fn, optimizer):\n",
    "    size = len(dataloader.dataset)\n",
    "    model.train()\n",
    "    for batch, (X, y) in enumerate(dataloader):\n",
    "        X, y = X.to(device), y.to(device)\n",
    "\n",
    "        # Compute prediction error\n",
    "        pred = model(X)\n",
    "        loss = loss_fn(pred, y)\n",
    "\n",
    "        # Backpropagation\n",
    "        optimizer.zero_grad()\n",
    "        loss.backward()\n",
    "        optimizer.step()\n",
    "\n",
    "        if batch % 100 == 0:\n",
    "            loss, current = loss.item(), (batch + 1) * len(X)\n",
    "            print(f\"loss: {loss:>7f}  [{current:>5d}/{size:>5d}]\")"
   ]
  },
  {
   "cell_type": "code",
   "execution_count": 11,
   "id": "79487fca-91db-4f32-a70b-20445c69e6fd",
   "metadata": {
    "tags": []
   },
   "outputs": [],
   "source": [
    "def test(dataloader, model, loss_fn):\n",
    "    size = len(dataloader.dataset)\n",
    "    num_batches = len(dataloader)\n",
    "    model.eval()\n",
    "    test_loss, correct = 0, 0\n",
    "    with torch.no_grad():\n",
    "        for X, y in dataloader:\n",
    "            X, y = X.to(device), y.to(device)\n",
    "            pred = model(X)\n",
    "            test_loss += loss_fn(pred, y).item()\n",
    "            correct += (pred.argmax(1) == y).type(torch.float).sum().item()\n",
    "    test_loss /= num_batches\n",
    "    correct /= size\n",
    "    print(f\"Test Error: \\n Accuracy: {(100*correct):>0.1f}%, Avg loss: {test_loss:>8f} \\n\")"
   ]
  },
  {
   "cell_type": "code",
   "execution_count": 12,
   "id": "59ae9354-0055-4dae-ac86-c19ee83c9412",
   "metadata": {
    "tags": []
   },
   "outputs": [
    {
     "name": "stdout",
     "output_type": "stream",
     "text": [
      "Epoch 1\n",
      "-------------------------------\n",
      "loss: 2.373038  [   64/60000]\n",
      "loss: 2.151287  [ 6464/60000]\n",
      "loss: 1.934603  [12864/60000]\n",
      "loss: 1.871177  [19264/60000]\n",
      "loss: 1.693854  [25664/60000]\n",
      "loss: 1.587238  [32064/60000]\n",
      "loss: 1.572145  [38464/60000]\n",
      "loss: 1.454380  [44864/60000]\n",
      "loss: 1.479632  [51264/60000]\n",
      "loss: 1.342386  [57664/60000]\n",
      "Test Error: \n",
      " Accuracy: 66.0%, Avg loss: 1.357072 \n",
      "\n",
      "Epoch 2\n",
      "-------------------------------\n",
      "loss: 1.430037  [   64/60000]\n",
      "loss: 1.391775  [ 6464/60000]\n",
      "loss: 1.212328  [12864/60000]\n",
      "loss: 1.318021  [19264/60000]\n",
      "loss: 1.160671  [25664/60000]\n",
      "loss: 1.156330  [32064/60000]\n",
      "loss: 1.189424  [38464/60000]\n",
      "loss: 1.119295  [44864/60000]\n",
      "loss: 1.181041  [51264/60000]\n",
      "loss: 1.077863  [57664/60000]\n",
      "Test Error: \n",
      " Accuracy: 67.5%, Avg loss: 1.098557 \n",
      "\n",
      "Epoch 3\n",
      "-------------------------------\n",
      "loss: 1.159160  [   64/60000]\n",
      "loss: 1.172377  [ 6464/60000]\n",
      "loss: 0.973906  [12864/60000]\n",
      "loss: 1.134491  [19264/60000]\n",
      "loss: 0.979220  [25664/60000]\n",
      "loss: 0.995568  [32064/60000]\n",
      "loss: 1.043751  [38464/60000]\n",
      "loss: 0.983086  [44864/60000]\n",
      "loss: 1.048564  [51264/60000]\n",
      "loss: 0.965144  [57664/60000]\n",
      "Test Error: \n",
      " Accuracy: 69.1%, Avg loss: 0.979658 \n",
      "\n",
      "Epoch 4\n",
      "-------------------------------\n",
      "loss: 1.025140  [   64/60000]\n",
      "loss: 1.065387  [ 6464/60000]\n",
      "loss: 0.851283  [12864/60000]\n",
      "loss: 1.041954  [19264/60000]\n",
      "loss: 0.887942  [25664/60000]\n",
      "loss: 0.909817  [32064/60000]\n",
      "loss: 0.963737  [38464/60000]\n",
      "loss: 0.907477  [44864/60000]\n",
      "loss: 0.971655  [51264/60000]\n",
      "loss: 0.900425  [57664/60000]\n",
      "Test Error: \n",
      " Accuracy: 70.7%, Avg loss: 0.908848 \n",
      "\n",
      "Epoch 5\n",
      "-------------------------------\n",
      "loss: 0.941657  [   64/60000]\n",
      "loss: 0.998702  [ 6464/60000]\n",
      "loss: 0.774391  [12864/60000]\n",
      "loss: 0.984538  [19264/60000]\n",
      "loss: 0.832094  [25664/60000]\n",
      "loss: 0.855015  [32064/60000]\n",
      "loss: 0.911109  [38464/60000]\n",
      "loss: 0.858516  [44864/60000]\n",
      "loss: 0.920250  [51264/60000]\n",
      "loss: 0.856901  [57664/60000]\n",
      "Test Error: \n",
      " Accuracy: 72.2%, Avg loss: 0.860423 \n",
      "\n",
      "Epoch 6\n",
      "-------------------------------\n",
      "loss: 0.882950  [   64/60000]\n",
      "loss: 0.951187  [ 6464/60000]\n",
      "loss: 0.720648  [12864/60000]\n",
      "loss: 0.944302  [19264/60000]\n",
      "loss: 0.793680  [25664/60000]\n",
      "loss: 0.816002  [32064/60000]\n",
      "loss: 0.872755  [38464/60000]\n",
      "loss: 0.823940  [44864/60000]\n",
      "loss: 0.882943  [51264/60000]\n",
      "loss: 0.824660  [57664/60000]\n",
      "Test Error: \n",
      " Accuracy: 73.2%, Avg loss: 0.824441 \n",
      "\n",
      "Epoch 7\n",
      "-------------------------------\n",
      "loss: 0.838611  [   64/60000]\n",
      "loss: 0.914528  [ 6464/60000]\n",
      "loss: 0.680473  [12864/60000]\n",
      "loss: 0.913795  [19264/60000]\n",
      "loss: 0.765153  [25664/60000]\n",
      "loss: 0.786220  [32064/60000]\n",
      "loss: 0.842945  [38464/60000]\n",
      "loss: 0.798175  [44864/60000]\n",
      "loss: 0.854417  [51264/60000]\n",
      "loss: 0.799205  [57664/60000]\n",
      "Test Error: \n",
      " Accuracy: 74.0%, Avg loss: 0.796222 \n",
      "\n",
      "Epoch 8\n",
      "-------------------------------\n",
      "loss: 0.803524  [   64/60000]\n",
      "loss: 0.884775  [ 6464/60000]\n",
      "loss: 0.649030  [12864/60000]\n",
      "loss: 0.889392  [19264/60000]\n",
      "loss: 0.742812  [25664/60000]\n",
      "loss: 0.762375  [32064/60000]\n",
      "loss: 0.818747  [38464/60000]\n",
      "loss: 0.778264  [44864/60000]\n",
      "loss: 0.831812  [51264/60000]\n",
      "loss: 0.778197  [57664/60000]\n",
      "Test Error: \n",
      " Accuracy: 74.7%, Avg loss: 0.773247 \n",
      "\n",
      "Epoch 9\n",
      "-------------------------------\n",
      "loss: 0.774820  [   64/60000]\n",
      "loss: 0.859787  [ 6464/60000]\n",
      "loss: 0.623574  [12864/60000]\n",
      "loss: 0.869126  [19264/60000]\n",
      "loss: 0.724628  [25664/60000]\n",
      "loss: 0.742626  [32064/60000]\n",
      "loss: 0.798490  [38464/60000]\n",
      "loss: 0.762465  [44864/60000]\n",
      "loss: 0.813433  [51264/60000]\n",
      "loss: 0.760299  [57664/60000]\n",
      "Test Error: \n",
      " Accuracy: 75.2%, Avg loss: 0.754024 \n",
      "\n",
      "Epoch 10\n",
      "-------------------------------\n",
      "loss: 0.750739  [   64/60000]\n",
      "loss: 0.838278  [ 6464/60000]\n",
      "loss: 0.602420  [12864/60000]\n",
      "loss: 0.851832  [19264/60000]\n",
      "loss: 0.709391  [25664/60000]\n",
      "loss: 0.725856  [32064/60000]\n",
      "loss: 0.781134  [38464/60000]\n",
      "loss: 0.749671  [44864/60000]\n",
      "loss: 0.798193  [51264/60000]\n",
      "loss: 0.744686  [57664/60000]\n",
      "Test Error: \n",
      " Accuracy: 75.8%, Avg loss: 0.737604 \n",
      "\n",
      "Epoch 11\n",
      "-------------------------------\n",
      "loss: 0.730129  [   64/60000]\n",
      "loss: 0.819425  [ 6464/60000]\n",
      "loss: 0.584469  [12864/60000]\n",
      "loss: 0.836776  [19264/60000]\n",
      "loss: 0.696333  [25664/60000]\n",
      "loss: 0.711341  [32064/60000]\n",
      "loss: 0.765999  [38464/60000]\n",
      "loss: 0.739144  [44864/60000]\n",
      "loss: 0.785359  [51264/60000]\n",
      "loss: 0.730817  [57664/60000]\n",
      "Test Error: \n",
      " Accuracy: 76.3%, Avg loss: 0.723348 \n",
      "\n",
      "Epoch 12\n",
      "-------------------------------\n",
      "loss: 0.712204  [   64/60000]\n",
      "loss: 0.802665  [ 6464/60000]\n",
      "loss: 0.568975  [12864/60000]\n",
      "loss: 0.823463  [19264/60000]\n",
      "loss: 0.684938  [25664/60000]\n",
      "loss: 0.698591  [32064/60000]\n",
      "loss: 0.752613  [38464/60000]\n",
      "loss: 0.730368  [44864/60000]\n",
      "loss: 0.774414  [51264/60000]\n",
      "loss: 0.718324  [57664/60000]\n",
      "Test Error: \n",
      " Accuracy: 76.8%, Avg loss: 0.710809 \n",
      "\n",
      "Epoch 13\n",
      "-------------------------------\n",
      "loss: 0.696404  [   64/60000]\n",
      "loss: 0.787598  [ 6464/60000]\n",
      "loss: 0.555408  [12864/60000]\n",
      "loss: 0.811548  [19264/60000]\n",
      "loss: 0.674845  [25664/60000]\n",
      "loss: 0.687255  [32064/60000]\n",
      "loss: 0.740639  [38464/60000]\n",
      "loss: 0.722971  [44864/60000]\n",
      "loss: 0.764980  [51264/60000]\n",
      "loss: 0.706946  [57664/60000]\n",
      "Test Error: \n",
      " Accuracy: 77.1%, Avg loss: 0.699659 \n",
      "\n",
      "Epoch 14\n",
      "-------------------------------\n",
      "loss: 0.682322  [   64/60000]\n",
      "loss: 0.773932  [ 6464/60000]\n",
      "loss: 0.543387  [12864/60000]\n",
      "loss: 0.800782  [19264/60000]\n",
      "loss: 0.665796  [25664/60000]\n",
      "loss: 0.677076  [32064/60000]\n",
      "loss: 0.729827  [38464/60000]\n",
      "loss: 0.716679  [44864/60000]\n",
      "loss: 0.756773  [51264/60000]\n",
      "loss: 0.696489  [57664/60000]\n",
      "Test Error: \n",
      " Accuracy: 77.4%, Avg loss: 0.689655 \n",
      "\n",
      "Epoch 15\n",
      "-------------------------------\n",
      "loss: 0.669651  [   64/60000]\n",
      "loss: 0.761445  [ 6464/60000]\n",
      "loss: 0.532626  [12864/60000]\n",
      "loss: 0.790973  [19264/60000]\n",
      "loss: 0.657600  [25664/60000]\n",
      "loss: 0.667861  [32064/60000]\n",
      "loss: 0.719988  [38464/60000]\n",
      "loss: 0.711285  [44864/60000]\n",
      "loss: 0.749578  [51264/60000]\n",
      "loss: 0.686810  [57664/60000]\n",
      "Test Error: \n",
      " Accuracy: 77.7%, Avg loss: 0.680609 \n",
      "\n",
      "Done!\n"
     ]
    }
   ],
   "source": [
    "for t in range(n_epochs):\n",
    "    print(f\"Epoch {t+1}\\n-------------------------------\")\n",
    "    train(train_dataloader, model, loss_fn, optimizer)\n",
    "    test(test_dataloader, model, loss_fn)\n",
    "print(\"Done!\")"
   ]
  },
  {
   "cell_type": "markdown",
   "id": "26d21c36-4086-48df-b648-4cbd347c33b2",
   "metadata": {},
   "source": [
    "# Inference"
   ]
  },
  {
   "cell_type": "code",
   "execution_count": 13,
   "id": "f927da28-a9c9-4d0a-974e-adbd6a7f4e97",
   "metadata": {
    "tags": []
   },
   "outputs": [],
   "source": [
    "classes = training_data.classes"
   ]
  },
  {
   "cell_type": "code",
   "execution_count": 14,
   "id": "a4fff27b-163e-4ae0-9244-7794455d4dd9",
   "metadata": {
    "tags": []
   },
   "outputs": [],
   "source": [
    "# Remember that you must call model.eval() to set dropout and \n",
    "# batch normalization layers to evaluation mode before running inference. \n",
    "# Failing to do this will yield inconsistent inference results.\n",
    "model.eval()\n",
    "\n",
    "preds = []\n",
    "targets = []\n",
    "for X, y in iter(test_data):\n",
    "    with torch.no_grad(): # Context-manager that disabled gradient calculation.\n",
    "        preds.append(model(X.to(device)).argmax(axis=1).item())\n",
    "        targets.append(y)"
   ]
  },
  {
   "cell_type": "code",
   "execution_count": 15,
   "id": "6512f570-1dc5-4214-83ba-f5346ffacec2",
   "metadata": {
    "tags": []
   },
   "outputs": [],
   "source": [
    "wrongs = [i for i, (x, y) in enumerate(zip(preds, targets)) if y != x]\n",
    "corrects = [i for i, (x, y) in enumerate(zip(preds, targets)) if y == x]"
   ]
  },
  {
   "cell_type": "markdown",
   "id": "3b6b4906-464e-413d-8f25-d6dde8865522",
   "metadata": {},
   "source": [
    "# Visualization"
   ]
  },
  {
   "cell_type": "code",
   "execution_count": 16,
   "id": "b327d9c2-1c05-428b-9f80-7add9f92c0f1",
   "metadata": {
    "tags": []
   },
   "outputs": [],
   "source": [
    "import matplotlib.pyplot as plt\n",
    "from PIL import Image\n",
    "from torchvision import transforms\n",
    "\n",
    "transform = transforms.ToPILImage()"
   ]
  },
  {
   "cell_type": "code",
   "execution_count": 17,
   "id": "2e8b7000-c1da-4d88-afc7-5a52e9b276f2",
   "metadata": {
    "tags": []
   },
   "outputs": [
    {
     "data": {
      "image/png": "[encoded data removed]",
      "text/plain": [
       "<Figure size 640x480 with 5 Axes>"
      ]
     },
     "metadata": {},
     "output_type": "display_data"
    }
   ],
   "source": [
    "n_samples = 5\n",
    "fig, ax = plt.subplots(1, n_samples)\n",
    "for i in range(0, n_samples):\n",
    "    img = transform(test_data[wrongs[i]][0])\n",
    "    ax[i].set_title(f\"T: {classes[targets[wrongs[i]]]}\\n P: {classes[preds[wrongs[i]]]}\", fontsize=10)\n",
    "    ax[i].imshow(img, cmap='gray')\n",
    "    ax[i].axis('off')"
   ]
  },
  {
   "cell_type": "code",
   "execution_count": 18,
   "id": "85ae1090-751e-4201-ac1f-09579d5dec7d",
   "metadata": {
    "tags": []
   },
   "outputs": [
    {
     "data": {
      "image/png": "[encoded data removed]",
      "text/plain": [
       "<Figure size 640x480 with 5 Axes>"
      ]
     },
     "metadata": {},
     "output_type": "display_data"
    }
   ],
   "source": [
    "n_samples = 5\n",
    "fig, ax = plt.subplots(1, n_samples)\n",
    "for i in range(0, n_samples):\n",
    "    img = transform(test_data[corrects[i]][0])\n",
    "    ax[i].set_title(f\"T: {classes[targets[corrects[i]]]}\\n P: {classes[preds[corrects[i]]]}\", fontsize=10)\n",
    "    ax[i].imshow(img, cmap='gray')\n",
    "    ax[i].axis('off')"
   ]
  },
  {
   "cell_type": "markdown",
   "id": "42438b33-5208-4b50-8b88-aae9191d1327",
   "metadata": {},
   "source": [
    "# Model 2\n",
    "\n",
    "This is the model proposed in the Quickstart guide"
   ]
  },
  {
   "cell_type": "code",
   "execution_count": 19,
   "id": "dc907ba3-efde-4fb7-ab2e-2e90928d4914",
   "metadata": {
    "tags": []
   },
   "outputs": [],
   "source": [
    "# Define model\n",
    "class NeuralNetwork_2(nn.Module):\n",
    "    def __init__(self, num_outputs):\n",
    "        super().__init__()\n",
    "        self.flatten = nn.Flatten()\n",
    "        self.linear_relu_stack = nn.Sequential(\n",
    "            nn.Linear(28*28, 512),\n",
    "            nn.ReLU(),\n",
    "            nn.Linear(512, 512),\n",
    "            nn.ReLU(),\n",
    "            nn.Linear(512, num_outputs)\n",
    "        )\n",
    "\n",
    "    def forward(self, x):\n",
    "        x = self.flatten(x)\n",
    "        logits = self.linear_relu_stack(x)\n",
    "        return logits"
   ]
  },
  {
   "cell_type": "code",
   "execution_count": 20,
   "id": "4da1d1fa-84ea-4228-9b70-d857eafa70af",
   "metadata": {
    "tags": []
   },
   "outputs": [
    {
     "name": "stdout",
     "output_type": "stream",
     "text": [
      "NeuralNetwork_2(\n",
      "  (flatten): Flatten(start_dim=1, end_dim=-1)\n",
      "  (linear_relu_stack): Sequential(\n",
      "    (0): Linear(in_features=784, out_features=512, bias=True)\n",
      "    (1): ReLU()\n",
      "    (2): Linear(in_features=512, out_features=512, bias=True)\n",
      "    (3): ReLU()\n",
      "    (4): Linear(in_features=512, out_features=10, bias=True)\n",
      "  )\n",
      ")\n"
     ]
    }
   ],
   "source": [
    "model = NeuralNetwork_2(num_classes).to(device)\n",
    "print(model)"
   ]
  },
  {
   "cell_type": "code",
   "execution_count": 21,
   "id": "3b2a470d-f3fa-4032-9d1e-c886c678a7b1",
   "metadata": {
    "tags": []
   },
   "outputs": [
    {
     "name": "stdout",
     "output_type": "stream",
     "text": [
      "Total number of model parameters: 669706\n"
     ]
    }
   ],
   "source": [
    "total_params = sum(\n",
    "    param.numel() for param in model.parameters()\n",
    ")\n",
    "\n",
    "print(f\"Total number of model parameters: {total_params}\")"
   ]
  },
  {
   "cell_type": "markdown",
   "id": "d962b1d9-bff7-48e6-8423-536d4e3d884e",
   "metadata": {},
   "source": [
    "Notice that it has a lot more parameters to adjust."
   ]
  },
  {
   "cell_type": "code",
   "execution_count": 22,
   "id": "775b3b44-6d8f-40be-ba4f-2f76f146aa81",
   "metadata": {
    "tags": []
   },
   "outputs": [],
   "source": [
    "loss_fn = nn.CrossEntropyLoss()\n",
    "optimizer = torch.optim.SGD(model.parameters(), lr=1e-3)"
   ]
  },
  {
   "cell_type": "code",
   "execution_count": 23,
   "id": "afd8939d-9641-41d9-a351-d1cec95dadf3",
   "metadata": {
    "tags": []
   },
   "outputs": [
    {
     "name": "stdout",
     "output_type": "stream",
     "text": [
      "Epoch 1\n",
      "-------------------------------\n",
      "loss: 2.281782  [   64/60000]\n",
      "loss: 2.278441  [ 6464/60000]\n",
      "loss: 2.253567  [12864/60000]\n",
      "loss: 2.257958  [19264/60000]\n",
      "loss: 2.236773  [25664/60000]\n",
      "loss: 2.191029  [32064/60000]\n",
      "loss: 2.211720  [38464/60000]\n",
      "loss: 2.161006  [44864/60000]\n",
      "loss: 2.167443  [51264/60000]\n",
      "loss: 2.146193  [57664/60000]\n",
      "Test Error: \n",
      " Accuracy: 43.4%, Avg loss: 2.128087 \n",
      "\n",
      "Epoch 2\n",
      "-------------------------------\n",
      "loss: 2.129328  [   64/60000]\n",
      "loss: 2.121151  [ 6464/60000]\n",
      "loss: 2.064752  [12864/60000]\n",
      "loss: 2.091619  [19264/60000]\n",
      "loss: 2.029720  [25664/60000]\n",
      "loss: 1.966961  [32064/60000]\n",
      "loss: 1.999089  [38464/60000]\n",
      "loss: 1.908660  [44864/60000]\n",
      "loss: 1.924878  [51264/60000]\n",
      "loss: 1.860765  [57664/60000]\n",
      "Test Error: \n",
      " Accuracy: 59.1%, Avg loss: 1.846035 \n",
      "\n",
      "Epoch 3\n",
      "-------------------------------\n",
      "loss: 1.871913  [   64/60000]\n",
      "loss: 1.842241  [ 6464/60000]\n",
      "loss: 1.729808  [12864/60000]\n",
      "loss: 1.779742  [19264/60000]\n",
      "loss: 1.663682  [25664/60000]\n",
      "loss: 1.622318  [32064/60000]\n",
      "loss: 1.643646  [38464/60000]\n",
      "loss: 1.542734  [44864/60000]\n",
      "loss: 1.581060  [51264/60000]\n",
      "loss: 1.479681  [57664/60000]\n",
      "Test Error: \n",
      " Accuracy: 61.6%, Avg loss: 1.489204 \n",
      "\n",
      "Epoch 4\n",
      "-------------------------------\n",
      "loss: 1.549937  [   64/60000]\n",
      "loss: 1.520239  [ 6464/60000]\n",
      "loss: 1.375960  [12864/60000]\n",
      "loss: 1.452808  [19264/60000]\n",
      "loss: 1.331371  [25664/60000]\n",
      "loss: 1.331203  [32064/60000]\n",
      "loss: 1.344032  [38464/60000]\n",
      "loss: 1.267262  [44864/60000]\n",
      "loss: 1.314446  [51264/60000]\n",
      "loss: 1.215970  [57664/60000]\n",
      "Test Error: \n",
      " Accuracy: 63.2%, Avg loss: 1.235493 \n",
      "\n",
      "Epoch 5\n",
      "-------------------------------\n",
      "loss: 1.304378  [   64/60000]\n",
      "loss: 1.293775  [ 6464/60000]\n",
      "loss: 1.132521  [12864/60000]\n",
      "loss: 1.241324  [19264/60000]\n",
      "loss: 1.114082  [25664/60000]\n",
      "loss: 1.139834  [32064/60000]\n",
      "loss: 1.160651  [38464/60000]\n",
      "loss: 1.094999  [44864/60000]\n",
      "loss: 1.147239  [51264/60000]\n",
      "loss: 1.060195  [57664/60000]\n",
      "Test Error: \n",
      " Accuracy: 64.6%, Avg loss: 1.076243 \n",
      "\n",
      "Epoch 6\n",
      "-------------------------------\n",
      "loss: 1.139114  [   64/60000]\n",
      "loss: 1.148786  [ 6464/60000]\n",
      "loss: 0.970174  [12864/60000]\n",
      "loss: 1.107156  [19264/60000]\n",
      "loss: 0.979851  [25664/60000]\n",
      "loss: 1.010423  [32064/60000]\n",
      "loss: 1.046869  [38464/60000]\n",
      "loss: 0.985344  [44864/60000]\n",
      "loss: 1.037841  [51264/60000]\n",
      "loss: 0.961939  [57664/60000]\n",
      "Test Error: \n",
      " Accuracy: 65.9%, Avg loss: 0.972859 \n",
      "\n",
      "Epoch 7\n",
      "-------------------------------\n",
      "loss: 1.023711  [   64/60000]\n",
      "loss: 1.053814  [ 6464/60000]\n",
      "loss: 0.858646  [12864/60000]\n",
      "loss: 1.017897  [19264/60000]\n",
      "loss: 0.895176  [25664/60000]\n",
      "loss: 0.919327  [32064/60000]\n",
      "loss: 0.971832  [38464/60000]\n",
      "loss: 0.914290  [44864/60000]\n",
      "loss: 0.962105  [51264/60000]\n",
      "loss: 0.896106  [57664/60000]\n",
      "Test Error: \n",
      " Accuracy: 67.1%, Avg loss: 0.902409 \n",
      "\n",
      "Epoch 8\n",
      "-------------------------------\n",
      "loss: 0.938870  [   64/60000]\n",
      "loss: 0.987396  [ 6464/60000]\n",
      "loss: 0.779051  [12864/60000]\n",
      "loss: 0.955140  [19264/60000]\n",
      "loss: 0.838704  [25664/60000]\n",
      "loss: 0.853133  [32064/60000]\n",
      "loss: 0.918888  [38464/60000]\n",
      "loss: 0.867156  [44864/60000]\n",
      "loss: 0.908066  [51264/60000]\n",
      "loss: 0.848968  [57664/60000]\n",
      "Test Error: \n",
      " Accuracy: 68.3%, Avg loss: 0.851834 \n",
      "\n",
      "Epoch 9\n",
      "-------------------------------\n",
      "loss: 0.873675  [   64/60000]\n",
      "loss: 0.937375  [ 6464/60000]\n",
      "loss: 0.719773  [12864/60000]\n",
      "loss: 0.908716  [19264/60000]\n",
      "loss: 0.798419  [25664/60000]\n",
      "loss: 0.803633  [32064/60000]\n",
      "loss: 0.878828  [38464/60000]\n",
      "loss: 0.834362  [44864/60000]\n",
      "loss: 0.867640  [51264/60000]\n",
      "loss: 0.812980  [57664/60000]\n",
      "Test Error: \n",
      " Accuracy: 69.5%, Avg loss: 0.813581 \n",
      "\n",
      "Epoch 10\n",
      "-------------------------------\n",
      "loss: 0.821655  [   64/60000]\n",
      "loss: 0.897199  [ 6464/60000]\n",
      "loss: 0.673831  [12864/60000]\n",
      "loss: 0.872960  [19264/60000]\n",
      "loss: 0.767838  [25664/60000]\n",
      "loss: 0.765643  [32064/60000]\n",
      "loss: 0.846413  [38464/60000]\n",
      "loss: 0.810161  [44864/60000]\n",
      "loss: 0.836043  [51264/60000]\n",
      "loss: 0.783913  [57664/60000]\n",
      "Test Error: \n",
      " Accuracy: 70.9%, Avg loss: 0.783169 \n",
      "\n",
      "Epoch 11\n",
      "-------------------------------\n",
      "loss: 0.778880  [   64/60000]\n",
      "loss: 0.863283  [ 6464/60000]\n",
      "loss: 0.636927  [12864/60000]\n",
      "loss: 0.844298  [19264/60000]\n",
      "loss: 0.743175  [25664/60000]\n",
      "loss: 0.735877  [32064/60000]\n",
      "loss: 0.818665  [38464/60000]\n",
      "loss: 0.790964  [44864/60000]\n",
      "loss: 0.810291  [51264/60000]\n",
      "loss: 0.759582  [57664/60000]\n",
      "Test Error: \n",
      " Accuracy: 72.0%, Avg loss: 0.757867 \n",
      "\n",
      "Epoch 12\n",
      "-------------------------------\n",
      "loss: 0.742697  [   64/60000]\n",
      "loss: 0.833708  [ 6464/60000]\n",
      "loss: 0.606361  [12864/60000]\n",
      "loss: 0.820546  [19264/60000]\n",
      "loss: 0.722587  [25664/60000]\n",
      "loss: 0.711824  [32064/60000]\n",
      "loss: 0.793925  [38464/60000]\n",
      "loss: 0.774807  [44864/60000]\n",
      "loss: 0.788421  [51264/60000]\n",
      "loss: 0.738411  [57664/60000]\n",
      "Test Error: \n",
      " Accuracy: 73.1%, Avg loss: 0.735995 \n",
      "\n",
      "Epoch 13\n",
      "-------------------------------\n",
      "loss: 0.711318  [   64/60000]\n",
      "loss: 0.807244  [ 6464/60000]\n",
      "loss: 0.580279  [12864/60000]\n",
      "loss: 0.800360  [19264/60000]\n",
      "loss: 0.704767  [25664/60000]\n",
      "loss: 0.691818  [32064/60000]\n",
      "loss: 0.771383  [38464/60000]\n",
      "loss: 0.760634  [44864/60000]\n",
      "loss: 0.769440  [51264/60000]\n",
      "loss: 0.719560  [57664/60000]\n",
      "Test Error: \n",
      " Accuracy: 74.0%, Avg loss: 0.716549 \n",
      "\n",
      "Epoch 14\n",
      "-------------------------------\n",
      "loss: 0.683665  [   64/60000]\n",
      "loss: 0.783125  [ 6464/60000]\n",
      "loss: 0.557537  [12864/60000]\n",
      "loss: 0.782752  [19264/60000]\n",
      "loss: 0.689268  [25664/60000]\n",
      "loss: 0.674815  [32064/60000]\n",
      "loss: 0.750648  [38464/60000]\n",
      "loss: 0.747804  [44864/60000]\n",
      "loss: 0.752774  [51264/60000]\n",
      "loss: 0.702497  [57664/60000]\n",
      "Test Error: \n",
      " Accuracy: 74.7%, Avg loss: 0.698956 \n",
      "\n",
      "Epoch 15\n",
      "-------------------------------\n",
      "loss: 0.659103  [   64/60000]\n",
      "loss: 0.760941  [ 6464/60000]\n",
      "loss: 0.537440  [12864/60000]\n",
      "loss: 0.767148  [19264/60000]\n",
      "loss: 0.675506  [25664/60000]\n",
      "loss: 0.660086  [32064/60000]\n",
      "loss: 0.731193  [38464/60000]\n",
      "loss: 0.736015  [44864/60000]\n",
      "loss: 0.737790  [51264/60000]\n",
      "loss: 0.686826  [57664/60000]\n",
      "Test Error: \n",
      " Accuracy: 75.5%, Avg loss: 0.682869 \n",
      "\n",
      "Done!\n"
     ]
    }
   ],
   "source": [
    "for t in range(n_epochs):\n",
    "    print(f\"Epoch {t+1}\\n-------------------------------\")\n",
    "    train(train_dataloader, model, loss_fn, optimizer)\n",
    "    test(test_dataloader, model, loss_fn)\n",
    "print(\"Done!\")"
   ]
  },
  {
   "cell_type": "markdown",
   "id": "22c29f52-7714-467b-adf6-6d03aa194bf9",
   "metadata": {},
   "source": [
    "# Inference"
   ]
  },
  {
   "cell_type": "code",
   "execution_count": 24,
   "id": "48494a59-543c-4d9c-9710-02673db15222",
   "metadata": {
    "tags": []
   },
   "outputs": [],
   "source": [
    "classes = training_data.classes"
   ]
  },
  {
   "cell_type": "code",
   "execution_count": 25,
   "id": "ebad5230-46ee-4b07-9ffb-05febf81cd6e",
   "metadata": {
    "tags": []
   },
   "outputs": [],
   "source": [
    "# Remember that you must call model.eval() to set dropout and \n",
    "# batch normalization layers to evaluation mode before running inference. \n",
    "# Failing to do this will yield inconsistent inference results.\n",
    "model.eval()\n",
    "\n",
    "preds = []\n",
    "targets = []\n",
    "for X, y in iter(test_data):\n",
    "    with torch.no_grad(): # Context-manager that disabled gradient calculation.\n",
    "        preds.append(model(X.to(device)).argmax(axis=1).item())\n",
    "        targets.append(y)"
   ]
  },
  {
   "cell_type": "code",
   "execution_count": 26,
   "id": "1fa7ef26-0d2e-4e8f-abb9-6d38c7332e44",
   "metadata": {
    "tags": []
   },
   "outputs": [],
   "source": [
    "wrongs = [i for i, (x, y) in enumerate(zip(preds, targets)) if y != x]\n",
    "corrects = [i for i, (x, y) in enumerate(zip(preds, targets)) if y == x]"
   ]
  },
  {
   "cell_type": "markdown",
   "id": "7e315212-fc4e-42ac-b96f-640b14d3bc1e",
   "metadata": {},
   "source": [
    "# Visualization"
   ]
  },
  {
   "cell_type": "code",
   "execution_count": 27,
   "id": "3aaedb9b-1e8a-41b4-bc7e-dfd0d293a9d6",
   "metadata": {
    "tags": []
   },
   "outputs": [
    {
     "data": {
      "image/png": "[encoded data removed]",
      "text/plain": [
       "<Figure size 640x480 with 5 Axes>"
      ]
     },
     "metadata": {},
     "output_type": "display_data"
    }
   ],
   "source": [
    "n_samples = 5\n",
    "fig, ax = plt.subplots(1, n_samples)\n",
    "for i in range(0, n_samples):\n",
    "    img = transform(test_data[wrongs[i]][0])\n",
    "    ax[i].set_title(f\"T: {classes[targets[wrongs[i]]]}\\n P: {classes[preds[wrongs[i]]]}\", fontsize=10)\n",
    "    ax[i].imshow(img, cmap='gray')\n",
    "    ax[i].axis('off')"
   ]
  },
  {
   "cell_type": "markdown",
   "id": "bf91ba92-88b5-4ca8-b248-9f5fd7a9033a",
   "metadata": {},
   "source": [
    "# Conclusion\n",
    "\n",
    "The softmax implementation has considerably less parameters to tune and yields a slightly better accuracy when compared to the multilayer perceptron model proposed in Quickstart guide."
   ]
  },
  {
   "cell_type": "code",
   "execution_count": null,
   "id": "d59fb488-fe66-4d2b-808a-3e84e43b4ad2",
   "metadata": {},
   "outputs": [],
   "source": []
  }
 ],
 "metadata": {
  "kernelspec": {
   "display_name": "Python 3 (ipykernel)",
   "language": "python",
   "name": "python3"
  },
  "language_info": {
   "codemirror_mode": {
    "name": "ipython",
    "version": 3
   },
   "file_extension": ".py",
   "mimetype": "text/x-python",
   "name": "python",
   "nbconvert_exporter": "python",
   "pygments_lexer": "ipython3",
   "version": "3.10.9"
  }
 },
 "nbformat": 4,
 "nbformat_minor": 5
}
