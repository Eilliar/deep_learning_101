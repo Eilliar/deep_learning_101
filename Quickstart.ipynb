{
 "cells": [
  {
   "cell_type": "code",
   "execution_count": 1,
   "id": "5e51b286-84c1-4e0c-ba78-74fc70d361ca",
   "metadata": {
    "tags": []
   },
   "outputs": [],
   "source": [
    "import torch\n",
    "from torch import nn\n",
    "from torch.utils.data import DataLoader\n",
    "from torchvision import datasets\n",
    "from torchvision.transforms import ToTensor"
   ]
  },
  {
   "cell_type": "markdown",
   "id": "f9e238f1-df41-4d9c-b185-2b179d61a2d1",
   "metadata": {},
   "source": [
    "# Load Data\n",
    "\n",
    "Fashion MNIST Dataset"
   ]
  },
  {
   "cell_type": "code",
   "execution_count": 2,
   "id": "1be797f2-86dc-4dfa-b9cf-33efceaf77f0",
   "metadata": {
    "tags": []
   },
   "outputs": [
    {
     "name": "stdout",
     "output_type": "stream",
     "text": [
      "Downloading http://fashion-mnist.s3-website.eu-central-1.amazonaws.com/train-images-idx3-ubyte.gz\n",
      "Downloading http://fashion-mnist.s3-website.eu-central-1.amazonaws.com/train-images-idx3-ubyte.gz to data/FashionMNIST/raw/train-images-idx3-ubyte.gz\n"
     ]
    },
    {
     "name": "stderr",
     "output_type": "stream",
     "text": [
      "100%|████████████████████████████████████████████████████████████████████████████████████| 26421880/26421880 [00:03<00:00, 8261415.02it/s]\n"
     ]
    },
    {
     "name": "stdout",
     "output_type": "stream",
     "text": [
      "Extracting data/FashionMNIST/raw/train-images-idx3-ubyte.gz to data/FashionMNIST/raw\n",
      "\n",
      "Downloading http://fashion-mnist.s3-website.eu-central-1.amazonaws.com/train-labels-idx1-ubyte.gz\n",
      "Downloading http://fashion-mnist.s3-website.eu-central-1.amazonaws.com/train-labels-idx1-ubyte.gz to data/FashionMNIST/raw/train-labels-idx1-ubyte.gz\n"
     ]
    },
    {
     "name": "stderr",
     "output_type": "stream",
     "text": [
      "100%|███████████████████████████████████████████████████████████████████████████████████████████| 29515/29515 [00:00<00:00, 137537.34it/s]\n"
     ]
    },
    {
     "name": "stdout",
     "output_type": "stream",
     "text": [
      "Extracting data/FashionMNIST/raw/train-labels-idx1-ubyte.gz to data/FashionMNIST/raw\n",
      "\n",
      "Downloading http://fashion-mnist.s3-website.eu-central-1.amazonaws.com/t10k-images-idx3-ubyte.gz\n",
      "Downloading http://fashion-mnist.s3-website.eu-central-1.amazonaws.com/t10k-images-idx3-ubyte.gz to data/FashionMNIST/raw/t10k-images-idx3-ubyte.gz\n"
     ]
    },
    {
     "name": "stderr",
     "output_type": "stream",
     "text": [
      "100%|██████████████████████████████████████████████████████████████████████████████████████| 4422102/4422102 [00:01<00:00, 2594983.97it/s]\n"
     ]
    },
    {
     "name": "stdout",
     "output_type": "stream",
     "text": [
      "Extracting data/FashionMNIST/raw/t10k-images-idx3-ubyte.gz to data/FashionMNIST/raw\n",
      "\n",
      "Downloading http://fashion-mnist.s3-website.eu-central-1.amazonaws.com/t10k-labels-idx1-ubyte.gz\n",
      "Downloading http://fashion-mnist.s3-website.eu-central-1.amazonaws.com/t10k-labels-idx1-ubyte.gz to data/FashionMNIST/raw/t10k-labels-idx1-ubyte.gz\n"
     ]
    },
    {
     "name": "stderr",
     "output_type": "stream",
     "text": [
      "100%|████████████████████████████████████████████████████████████████████████████████████████████| 5148/5148 [00:00<00:00, 7185449.91it/s]\n"
     ]
    },
    {
     "name": "stdout",
     "output_type": "stream",
     "text": [
      "Extracting data/FashionMNIST/raw/t10k-labels-idx1-ubyte.gz to data/FashionMNIST/raw\n",
      "\n"
     ]
    }
   ],
   "source": [
    "# Download training data from open datasets.\n",
    "training_data = datasets.FashionMNIST(\n",
    "    root=\"data\",\n",
    "    train=True,\n",
    "    download=True,\n",
    "    transform=ToTensor(),\n",
    ")\n",
    "\n",
    "# Download test data from open datasets.\n",
    "test_data = datasets.FashionMNIST(\n",
    "    root=\"data\",\n",
    "    train=False,\n",
    "    download=True,\n",
    "    transform=ToTensor(),\n",
    ")"
   ]
  },
  {
   "cell_type": "code",
   "execution_count": 3,
   "id": "16cc97f4-fb99-4ad3-9636-135f798d092e",
   "metadata": {
    "tags": []
   },
   "outputs": [
    {
     "name": "stdout",
     "output_type": "stream",
     "text": [
      "Shape of X [N, C, H, W]: torch.Size([64, 1, 28, 28])\n",
      "Shape of y: torch.Size([64]) torch.int64\n"
     ]
    }
   ],
   "source": [
    "batch_size = 64\n",
    "\n",
    "# Create data loaders.\n",
    "train_dataloader = DataLoader(training_data, batch_size=batch_size)\n",
    "test_dataloader = DataLoader(test_data, batch_size=batch_size)\n",
    "\n",
    "for X, y in test_dataloader:\n",
    "    print(f\"Shape of X [N, C, H, W]: {X.shape}\")\n",
    "    print(f\"Shape of y: {y.shape} {y.dtype}\")\n",
    "    break"
   ]
  },
  {
   "cell_type": "code",
   "execution_count": 6,
   "id": "c9c6a87b-fe17-457c-bc5f-d09ab0477063",
   "metadata": {
    "tags": []
   },
   "outputs": [
    {
     "name": "stdout",
     "output_type": "stream",
     "text": [
      "Help on FashionMNIST in module torchvision.datasets.mnist object:\n",
      "\n",
      "class FashionMNIST(MNIST)\n",
      " |  FashionMNIST(root: str, train: bool = True, transform: Optional[Callable] = None, target_transform: Optional[Callable] = None, download: bool = False) -> None\n",
      " |  \n",
      " |  `Fashion-MNIST <https://github.com/zalandoresearch/fashion-mnist>`_ Dataset.\n",
      " |  \n",
      " |  Args:\n",
      " |      root (string): Root directory of dataset where ``FashionMNIST/raw/train-images-idx3-ubyte``\n",
      " |          and  ``FashionMNIST/raw/t10k-images-idx3-ubyte`` exist.\n",
      " |      train (bool, optional): If True, creates dataset from ``train-images-idx3-ubyte``,\n",
      " |          otherwise from ``t10k-images-idx3-ubyte``.\n",
      " |      download (bool, optional): If True, downloads the dataset from the internet and\n",
      " |          puts it in root directory. If dataset is already downloaded, it is not\n",
      " |          downloaded again.\n",
      " |      transform (callable, optional): A function/transform that  takes in an PIL image\n",
      " |          and returns a transformed version. E.g, ``transforms.RandomCrop``\n",
      " |      target_transform (callable, optional): A function/transform that takes in the\n",
      " |          target and transforms it.\n",
      " |  \n",
      " |  Method resolution order:\n",
      " |      FashionMNIST\n",
      " |      MNIST\n",
      " |      torchvision.datasets.vision.VisionDataset\n",
      " |      torch.utils.data.dataset.Dataset\n",
      " |      typing.Generic\n",
      " |      builtins.object\n",
      " |  \n",
      " |  Data and other attributes defined here:\n",
      " |  \n",
      " |  __annotations__ = {}\n",
      " |  \n",
      " |  __parameters__ = ()\n",
      " |  \n",
      " |  classes = ['T-shirt/top', 'Trouser', 'Pullover', 'Dress', 'Coat', 'San...\n",
      " |  \n",
      " |  mirrors = ['http://fashion-mnist.s3-website.eu-central-1.amazonaws.com...\n",
      " |  \n",
      " |  resources = [('train-images-idx3-ubyte.gz', '8d4fb7e6c68d591d4c3dfef9e...\n",
      " |  \n",
      " |  ----------------------------------------------------------------------\n",
      " |  Methods inherited from MNIST:\n",
      " |  \n",
      " |  __getitem__(self, index: int) -> Tuple[Any, Any]\n",
      " |      Args:\n",
      " |          index (int): Index\n",
      " |      \n",
      " |      Returns:\n",
      " |          tuple: (image, target) where target is index of the target class.\n",
      " |  \n",
      " |  __init__(self, root: str, train: bool = True, transform: Optional[Callable] = None, target_transform: Optional[Callable] = None, download: bool = False) -> None\n",
      " |      Initialize self.  See help(type(self)) for accurate signature.\n",
      " |  \n",
      " |  __len__(self) -> int\n",
      " |  \n",
      " |  download(self) -> None\n",
      " |      Download the MNIST data if it doesn't exist already.\n",
      " |  \n",
      " |  extra_repr(self) -> str\n",
      " |  \n",
      " |  ----------------------------------------------------------------------\n",
      " |  Readonly properties inherited from MNIST:\n",
      " |  \n",
      " |  class_to_idx\n",
      " |  \n",
      " |  processed_folder\n",
      " |  \n",
      " |  raw_folder\n",
      " |  \n",
      " |  test_data\n",
      " |  \n",
      " |  test_labels\n",
      " |  \n",
      " |  train_data\n",
      " |  \n",
      " |  train_labels\n",
      " |  \n",
      " |  ----------------------------------------------------------------------\n",
      " |  Data and other attributes inherited from MNIST:\n",
      " |  \n",
      " |  test_file = 'test.pt'\n",
      " |  \n",
      " |  training_file = 'training.pt'\n",
      " |  \n",
      " |  ----------------------------------------------------------------------\n",
      " |  Methods inherited from torchvision.datasets.vision.VisionDataset:\n",
      " |  \n",
      " |  __repr__(self) -> str\n",
      " |      Return repr(self).\n",
      " |  \n",
      " |  ----------------------------------------------------------------------\n",
      " |  Methods inherited from torch.utils.data.dataset.Dataset:\n",
      " |  \n",
      " |  __add__(self, other: 'Dataset[T_co]') -> 'ConcatDataset[T_co]'\n",
      " |  \n",
      " |  ----------------------------------------------------------------------\n",
      " |  Data descriptors inherited from torch.utils.data.dataset.Dataset:\n",
      " |  \n",
      " |  __dict__\n",
      " |      dictionary for instance variables (if defined)\n",
      " |  \n",
      " |  __weakref__\n",
      " |      list of weak references to the object (if defined)\n",
      " |  \n",
      " |  ----------------------------------------------------------------------\n",
      " |  Data and other attributes inherited from torch.utils.data.dataset.Dataset:\n",
      " |  \n",
      " |  __orig_bases__ = (typing.Generic[+T_co],)\n",
      " |  \n",
      " |  ----------------------------------------------------------------------\n",
      " |  Class methods inherited from typing.Generic:\n",
      " |  \n",
      " |  __class_getitem__(params) from builtins.type\n",
      " |  \n",
      " |  __init_subclass__(*args, **kwargs) from builtins.type\n",
      " |      This method is called when a class is subclassed.\n",
      " |      \n",
      " |      The default implementation does nothing. It may be\n",
      " |      overridden to extend subclasses.\n",
      "\n"
     ]
    }
   ],
   "source": [
    "help(test_data)"
   ]
  },
  {
   "cell_type": "code",
   "execution_count": 15,
   "id": "7ee681ff-2485-4b37-aed2-6f650e35d5d5",
   "metadata": {
    "tags": []
   },
   "outputs": [
    {
     "name": "stdout",
     "output_type": "stream",
     "text": [
      "There are 10 classes in training data\n"
     ]
    }
   ],
   "source": [
    "num_classes = len(training_data.classes)\n",
    "print(f\"There are {num_classes} classes in training data\")"
   ]
  },
  {
   "cell_type": "markdown",
   "id": "dcaa1755-4911-4eb2-847a-fcdc19f6fc21",
   "metadata": {},
   "source": [
    "# Model 1"
   ]
  },
  {
   "cell_type": "code",
   "execution_count": 4,
   "id": "bea016eb-dfaa-4871-8943-2f90ac30591e",
   "metadata": {
    "tags": []
   },
   "outputs": [
    {
     "name": "stdout",
     "output_type": "stream",
     "text": [
      "Using cuda device\n"
     ]
    }
   ],
   "source": [
    "# Get cpu, gpu or mps device for training.\n",
    "device = (\n",
    "    \"cuda\"\n",
    "    if torch.cuda.is_available()\n",
    "    else \"mps\"\n",
    "    if torch.backends.mps.is_available()\n",
    "    else \"cpu\"\n",
    ")\n",
    "print(f\"Using {device} device\")"
   ]
  },
  {
   "cell_type": "code",
   "execution_count": 26,
   "id": "a4a5bec2-274a-4c4e-96b1-6c956f967ce4",
   "metadata": {
    "tags": []
   },
   "outputs": [],
   "source": [
    "# Define model\n",
    "class NeuralNetwork(nn.Module):\n",
    "    def __init__(self, num_outputs):\n",
    "        super().__init__()\n",
    "        self.net = nn.Sequential(\n",
    "            nn.Flatten(),\n",
    "            nn.Linear(in_features=28*28, out_features=num_outputs)\n",
    "        )\n",
    "\n",
    "    def forward(self, x):\n",
    "        return self.net(x)"
   ]
  },
  {
   "cell_type": "code",
   "execution_count": 27,
   "id": "e2b499dc-9e2b-486f-a52a-356fef90dee8",
   "metadata": {
    "tags": []
   },
   "outputs": [
    {
     "name": "stdout",
     "output_type": "stream",
     "text": [
      "NeuralNetwork(\n",
      "  (net): Sequential(\n",
      "    (0): Flatten(start_dim=1, end_dim=-1)\n",
      "    (1): Linear(in_features=784, out_features=10, bias=True)\n",
      "  )\n",
      ")\n"
     ]
    }
   ],
   "source": [
    "model = NeuralNetwork(num_classes).to(device)\n",
    "print(model)"
   ]
  },
  {
   "cell_type": "markdown",
   "id": "02839fff-1187-451c-8c52-3c0bf7de7318",
   "metadata": {},
   "source": [
    "# Training"
   ]
  },
  {
   "cell_type": "code",
   "execution_count": 28,
   "id": "460f5dbf-5955-4fd6-bb67-5eb1a93341fb",
   "metadata": {
    "tags": []
   },
   "outputs": [],
   "source": [
    "loss_fn = nn.CrossEntropyLoss()\n",
    "optimizer = torch.optim.SGD(model.parameters(), lr=1e-3)"
   ]
  },
  {
   "cell_type": "code",
   "execution_count": 29,
   "id": "afda2efe-b403-4e3b-947f-abb8747be646",
   "metadata": {
    "tags": []
   },
   "outputs": [],
   "source": [
    "def train(dataloader, model, loss_fn, optimizer):\n",
    "    size = len(dataloader.dataset)\n",
    "    model.train()\n",
    "    for batch, (X, y) in enumerate(dataloader):\n",
    "        X, y = X.to(device), y.to(device)\n",
    "\n",
    "        # Compute prediction error\n",
    "        pred = model(X)\n",
    "        loss = loss_fn(pred, y)\n",
    "\n",
    "        # Backpropagation\n",
    "        optimizer.zero_grad()\n",
    "        loss.backward()\n",
    "        optimizer.step()\n",
    "\n",
    "        if batch % 100 == 0:\n",
    "            loss, current = loss.item(), (batch + 1) * len(X)\n",
    "            print(f\"loss: {loss:>7f}  [{current:>5d}/{size:>5d}]\")"
   ]
  },
  {
   "cell_type": "code",
   "execution_count": 30,
   "id": "79487fca-91db-4f32-a70b-20445c69e6fd",
   "metadata": {
    "tags": []
   },
   "outputs": [],
   "source": [
    "def test(dataloader, model, loss_fn):\n",
    "    size = len(dataloader.dataset)\n",
    "    num_batches = len(dataloader)\n",
    "    model.eval()\n",
    "    test_loss, correct = 0, 0\n",
    "    with torch.no_grad():\n",
    "        for X, y in dataloader:\n",
    "            X, y = X.to(device), y.to(device)\n",
    "            pred = model(X)\n",
    "            test_loss += loss_fn(pred, y).item()\n",
    "            correct += (pred.argmax(1) == y).type(torch.float).sum().item()\n",
    "    test_loss /= num_batches\n",
    "    correct /= size\n",
    "    print(f\"Test Error: \\n Accuracy: {(100*correct):>0.1f}%, Avg loss: {test_loss:>8f} \\n\")"
   ]
  },
  {
   "cell_type": "code",
   "execution_count": 31,
   "id": "59ae9354-0055-4dae-ac86-c19ee83c9412",
   "metadata": {
    "tags": []
   },
   "outputs": [
    {
     "name": "stdout",
     "output_type": "stream",
     "text": [
      "Epoch 1\n",
      "-------------------------------\n",
      "loss: 2.316381  [   64/60000]\n",
      "loss: 2.134012  [ 6464/60000]\n",
      "loss: 1.901960  [12864/60000]\n",
      "loss: 1.851697  [19264/60000]\n",
      "loss: 1.657638  [25664/60000]\n",
      "loss: 1.571808  [32064/60000]\n",
      "loss: 1.538441  [38464/60000]\n",
      "loss: 1.449284  [44864/60000]\n",
      "loss: 1.454130  [51264/60000]\n",
      "loss: 1.331357  [57664/60000]\n",
      "Test Error: \n",
      " Accuracy: 65.6%, Avg loss: 1.348110 \n",
      "\n",
      "Epoch 2\n",
      "-------------------------------\n",
      "loss: 1.394924  [   64/60000]\n",
      "loss: 1.397490  [ 6464/60000]\n",
      "loss: 1.198181  [12864/60000]\n",
      "loss: 1.321462  [19264/60000]\n",
      "loss: 1.158725  [25664/60000]\n",
      "loss: 1.154078  [32064/60000]\n",
      "loss: 1.178211  [38464/60000]\n",
      "loss: 1.126668  [44864/60000]\n",
      "loss: 1.165263  [51264/60000]\n",
      "loss: 1.073242  [57664/60000]\n",
      "Test Error: \n",
      " Accuracy: 67.1%, Avg loss: 1.095738 \n",
      "\n",
      "Epoch 3\n",
      "-------------------------------\n",
      "loss: 1.132401  [   64/60000]\n",
      "loss: 1.178379  [ 6464/60000]\n",
      "loss: 0.963545  [12864/60000]\n",
      "loss: 1.143012  [19264/60000]\n",
      "loss: 0.987211  [25664/60000]\n",
      "loss: 0.995211  [32064/60000]\n",
      "loss: 1.037015  [38464/60000]\n",
      "loss: 0.991910  [44864/60000]\n",
      "loss: 1.035578  [51264/60000]\n",
      "loss: 0.961316  [57664/60000]\n",
      "Test Error: \n",
      " Accuracy: 69.1%, Avg loss: 0.978371 \n",
      "\n",
      "Epoch 4\n",
      "-------------------------------\n",
      "loss: 1.001529  [   64/60000]\n",
      "loss: 1.070946  [ 6464/60000]\n",
      "loss: 0.842970  [12864/60000]\n",
      "loss: 1.052352  [19264/60000]\n",
      "loss: 0.900311  [25664/60000]\n",
      "loss: 0.910034  [32064/60000]\n",
      "loss: 0.958448  [38464/60000]\n",
      "loss: 0.916064  [44864/60000]\n",
      "loss: 0.960005  [51264/60000]\n",
      "loss: 0.896718  [57664/60000]\n",
      "Test Error: \n",
      " Accuracy: 70.9%, Avg loss: 0.908156 \n",
      "\n",
      "Epoch 5\n",
      "-------------------------------\n",
      "loss: 0.920096  [   64/60000]\n",
      "loss: 1.003979  [ 6464/60000]\n",
      "loss: 0.767506  [12864/60000]\n",
      "loss: 0.995764  [19264/60000]\n",
      "loss: 0.846685  [25664/60000]\n",
      "loss: 0.855430  [32064/60000]\n",
      "loss: 0.906375  [38464/60000]\n",
      "loss: 0.866529  [44864/60000]\n",
      "loss: 0.909441  [51264/60000]\n",
      "loss: 0.853197  [57664/60000]\n",
      "Test Error: \n",
      " Accuracy: 72.3%, Avg loss: 0.860032 \n",
      "\n",
      "Done!\n"
     ]
    }
   ],
   "source": [
    "epochs = 5\n",
    "for t in range(epochs):\n",
    "    print(f\"Epoch {t+1}\\n-------------------------------\")\n",
    "    train(train_dataloader, model, loss_fn, optimizer)\n",
    "    test(test_dataloader, model, loss_fn)\n",
    "print(\"Done!\")"
   ]
  },
  {
   "cell_type": "markdown",
   "id": "26d21c36-4086-48df-b648-4cbd347c33b2",
   "metadata": {},
   "source": [
    "# Inference"
   ]
  },
  {
   "cell_type": "code",
   "execution_count": 33,
   "id": "f927da28-a9c9-4d0a-974e-adbd6a7f4e97",
   "metadata": {
    "tags": []
   },
   "outputs": [],
   "source": [
    "classes = training_data.classes"
   ]
  },
  {
   "cell_type": "code",
   "execution_count": 70,
   "id": "a4fff27b-163e-4ae0-9244-7794455d4dd9",
   "metadata": {
    "tags": []
   },
   "outputs": [],
   "source": [
    "# Remember that you must call model.eval() to set dropout and \n",
    "# batch normalization layers to evaluation mode before running inference. \n",
    "# Failing to do this will yield inconsistent inference results.\n",
    "model.eval()\n",
    "\n",
    "preds = []\n",
    "targets = []\n",
    "for X, y in iter(test_data):\n",
    "    with torch.no_grad(): # Context-manager that disabled gradient calculation.\n",
    "        preds.append(model(X.to(device)).argmax(axis=1).item())\n",
    "        targets.append(y)"
   ]
  },
  {
   "cell_type": "code",
   "execution_count": 97,
   "id": "6512f570-1dc5-4214-83ba-f5346ffacec2",
   "metadata": {
    "tags": []
   },
   "outputs": [],
   "source": [
    "wrongs = [i for i, (x, y) in enumerate(zip(preds, targets)) if y != x]\n",
    "corrects = [i for i, (x, y) in enumerate(zip(preds, targets)) if y == x]"
   ]
  },
  {
   "cell_type": "markdown",
   "id": "3b6b4906-464e-413d-8f25-d6dde8865522",
   "metadata": {},
   "source": [
    "# Visualization"
   ]
  },
  {
   "cell_type": "code",
   "execution_count": 98,
   "id": "b327d9c2-1c05-428b-9f80-7add9f92c0f1",
   "metadata": {
    "tags": []
   },
   "outputs": [],
   "source": [
    "import matplotlib.pyplot as plt\n",
    "from PIL import Image\n",
    "from torchvision import transforms\n",
    "\n",
    "transform = transforms.ToPILImage()"
   ]
  },
  {
   "cell_type": "code",
   "execution_count": 99,
   "id": "2e8b7000-c1da-4d88-afc7-5a52e9b276f2",
   "metadata": {
    "tags": []
   },
   "outputs": [
    {
     "data": {
      "image/png": "[encoded data removed]",
      "text/plain": [
       "<Figure size 640x480 with 5 Axes>"
      ]
     },
     "metadata": {},
     "output_type": "display_data"
    }
   ],
   "source": [
    "n_samples = 5\n",
    "fig, ax = plt.subplots(1, n_samples)\n",
    "for i in range(0, n_samples):\n",
    "    img = transform(test_data[wrongs[i]][0])\n",
    "    ax[i].set_title(f\"T: {classes[targets[wrongs[i]]]}\\n P: {classes[preds[wrongs[i]]]}\", fontsize=10)\n",
    "    ax[i].imshow(img, cmap='gray')\n",
    "    ax[i].axis('off')"
   ]
  },
  {
   "cell_type": "code",
   "execution_count": 100,
   "id": "85ae1090-751e-4201-ac1f-09579d5dec7d",
   "metadata": {
    "tags": []
   },
   "outputs": [
    {
     "data": {
      "image/png": "[encoded data removed]",
      "text/plain": [
       "<Figure size 640x480 with 5 Axes>"
      ]
     },
     "metadata": {},
     "output_type": "display_data"
    }
   ],
   "source": [
    "n_samples = 5\n",
    "fig, ax = plt.subplots(1, n_samples)\n",
    "for i in range(0, n_samples):\n",
    "    img = transform(test_data[corrects[i]][0])\n",
    "    ax[i].set_title(f\"T: {classes[targets[corrects[i]]]}\\n P: {classes[preds[corrects[i]]]}\", fontsize=10)\n",
    "    ax[i].imshow(img, cmap='gray')\n",
    "    ax[i].axis('off')"
   ]
  },
  {
   "cell_type": "markdown",
   "id": "42438b33-5208-4b50-8b88-aae9191d1327",
   "metadata": {},
   "source": [
    "# Model 2"
   ]
  },
  {
   "cell_type": "code",
   "execution_count": 102,
   "id": "dc907ba3-efde-4fb7-ab2e-2e90928d4914",
   "metadata": {
    "tags": []
   },
   "outputs": [],
   "source": [
    "# Define model\n",
    "class NeuralNetwork_2(nn.Module):\n",
    "    def __init__(self, num_outputs):\n",
    "        super().__init__()\n",
    "        self.flatten = nn.Flatten()\n",
    "        self.linear_relu_stack = nn.Sequential(\n",
    "            nn.Linear(28*28, 512),\n",
    "            nn.ReLU(),\n",
    "            nn.Linear(512, 512),\n",
    "            nn.ReLU(),\n",
    "            nn.Linear(512, num_outputs)\n",
    "        )\n",
    "\n",
    "    def forward(self, x):\n",
    "        x = self.flatten(x)\n",
    "        logits = self.linear_relu_stack(x)\n",
    "        return logits"
   ]
  },
  {
   "cell_type": "code",
   "execution_count": 103,
   "id": "4da1d1fa-84ea-4228-9b70-d857eafa70af",
   "metadata": {
    "tags": []
   },
   "outputs": [
    {
     "name": "stdout",
     "output_type": "stream",
     "text": [
      "NeuralNetwork_2(\n",
      "  (flatten): Flatten(start_dim=1, end_dim=-1)\n",
      "  (linear_relu_stack): Sequential(\n",
      "    (0): Linear(in_features=784, out_features=512, bias=True)\n",
      "    (1): ReLU()\n",
      "    (2): Linear(in_features=512, out_features=512, bias=True)\n",
      "    (3): ReLU()\n",
      "    (4): Linear(in_features=512, out_features=10, bias=True)\n",
      "  )\n",
      ")\n"
     ]
    }
   ],
   "source": [
    "model = NeuralNetwork_2(num_classes).to(device)\n",
    "print(model)"
   ]
  },
  {
   "cell_type": "code",
   "execution_count": 104,
   "id": "775b3b44-6d8f-40be-ba4f-2f76f146aa81",
   "metadata": {
    "tags": []
   },
   "outputs": [],
   "source": [
    "loss_fn = nn.CrossEntropyLoss()\n",
    "optimizer = torch.optim.SGD(model.parameters(), lr=1e-3)"
   ]
  },
  {
   "cell_type": "code",
   "execution_count": 105,
   "id": "afd8939d-9641-41d9-a351-d1cec95dadf3",
   "metadata": {
    "tags": []
   },
   "outputs": [
    {
     "name": "stdout",
     "output_type": "stream",
     "text": [
      "Epoch 1\n",
      "-------------------------------\n",
      "loss: 2.311048  [   64/60000]\n",
      "loss: 2.291813  [ 6464/60000]\n",
      "loss: 2.269385  [12864/60000]\n",
      "loss: 2.257255  [19264/60000]\n",
      "loss: 2.251544  [25664/60000]\n",
      "loss: 2.220616  [32064/60000]\n",
      "loss: 2.218615  [38464/60000]\n",
      "loss: 2.189704  [44864/60000]\n",
      "loss: 2.185480  [51264/60000]\n",
      "loss: 2.141495  [57664/60000]\n",
      "Test Error: \n",
      " Accuracy: 51.7%, Avg loss: 2.144535 \n",
      "\n",
      "Epoch 2\n",
      "-------------------------------\n",
      "loss: 2.160063  [   64/60000]\n",
      "loss: 2.146912  [ 6464/60000]\n",
      "loss: 2.085392  [12864/60000]\n",
      "loss: 2.092832  [19264/60000]\n",
      "loss: 2.058709  [25664/60000]\n",
      "loss: 1.989423  [32064/60000]\n",
      "loss: 2.003285  [38464/60000]\n",
      "loss: 1.932103  [44864/60000]\n",
      "loss: 1.933762  [51264/60000]\n",
      "loss: 1.844371  [57664/60000]\n",
      "Test Error: \n",
      " Accuracy: 59.2%, Avg loss: 1.857330 \n",
      "\n",
      "Epoch 3\n",
      "-------------------------------\n",
      "loss: 1.896463  [   64/60000]\n",
      "loss: 1.861593  [ 6464/60000]\n",
      "loss: 1.745633  [12864/60000]\n",
      "loss: 1.776139  [19264/60000]\n",
      "loss: 1.679672  [25664/60000]\n",
      "loss: 1.629313  [32064/60000]\n",
      "loss: 1.632511  [38464/60000]\n",
      "loss: 1.548512  [44864/60000]\n",
      "loss: 1.573128  [51264/60000]\n",
      "loss: 1.454890  [57664/60000]\n",
      "Test Error: \n",
      " Accuracy: 61.5%, Avg loss: 1.485728 \n",
      "\n",
      "Epoch 4\n",
      "-------------------------------\n",
      "loss: 1.557457  [   64/60000]\n",
      "loss: 1.518885  [ 6464/60000]\n",
      "loss: 1.375569  [12864/60000]\n",
      "loss: 1.441742  [19264/60000]\n",
      "loss: 1.335065  [25664/60000]\n",
      "loss: 1.325660  [32064/60000]\n",
      "loss: 1.328044  [38464/60000]\n",
      "loss: 1.263776  [44864/60000]\n",
      "loss: 1.298468  [51264/60000]\n",
      "loss: 1.195260  [57664/60000]\n",
      "Test Error: \n",
      " Accuracy: 63.8%, Avg loss: 1.226438 \n",
      "\n",
      "Epoch 5\n",
      "-------------------------------\n",
      "loss: 1.304531  [   64/60000]\n",
      "loss: 1.283765  [ 6464/60000]\n",
      "loss: 1.123553  [12864/60000]\n",
      "loss: 1.228023  [19264/60000]\n",
      "loss: 1.115649  [25664/60000]\n",
      "loss: 1.128421  [32064/60000]\n",
      "loss: 1.143337  [38464/60000]\n",
      "loss: 1.087004  [44864/60000]\n",
      "loss: 1.125502  [51264/60000]\n",
      "loss: 1.043935  [57664/60000]\n",
      "Test Error: \n",
      " Accuracy: 65.2%, Avg loss: 1.066293 \n",
      "\n",
      "Done!\n"
     ]
    }
   ],
   "source": [
    "epochs = 5\n",
    "for t in range(epochs):\n",
    "    print(f\"Epoch {t+1}\\n-------------------------------\")\n",
    "    train(train_dataloader, model, loss_fn, optimizer)\n",
    "    test(test_dataloader, model, loss_fn)\n",
    "print(\"Done!\")"
   ]
  },
  {
   "cell_type": "markdown",
   "id": "22c29f52-7714-467b-adf6-6d03aa194bf9",
   "metadata": {},
   "source": [
    "# Inference"
   ]
  },
  {
   "cell_type": "code",
   "execution_count": 106,
   "id": "48494a59-543c-4d9c-9710-02673db15222",
   "metadata": {
    "tags": []
   },
   "outputs": [],
   "source": [
    "classes = training_data.classes"
   ]
  },
  {
   "cell_type": "code",
   "execution_count": 107,
   "id": "ebad5230-46ee-4b07-9ffb-05febf81cd6e",
   "metadata": {
    "tags": []
   },
   "outputs": [],
   "source": [
    "# Remember that you must call model.eval() to set dropout and \n",
    "# batch normalization layers to evaluation mode before running inference. \n",
    "# Failing to do this will yield inconsistent inference results.\n",
    "model.eval()\n",
    "\n",
    "preds = []\n",
    "targets = []\n",
    "for X, y in iter(test_data):\n",
    "    with torch.no_grad(): # Context-manager that disabled gradient calculation.\n",
    "        preds.append(model(X.to(device)).argmax(axis=1).item())\n",
    "        targets.append(y)"
   ]
  },
  {
   "cell_type": "code",
   "execution_count": 108,
   "id": "1fa7ef26-0d2e-4e8f-abb9-6d38c7332e44",
   "metadata": {
    "tags": []
   },
   "outputs": [],
   "source": [
    "wrongs = [i for i, (x, y) in enumerate(zip(preds, targets)) if y != x]\n",
    "corrects = [i for i, (x, y) in enumerate(zip(preds, targets)) if y == x]"
   ]
  },
  {
   "cell_type": "markdown",
   "id": "7e315212-fc4e-42ac-b96f-640b14d3bc1e",
   "metadata": {},
   "source": [
    "# Visualization"
   ]
  },
  {
   "cell_type": "code",
   "execution_count": 109,
   "id": "3aaedb9b-1e8a-41b4-bc7e-dfd0d293a9d6",
   "metadata": {
    "tags": []
   },
   "outputs": [
    {
     "data": {
      "image/png": "[encoded data removed]",
      "text/plain": [
       "<Figure size 640x480 with 5 Axes>"
      ]
     },
     "metadata": {},
     "output_type": "display_data"
    }
   ],
   "source": [
    "n_samples = 5\n",
    "fig, ax = plt.subplots(1, n_samples)\n",
    "for i in range(0, n_samples):\n",
    "    img = transform(test_data[wrongs[i]][0])\n",
    "    ax[i].set_title(f\"T: {classes[targets[wrongs[i]]]}\\n P: {classes[preds[wrongs[i]]]}\", fontsize=10)\n",
    "    ax[i].imshow(img, cmap='gray')\n",
    "    ax[i].axis('off')"
   ]
  },
  {
   "cell_type": "code",
   "execution_count": null,
   "id": "8d7410cd-c2c5-480e-a4e1-0ccd9dbeea73",
   "metadata": {},
   "outputs": [],
   "source": []
  }
 ],
 "metadata": {
  "kernelspec": {
   "display_name": "Python 3 (ipykernel)",
   "language": "python",
   "name": "python3"
  },
  "language_info": {
   "codemirror_mode": {
    "name": "ipython",
    "version": 3
   },
   "file_extension": ".py",
   "mimetype": "text/x-python",
   "name": "python",
   "nbconvert_exporter": "python",
   "pygments_lexer": "ipython3",
   "version": "3.10.9"
  }
 },
 "nbformat": 4,
 "nbformat_minor": 5
}
